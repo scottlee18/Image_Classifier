{
 "cells": [
  {
   "cell_type": "markdown",
   "metadata": {
    "id": "40rYc2c9fPqi"
   },
   "source": [
    "Below is the code used to generate the final models. Please note that it includes the random forest (final model), SVM and logistic regression models.\n",
    "The code base heavily relies on the template provided for this asssigment. \n",
    "This code base was tuned manualy as I experimented with different paramters, however the code submitted was my optimal results. \n",
    "\n",
    "Please note that this is my experimental code base. There was a seperate file *(also submitted) which I used for my EDA. "
   ]
  },
  {
   "cell_type": "code",
   "execution_count": 32,
   "metadata": {
    "colab": {
     "base_uri": "https://localhost:8080/"
    },
    "id": "EiDIoAUvkxL8",
    "outputId": "75c7259b-a1bf-459e-cab8-a6d59e227004"
   },
   "outputs": [
    {
     "name": "stdout",
     "output_type": "stream",
     "text": [
      "Drive already mounted at /content/drive; to attempt to forcibly remount, call drive.mount(\"/content/drive\", force_remount=True).\n"
     ]
    }
   ],
   "source": [
    "# mount the google drive in your notebook in case you want to use Google Colab\n",
    "# if you want to use your local machine, you don't need to run this cell instead, you need to download the data and load it locally\n",
    "from google.colab import drive\n",
    "drive.mount('/content/drive') "
   ]
  },
  {
   "cell_type": "code",
   "execution_count": 33,
   "metadata": {
    "id": "YAz-5ZZrlEkd"
   },
   "outputs": [],
   "source": [
    "import pandas as pd\n",
    "import matplotlib.pyplot as plt\n",
    "import numpy as np\n",
    "#to import cv2 on your local machine, first run pip install opencv-python\n",
    "import cv2"
   ]
  },
  {
   "cell_type": "code",
   "execution_count": 34,
   "metadata": {
    "colab": {
     "base_uri": "https://localhost:8080/",
     "height": 206
    },
    "id": "kckysdsslGb3",
    "outputId": "fe7f4edc-2901-492e-f46e-2e1e4388472c"
   },
   "outputs": [
    {
     "data": {
      "text/html": [
       "<div>\n",
       "<style scoped>\n",
       "    .dataframe tbody tr th:only-of-type {\n",
       "        vertical-align: middle;\n",
       "    }\n",
       "\n",
       "    .dataframe tbody tr th {\n",
       "        vertical-align: top;\n",
       "    }\n",
       "\n",
       "    .dataframe thead th {\n",
       "        text-align: right;\n",
       "    }\n",
       "</style>\n",
       "<table border=\"1\" class=\"dataframe\">\n",
       "  <thead>\n",
       "    <tr style=\"text-align: right;\">\n",
       "      <th></th>\n",
       "      <th>ID</th>\n",
       "      <th>Label</th>\n",
       "      <th>Label_Confidence</th>\n",
       "    </tr>\n",
       "  </thead>\n",
       "  <tbody>\n",
       "    <tr>\n",
       "      <th>0</th>\n",
       "      <td>818021711</td>\n",
       "      <td>Positive</td>\n",
       "      <td>0.6715</td>\n",
       "    </tr>\n",
       "    <tr>\n",
       "      <th>1</th>\n",
       "      <td>911806503</td>\n",
       "      <td>Positive</td>\n",
       "      <td>0.6642</td>\n",
       "    </tr>\n",
       "    <tr>\n",
       "      <th>2</th>\n",
       "      <td>882035319</td>\n",
       "      <td>Negative</td>\n",
       "      <td>0.6683</td>\n",
       "    </tr>\n",
       "    <tr>\n",
       "      <th>3</th>\n",
       "      <td>880892525</td>\n",
       "      <td>Neutral</td>\n",
       "      <td>0.3360</td>\n",
       "    </tr>\n",
       "    <tr>\n",
       "      <th>4</th>\n",
       "      <td>828003448</td>\n",
       "      <td>Positive</td>\n",
       "      <td>1.0000</td>\n",
       "    </tr>\n",
       "  </tbody>\n",
       "</table>\n",
       "</div>"
      ],
      "text/plain": [
       "          ID     Label  Label_Confidence\n",
       "0  818021711  Positive            0.6715\n",
       "1  911806503  Positive            0.6642\n",
       "2  882035319  Negative            0.6683\n",
       "3  880892525   Neutral            0.3360\n",
       "4  828003448  Positive            1.0000"
      ]
     },
     "execution_count": 34,
     "metadata": {},
     "output_type": "execute_result"
    }
   ],
   "source": [
    "base_url = '/content/drive/Shareddrives/FIT5149_TP6_A2/' # the shared drive base url\n",
    "train_df = pd.read_csv(base_url + 'trainset_students.csv')\n",
    "train_df.head()"
   ]
  },
  {
   "cell_type": "markdown",
   "metadata": {
    "id": "XzhKcdaCtFtW"
   },
   "source": [
    "Here, after refering to EDA file, insert label confidence cut off criteria, i.e. reduce the dataframe size to sample above a certain level of label confidence."
   ]
  },
  {
   "cell_type": "code",
   "execution_count": 35,
   "metadata": {
    "colab": {
     "base_uri": "https://localhost:8080/",
     "height": 424
    },
    "id": "eccOQw9bkIX8",
    "outputId": "689ae614-3984-44c7-e4f4-d3ef86a1efd5"
   },
   "outputs": [
    {
     "data": {
      "text/html": [
       "<div>\n",
       "<style scoped>\n",
       "    .dataframe tbody tr th:only-of-type {\n",
       "        vertical-align: middle;\n",
       "    }\n",
       "\n",
       "    .dataframe tbody tr th {\n",
       "        vertical-align: top;\n",
       "    }\n",
       "\n",
       "    .dataframe thead th {\n",
       "        text-align: right;\n",
       "    }\n",
       "</style>\n",
       "<table border=\"1\" class=\"dataframe\">\n",
       "  <thead>\n",
       "    <tr style=\"text-align: right;\">\n",
       "      <th></th>\n",
       "      <th>ID</th>\n",
       "      <th>Label</th>\n",
       "      <th>Label_Confidence</th>\n",
       "    </tr>\n",
       "  </thead>\n",
       "  <tbody>\n",
       "    <tr>\n",
       "      <th>0</th>\n",
       "      <td>818021711</td>\n",
       "      <td>Positive</td>\n",
       "      <td>0.6715</td>\n",
       "    </tr>\n",
       "    <tr>\n",
       "      <th>1</th>\n",
       "      <td>911806503</td>\n",
       "      <td>Positive</td>\n",
       "      <td>0.6642</td>\n",
       "    </tr>\n",
       "    <tr>\n",
       "      <th>2</th>\n",
       "      <td>882035319</td>\n",
       "      <td>Negative</td>\n",
       "      <td>0.6683</td>\n",
       "    </tr>\n",
       "    <tr>\n",
       "      <th>4</th>\n",
       "      <td>828003448</td>\n",
       "      <td>Positive</td>\n",
       "      <td>1.0000</td>\n",
       "    </tr>\n",
       "    <tr>\n",
       "      <th>5</th>\n",
       "      <td>146000529</td>\n",
       "      <td>Positive</td>\n",
       "      <td>0.6716</td>\n",
       "    </tr>\n",
       "    <tr>\n",
       "      <th>...</th>\n",
       "      <td>...</td>\n",
       "      <td>...</td>\n",
       "      <td>...</td>\n",
       "    </tr>\n",
       "    <tr>\n",
       "      <th>9431</th>\n",
       "      <td>480549023</td>\n",
       "      <td>Positive</td>\n",
       "      <td>1.0000</td>\n",
       "    </tr>\n",
       "    <tr>\n",
       "      <th>9432</th>\n",
       "      <td>316247246</td>\n",
       "      <td>Positive</td>\n",
       "      <td>0.6667</td>\n",
       "    </tr>\n",
       "    <tr>\n",
       "      <th>9433</th>\n",
       "      <td>455970656</td>\n",
       "      <td>Positive</td>\n",
       "      <td>0.6716</td>\n",
       "    </tr>\n",
       "    <tr>\n",
       "      <th>9434</th>\n",
       "      <td>380127764</td>\n",
       "      <td>Positive</td>\n",
       "      <td>0.6677</td>\n",
       "    </tr>\n",
       "    <tr>\n",
       "      <th>9436</th>\n",
       "      <td>358073153</td>\n",
       "      <td>Positive</td>\n",
       "      <td>1.0000</td>\n",
       "    </tr>\n",
       "  </tbody>\n",
       "</table>\n",
       "<p>8361 rows × 3 columns</p>\n",
       "</div>"
      ],
      "text/plain": [
       "             ID     Label  Label_Confidence\n",
       "0     818021711  Positive            0.6715\n",
       "1     911806503  Positive            0.6642\n",
       "2     882035319  Negative            0.6683\n",
       "4     828003448  Positive            1.0000\n",
       "5     146000529  Positive            0.6716\n",
       "...         ...       ...               ...\n",
       "9431  480549023  Positive            1.0000\n",
       "9432  316247246  Positive            0.6667\n",
       "9433  455970656  Positive            0.6716\n",
       "9434  380127764  Positive            0.6677\n",
       "9436  358073153  Positive            1.0000\n",
       "\n",
       "[8361 rows x 3 columns]"
      ]
     },
     "execution_count": 35,
     "metadata": {},
     "output_type": "execute_result"
    }
   ],
   "source": [
    "#Reduced df size based off a Label_Confidence Criteria of >= 0.4\n",
    "conf_level = train_df['Label_Confidence'] > 0.5\n",
    "train_df_65_conf = train_df[conf_level]\n",
    "train_df = train_df_65_conf\n",
    "train_df"
   ]
  },
  {
   "cell_type": "markdown",
   "metadata": {
    "id": "BrHCNum2rS3C"
   },
   "source": [
    "Feature Extraction - Provided by template"
   ]
  },
  {
   "cell_type": "code",
   "execution_count": 36,
   "metadata": {
    "colab": {
     "base_uri": "https://localhost:8080/"
    },
    "id": "d6YV34E6rUwk",
    "outputId": "a6674ac8-1c15-4968-8f2c-fcd50f7fba5f"
   },
   "outputs": [
    {
     "name": "stdout",
     "output_type": "stream",
     "text": [
      "Requirement already satisfied: mahotas==1.4.11 in /usr/local/lib/python3.7/dist-packages (1.4.11)\n",
      "Requirement already satisfied: numpy in /usr/local/lib/python3.7/dist-packages (from mahotas==1.4.11) (1.19.5)\n"
     ]
    }
   ],
   "source": [
    "!pip install mahotas==1.4.11"
   ]
  },
  {
   "cell_type": "code",
   "execution_count": 37,
   "metadata": {
    "id": "0Fk2pq3crbhm"
   },
   "outputs": [],
   "source": [
    "#import libraries\n",
    "from sklearn.preprocessing import LabelEncoder\n",
    "from sklearn.preprocessing import MinMaxScaler\n",
    "#to import mahotas on your local machine first run pip install mahotas==1.4.11\n",
    "import mahotas\n",
    "#to import cv2 on your local machine, first run pip install opencv-python\n",
    "import cv2\n",
    "import os"
   ]
  },
  {
   "cell_type": "markdown",
   "metadata": {
    "id": "yZd9LMY4sWYZ"
   },
   "source": [
    "Feature Extractors"
   ]
  },
  {
   "cell_type": "code",
   "execution_count": 38,
   "metadata": {
    "id": "Rn7_zhjCrh_J"
   },
   "outputs": [],
   "source": [
    "# feature-descriptor-1: Hu Moments\n",
    "# here is more info about this feature\n",
    "# https://learnopencv.com/shape-matching-using-hu-moments-c-python/\n",
    "def fd_hu_moments(image):\n",
    "    image = cv2.cvtColor(image, cv2.COLOR_BGR2GRAY)\n",
    "    feature = cv2.HuMoments(cv2.moments(image)).flatten()\n",
    "    return feature"
   ]
  },
  {
   "cell_type": "code",
   "execution_count": 39,
   "metadata": {
    "id": "PAU2nwWtsZ4O"
   },
   "outputs": [],
   "source": [
    "# feature-descriptor-2: Haralick Texture\n",
    "# here is more info about this feature\n",
    "# https://www.nature.com/articles/s41598-017-04151-4\n",
    "\n",
    "def fd_haralick(image):\n",
    "    # convert the image to grayscale\n",
    "    gray = cv2.cvtColor(image, cv2.COLOR_BGR2GRAY)\n",
    "    # compute the haralick texture feature vector\n",
    "    haralick = mahotas.features.haralick(gray).mean(axis=0)\n",
    "    # return the result\n",
    "    return haralick"
   ]
  },
  {
   "cell_type": "code",
   "execution_count": 40,
   "metadata": {
    "id": "dSbcGNursjSZ"
   },
   "outputs": [],
   "source": [
    "# feature-descriptor-3: Color Histogram\n",
    "# here is more info about this feature\n",
    "# https://en.wikipedia.org/wiki/Color_histogram\n",
    "def fd_histogram(image, mask=None, bins = 8):\n",
    "    # convert the image to HSV color-space\n",
    "    image = cv2.cvtColor(image, cv2.COLOR_BGR2HSV)\n",
    "    # compute the color histogram\n",
    "    hist  = cv2.calcHist([image], [0, 1, 2], None, [bins, bins, bins], [0, 256, 0, 256, 0, 256])\n",
    "    # normalize the histogram\n",
    "    cv2.normalize(hist, hist)\n",
    "    # return the histogram\n",
    "    return hist.flatten()"
   ]
  },
  {
   "cell_type": "code",
   "execution_count": 42,
   "metadata": {
    "id": "xreDueAmtRPD"
   },
   "outputs": [],
   "source": [
    "# to convert the input image to a fixed size of (500, 500).\n",
    "# this can take a while on Colab beacuse of the I/O time (around 30 minutes, I stopped it after 20!)\n",
    "fixed_size = tuple((500, 500))\n",
    "\n",
    "# empty lists to hold feature vectors and labels\n",
    "global_features = []\n",
    "labels = []\n",
    "confidence = []\n",
    "\n",
    "# loop over the images\n",
    "for row in train_df.iterrows():\n",
    "    # get the image file name\n",
    "    file = base_url + \"images/\"  + str(row[1]['ID']) + \".jpg\"\n",
    "\n",
    "    # read the image and resize it to a fixed-size\n",
    "    image = cv2.imread(file)\n",
    "    image = cv2.resize(image, fixed_size)\n",
    "\n",
    "    ####################################\n",
    "    # Global Feature extraction\n",
    "    ####################################\n",
    "    fv_hu_moments = fd_hu_moments(image)\n",
    "    fv_haralick   = fd_haralick(image)\n",
    "    fv_histogram  = fd_histogram(image, bins = 8)\n",
    "\n",
    "    ###################################\n",
    "    # Concatenate global features\n",
    "    ###################################\n",
    "    global_feature = np.hstack([fv_histogram, fv_haralick, fv_hu_moments])\n",
    "    # global_feature = np.hstack([fv_histogram, fv_hu_moments])\n",
    "\n",
    "    # update the list of labels and feature vectors\n",
    "    labels.append(row[1]['Label'])\n",
    "    confidence.append(row[1]['Label_Confidence'])\n",
    "    global_features.append(global_feature)"
   ]
  },
  {
   "cell_type": "code",
   "execution_count": 66,
   "metadata": {
    "colab": {
     "base_uri": "https://localhost:8080/"
    },
    "id": "nyJ1x7HXMVzi",
    "outputId": "cb1f19d7-3431-4e1b-be42-ffd25aca533d"
   },
   "outputs": [
    {
     "name": "stdout",
     "output_type": "stream",
     "text": [
      "[STATUS] feature vector size (8361, 532)\n",
      "[STATUS] training Labels (8361,)\n",
      "[STATUS] training labels encoded...\n",
      "[STATUS] feature vector normalized...\n",
      "[STATUS] target labels: [4 4 2 ... 4 4 4]\n",
      "[STATUS] target labels shape: (8361,)\n"
     ]
    }
   ],
   "source": [
    "# get the overall feature vector size\n",
    "print(\"[STATUS] feature vector size {}\".format(np.array(global_features).shape))\n",
    "\n",
    "# get the overall training label size\n",
    "print(\"[STATUS] training Labels {}\".format(np.array(labels).shape))\n",
    "\n",
    "# encode the target labels\n",
    "targetNames = np.unique(labels)\n",
    "le = LabelEncoder()\n",
    "target = le.fit_transform(labels)\n",
    "print(\"[STATUS] training labels encoded...\")\n",
    "\n",
    "# scale features in the range (0-1)\n",
    "scaler = MinMaxScaler(feature_range=(0, 1))\n",
    "rescaled_features = scaler.fit_transform(global_features)\n",
    "print(\"[STATUS] feature vector normalized...\")\n",
    "\n",
    "print(\"[STATUS] target labels: {}\".format(target))\n",
    "print(\"[STATUS] target labels shape: {}\".format(target.shape))"
   ]
  },
  {
   "cell_type": "code",
   "execution_count": 67,
   "metadata": {
    "id": "KejdZWYEMaSU"
   },
   "outputs": [],
   "source": [
    "prepared_X_train = pd.DataFrame(rescaled_features)\n",
    "prepared_y_train = pd.DataFrame(target)"
   ]
  },
  {
   "cell_type": "markdown",
   "metadata": {
    "id": "ODzY9U5iMtcY"
   },
   "source": [
    "Model Development"
   ]
  },
  {
   "cell_type": "code",
   "execution_count": 68,
   "metadata": {
    "id": "gRA_1HN1MtLG"
   },
   "outputs": [],
   "source": [
    "from sklearn.model_selection import cross_val_score\n",
    "from sklearn.model_selection import KFold, StratifiedKFold\n",
    "from sklearn.metrics import confusion_matrix, accuracy_score, classification_report\n",
    "from sklearn.linear_model import LogisticRegression\n",
    "from sklearn.tree import DecisionTreeClassifier\n",
    "from sklearn.ensemble import RandomForestClassifier\n",
    "from sklearn.neighbors import KNeighborsClassifier\n",
    "from sklearn.discriminant_analysis import LinearDiscriminantAnalysis\n",
    "from sklearn.naive_bayes import GaussianNB\n",
    "from sklearn.svm import SVC\n",
    "#Additional classsifiers to assess\n",
    "from sklearn.preprocessing import StandardScaler\n",
    "from sklearn.pipeline import make_pipeline\n",
    "from sklearn.linear_model import SGDClassifier\n",
    "from sklearn.ensemble import GradientBoostingClassifier\n"
   ]
  },
  {
   "cell_type": "code",
   "execution_count": 69,
   "metadata": {
    "id": "-CNX-Y1JMyy1"
   },
   "outputs": [],
   "source": [
    "# create some machine learning models\n",
    "seed = 9\n",
    "num_trees = 400\n",
    "models = []\n",
    "models.append(('LR', LogisticRegression(random_state=seed)))\n",
    "models.append(('LDA', LinearDiscriminantAnalysis()))\n",
    "models.append(('KNN', KNeighborsClassifier()))\n",
    "models.append(('CART', DecisionTreeClassifier(random_state=seed)))\n",
    "models.append(('RF', RandomForestClassifier(n_estimators=num_trees, random_state=seed)))\n",
    "models.append(('NB', GaussianNB()))\n",
    "models.append(('SVM', SVC(random_state=seed)))\n",
    "#Insert addtional classifiers.\n",
    "models.append(('SGD', make_pipeline(StandardScaler(), SGDClassifier(max_iter=1000, tol=1e-3))))\n",
    "models.append(('GBC', GradientBoostingClassifier(n_estimators=100, learning_rate=1.0,max_depth=1, random_state=seed)))"
   ]
  },
  {
   "cell_type": "code",
   "execution_count": 70,
   "metadata": {
    "colab": {
     "base_uri": "https://localhost:8080/"
    },
    "id": "_xwEB2UEMy6f",
    "outputId": "7b129547-5ce7-4fa1-c741-e644889c0456"
   },
   "outputs": [
    {
     "name": "stderr",
     "output_type": "stream",
     "text": [
      "/usr/local/lib/python3.7/dist-packages/sklearn/linear_model/_logistic.py:818: ConvergenceWarning: lbfgs failed to converge (status=1):\n",
      "STOP: TOTAL NO. of ITERATIONS REACHED LIMIT.\n",
      "\n",
      "Increase the number of iterations (max_iter) or scale the data as shown in:\n",
      "    https://scikit-learn.org/stable/modules/preprocessing.html\n",
      "Please also refer to the documentation for alternative solver options:\n",
      "    https://scikit-learn.org/stable/modules/linear_model.html#logistic-regression\n",
      "  extra_warning_msg=_LOGISTIC_SOLVER_CONVERGENCE_MSG,\n",
      "/usr/local/lib/python3.7/dist-packages/sklearn/linear_model/_logistic.py:818: ConvergenceWarning: lbfgs failed to converge (status=1):\n",
      "STOP: TOTAL NO. of ITERATIONS REACHED LIMIT.\n",
      "\n",
      "Increase the number of iterations (max_iter) or scale the data as shown in:\n",
      "    https://scikit-learn.org/stable/modules/preprocessing.html\n",
      "Please also refer to the documentation for alternative solver options:\n",
      "    https://scikit-learn.org/stable/modules/linear_model.html#logistic-regression\n",
      "  extra_warning_msg=_LOGISTIC_SOLVER_CONVERGENCE_MSG,\n",
      "/usr/local/lib/python3.7/dist-packages/sklearn/linear_model/_logistic.py:818: ConvergenceWarning: lbfgs failed to converge (status=1):\n",
      "STOP: TOTAL NO. of ITERATIONS REACHED LIMIT.\n",
      "\n",
      "Increase the number of iterations (max_iter) or scale the data as shown in:\n",
      "    https://scikit-learn.org/stable/modules/preprocessing.html\n",
      "Please also refer to the documentation for alternative solver options:\n",
      "    https://scikit-learn.org/stable/modules/linear_model.html#logistic-regression\n",
      "  extra_warning_msg=_LOGISTIC_SOLVER_CONVERGENCE_MSG,\n",
      "/usr/local/lib/python3.7/dist-packages/sklearn/linear_model/_logistic.py:818: ConvergenceWarning: lbfgs failed to converge (status=1):\n",
      "STOP: TOTAL NO. of ITERATIONS REACHED LIMIT.\n",
      "\n",
      "Increase the number of iterations (max_iter) or scale the data as shown in:\n",
      "    https://scikit-learn.org/stable/modules/preprocessing.html\n",
      "Please also refer to the documentation for alternative solver options:\n",
      "    https://scikit-learn.org/stable/modules/linear_model.html#logistic-regression\n",
      "  extra_warning_msg=_LOGISTIC_SOLVER_CONVERGENCE_MSG,\n",
      "/usr/local/lib/python3.7/dist-packages/sklearn/linear_model/_logistic.py:818: ConvergenceWarning: lbfgs failed to converge (status=1):\n",
      "STOP: TOTAL NO. of ITERATIONS REACHED LIMIT.\n",
      "\n",
      "Increase the number of iterations (max_iter) or scale the data as shown in:\n",
      "    https://scikit-learn.org/stable/modules/preprocessing.html\n",
      "Please also refer to the documentation for alternative solver options:\n",
      "    https://scikit-learn.org/stable/modules/linear_model.html#logistic-regression\n",
      "  extra_warning_msg=_LOGISTIC_SOLVER_CONVERGENCE_MSG,\n",
      "/usr/local/lib/python3.7/dist-packages/sklearn/linear_model/_logistic.py:818: ConvergenceWarning: lbfgs failed to converge (status=1):\n",
      "STOP: TOTAL NO. of ITERATIONS REACHED LIMIT.\n",
      "\n",
      "Increase the number of iterations (max_iter) or scale the data as shown in:\n",
      "    https://scikit-learn.org/stable/modules/preprocessing.html\n",
      "Please also refer to the documentation for alternative solver options:\n",
      "    https://scikit-learn.org/stable/modules/linear_model.html#logistic-regression\n",
      "  extra_warning_msg=_LOGISTIC_SOLVER_CONVERGENCE_MSG,\n",
      "/usr/local/lib/python3.7/dist-packages/sklearn/linear_model/_logistic.py:818: ConvergenceWarning: lbfgs failed to converge (status=1):\n",
      "STOP: TOTAL NO. of ITERATIONS REACHED LIMIT.\n",
      "\n",
      "Increase the number of iterations (max_iter) or scale the data as shown in:\n",
      "    https://scikit-learn.org/stable/modules/preprocessing.html\n",
      "Please also refer to the documentation for alternative solver options:\n",
      "    https://scikit-learn.org/stable/modules/linear_model.html#logistic-regression\n",
      "  extra_warning_msg=_LOGISTIC_SOLVER_CONVERGENCE_MSG,\n",
      "/usr/local/lib/python3.7/dist-packages/sklearn/linear_model/_logistic.py:818: ConvergenceWarning: lbfgs failed to converge (status=1):\n",
      "STOP: TOTAL NO. of ITERATIONS REACHED LIMIT.\n",
      "\n",
      "Increase the number of iterations (max_iter) or scale the data as shown in:\n",
      "    https://scikit-learn.org/stable/modules/preprocessing.html\n",
      "Please also refer to the documentation for alternative solver options:\n",
      "    https://scikit-learn.org/stable/modules/linear_model.html#logistic-regression\n",
      "  extra_warning_msg=_LOGISTIC_SOLVER_CONVERGENCE_MSG,\n",
      "/usr/local/lib/python3.7/dist-packages/sklearn/linear_model/_logistic.py:818: ConvergenceWarning: lbfgs failed to converge (status=1):\n",
      "STOP: TOTAL NO. of ITERATIONS REACHED LIMIT.\n",
      "\n",
      "Increase the number of iterations (max_iter) or scale the data as shown in:\n",
      "    https://scikit-learn.org/stable/modules/preprocessing.html\n",
      "Please also refer to the documentation for alternative solver options:\n",
      "    https://scikit-learn.org/stable/modules/linear_model.html#logistic-regression\n",
      "  extra_warning_msg=_LOGISTIC_SOLVER_CONVERGENCE_MSG,\n",
      "/usr/local/lib/python3.7/dist-packages/sklearn/linear_model/_logistic.py:818: ConvergenceWarning: lbfgs failed to converge (status=1):\n",
      "STOP: TOTAL NO. of ITERATIONS REACHED LIMIT.\n",
      "\n",
      "Increase the number of iterations (max_iter) or scale the data as shown in:\n",
      "    https://scikit-learn.org/stable/modules/preprocessing.html\n",
      "Please also refer to the documentation for alternative solver options:\n",
      "    https://scikit-learn.org/stable/modules/linear_model.html#logistic-regression\n",
      "  extra_warning_msg=_LOGISTIC_SOLVER_CONVERGENCE_MSG,\n"
     ]
    },
    {
     "name": "stdout",
     "output_type": "stream",
     "text": [
      "LR: 0.667027 (0.014293)\n",
      "LDA: 0.635212 (0.015229)\n",
      "KNN: 0.584739 (0.014498)\n",
      "CART: 0.516448 (0.017455)\n",
      "RF: 0.670376 (0.018290)\n",
      "NB: 0.137184 (0.011465)\n",
      "SVM: 0.666310 (0.017259)\n",
      "SGD: 0.583781 (0.019129)\n",
      "GBC: 0.653870 (0.014807)\n"
     ]
    }
   ],
   "source": [
    "# 10-fold cross validation\n",
    "# In experiement results, applied different n_splits values here. \n",
    "results = []\n",
    "names = []\n",
    "for name, model in models:\n",
    "    kfold = KFold(n_splits=10)\n",
    "    cv_results = cross_val_score(model, prepared_X_train, prepared_y_train[0], cv=kfold, scoring='accuracy')\n",
    "    results.append(cv_results)\n",
    "    names.append(name)\n",
    "    msg = \"%s: %f (%f)\" % (name, cv_results.mean(), cv_results.std())\n",
    "    print(msg)"
   ]
  },
  {
   "cell_type": "code",
   "execution_count": 71,
   "metadata": {
    "colab": {
     "base_uri": "https://localhost:8080/",
     "height": 294
    },
    "id": "FOHc14WojUBa",
    "outputId": "c630b1ed-8851-4fce-8ed7-5e6ebb81b192"
   },
   "outputs": [
    {
     "data": {
      "image/png": "[encoded data removed]",
      "text/plain": [
       "<Figure size 432x288 with 1 Axes>"
      ]
     },
     "metadata": {
      "needs_background": "light"
     },
     "output_type": "display_data"
    }
   ],
   "source": [
    "# boxplot algorithm comparison including stochastic gradient descent and gradient boosting classifiers. \n",
    "fig = plt.figure()\n",
    "fig.suptitle('Machine Learning algorithm comparison')\n",
    "ax = fig.add_subplot(111)\n",
    "plt.boxplot(results)\n",
    "ax.set_xticklabels(names)\n",
    "plt.show()"
   ]
  },
  {
   "cell_type": "code",
   "execution_count": 71,
   "metadata": {
    "id": "FVRKeWa3jVa9"
   },
   "outputs": [],
   "source": []
  },
  {
   "cell_type": "code",
   "execution_count": 72,
   "metadata": {
    "colab": {
     "base_uri": "https://localhost:8080/",
     "height": 206
    },
    "id": "Q6_EjIssvtLX",
    "outputId": "ca1c7a0e-be56-45f1-b88a-bd31612eab5e"
   },
   "outputs": [
    {
     "data": {
      "text/html": [
       "<div>\n",
       "<style scoped>\n",
       "    .dataframe tbody tr th:only-of-type {\n",
       "        vertical-align: middle;\n",
       "    }\n",
       "\n",
       "    .dataframe tbody tr th {\n",
       "        vertical-align: top;\n",
       "    }\n",
       "\n",
       "    .dataframe thead th {\n",
       "        text-align: right;\n",
       "    }\n",
       "</style>\n",
       "<table border=\"1\" class=\"dataframe\">\n",
       "  <thead>\n",
       "    <tr style=\"text-align: right;\">\n",
       "      <th></th>\n",
       "      <th>ID</th>\n",
       "    </tr>\n",
       "  </thead>\n",
       "  <tbody>\n",
       "    <tr>\n",
       "      <th>0</th>\n",
       "      <td>772800977</td>\n",
       "    </tr>\n",
       "    <tr>\n",
       "      <th>1</th>\n",
       "      <td>373497125</td>\n",
       "    </tr>\n",
       "    <tr>\n",
       "      <th>2</th>\n",
       "      <td>361268494</td>\n",
       "    </tr>\n",
       "    <tr>\n",
       "      <th>3</th>\n",
       "      <td>483957657</td>\n",
       "    </tr>\n",
       "    <tr>\n",
       "      <th>4</th>\n",
       "      <td>698405955</td>\n",
       "    </tr>\n",
       "  </tbody>\n",
       "</table>\n",
       "</div>"
      ],
      "text/plain": [
       "          ID\n",
       "0  772800977\n",
       "1  373497125\n",
       "2  361268494\n",
       "3  483957657\n",
       "4  698405955"
      ]
     },
     "execution_count": 72,
     "metadata": {},
     "output_type": "execute_result"
    }
   ],
   "source": [
    "#test_df = pd.read_csv(base_url+'testset_students.csv')\n",
    "test_df = pd.read_csv(base_url + 'test_data_simplified_students.csv')\n",
    "test_df.head()"
   ]
  },
  {
   "cell_type": "code",
   "execution_count": 73,
   "metadata": {
    "id": "s3HDZq6Pwu4L"
   },
   "outputs": [],
   "source": [
    "#Random Forest\n",
    "\n",
    "# create the model - Logistic Regression\n",
    "# this also may take a while on Colab for the same I/O issue, I stoped it after 20 minutes\n",
    "clf  = RandomForestClassifier(n_estimators=num_trees, random_state=seed)\n",
    "\n",
    "# fit the training data to the model\n",
    "clf.fit(prepared_X_train, prepared_y_train[0])\n",
    "\n",
    "# loop through the test images\n",
    "\n",
    "preds = []\n",
    "global_test_features = []\n",
    "\n",
    "for row in test_df.iterrows():\n",
    "    # get the image file name\n",
    "    file = base_url + \"images/\"  + str(row[1]['ID']) + \".jpg\"\n",
    "\n",
    "    # read the image and resize it to a fixed-size\n",
    "    image = cv2.imread(file)\n",
    "    image = cv2.resize(image, fixed_size)\n",
    "\n",
    "    ####################################\n",
    "    # Global Feature extraction\n",
    "    ####################################\n",
    "    fv_hu_moments = fd_hu_moments(image)\n",
    "    fv_haralick   = fd_haralick(image)\n",
    "    fv_histogram  = fd_histogram(image, bins = 8)\n",
    "\n",
    "    ###################################\n",
    "    # Concatenate global features\n",
    "    ###################################\n",
    "    global_feature = np.hstack([fv_histogram, fv_haralick, fv_hu_moments])\n",
    "    \n",
    "    # scale features in the range (0-1) using the trainset scaler\n",
    "    rescaled_feature = scaler.transform(global_feature.reshape(1,-1))\n",
    "    \n",
    "    prediction = clf.predict(rescaled_feature)[0]\n",
    "\n",
    "\n",
    "    # update the list of predictions and feature vectors\n",
    "    preds.append(prediction)\n",
    "    global_test_features.append(rescaled_feature)"
   ]
  },
  {
   "cell_type": "code",
   "execution_count": 73,
   "metadata": {
    "id": "lLugGjUpyMJ-"
   },
   "outputs": [],
   "source": []
  },
  {
   "cell_type": "markdown",
   "metadata": {
    "id": "hvUwIJe-ySIt"
   },
   "source": [
    "Model seems to be always saying positive, investigate further!"
   ]
  },
  {
   "cell_type": "code",
   "execution_count": 74,
   "metadata": {
    "colab": {
     "base_uri": "https://localhost:8080/"
    },
    "id": "kMCsF3tVyYJZ",
    "outputId": "1bd78a1a-6d70-4bf2-d494-e5066bdd01b3"
   },
   "outputs": [
    {
     "data": {
      "text/plain": [
       "Counter({2: 75, 3: 5, 4: 2024})"
      ]
     },
     "execution_count": 74,
     "metadata": {},
     "output_type": "execute_result"
    }
   ],
   "source": [
    "import collections\n",
    "collections.Counter(preds)"
   ]
  },
  {
   "cell_type": "markdown",
   "metadata": {
    "id": "UFSZxErqyalG"
   },
   "source": [
    "It is mostly saying 4 (which is the +ve class). Since we don't have the lavels for the test set, let's see the confusion matrix on the train data."
   ]
  },
  {
   "cell_type": "markdown",
   "metadata": {
    "id": "-CL2BFHEj_oD"
   },
   "source": [
    "Random Forest"
   ]
  },
  {
   "cell_type": "code",
   "execution_count": 75,
   "metadata": {
    "colab": {
     "base_uri": "https://localhost:8080/",
     "height": 279
    },
    "id": "DDkwu7ulkA-b",
    "outputId": "09c2cb3a-6d6c-4d7f-fe08-87ef10d51740"
   },
   "outputs": [
    {
     "data": {
      "image/png": "[encoded data removed]",
      "text/plain": [
       "<Figure size 432x288 with 2 Axes>"
      ]
     },
     "metadata": {
      "needs_background": "light"
     },
     "output_type": "display_data"
    }
   ],
   "source": [
    "from sklearn.metrics import confusion_matrix, ConfusionMatrixDisplay\n",
    "clf  =  RandomForestClassifier(n_estimators=num_trees, random_state=seed)\n",
    "\n",
    "# fit the training data to the model\n",
    "clf.fit(prepared_X_train, prepared_y_train[0])\n",
    "\n",
    "true_labels = prepared_y_train[0]\n",
    "pred_labels = clf.predict(prepared_X_train)\n",
    "cm = confusion_matrix(true_labels, pred_labels, labels=clf.classes_)\n",
    "disp = ConfusionMatrixDisplay(confusion_matrix=cm, display_labels=clf.classes_)\n",
    "disp.plot()\n",
    "plt.show()"
   ]
  },
  {
   "cell_type": "markdown",
   "metadata": {
    "id": "PiqnwjAClDdG"
   },
   "source": [
    "Concise formatting of results to df and csv for submission"
   ]
  },
  {
   "cell_type": "code",
   "execution_count": 76,
   "metadata": {
    "colab": {
     "base_uri": "https://localhost:8080/",
     "height": 206
    },
    "id": "EX6UMq7ukQ41",
    "outputId": "c924bd16-5e2a-4e8a-d4c5-d6da1de94a88"
   },
   "outputs": [
    {
     "data": {
      "text/html": [
       "<div>\n",
       "<style scoped>\n",
       "    .dataframe tbody tr th:only-of-type {\n",
       "        vertical-align: middle;\n",
       "    }\n",
       "\n",
       "    .dataframe tbody tr th {\n",
       "        vertical-align: top;\n",
       "    }\n",
       "\n",
       "    .dataframe thead th {\n",
       "        text-align: right;\n",
       "    }\n",
       "</style>\n",
       "<table border=\"1\" class=\"dataframe\">\n",
       "  <thead>\n",
       "    <tr style=\"text-align: right;\">\n",
       "      <th></th>\n",
       "      <th>ID</th>\n",
       "      <th>Label</th>\n",
       "    </tr>\n",
       "  </thead>\n",
       "  <tbody>\n",
       "    <tr>\n",
       "      <th>0</th>\n",
       "      <td>772800977</td>\n",
       "      <td>Positive</td>\n",
       "    </tr>\n",
       "    <tr>\n",
       "      <th>1</th>\n",
       "      <td>373497125</td>\n",
       "      <td>Positive</td>\n",
       "    </tr>\n",
       "    <tr>\n",
       "      <th>2</th>\n",
       "      <td>361268494</td>\n",
       "      <td>Positive</td>\n",
       "    </tr>\n",
       "    <tr>\n",
       "      <th>3</th>\n",
       "      <td>483957657</td>\n",
       "      <td>Positive</td>\n",
       "    </tr>\n",
       "    <tr>\n",
       "      <th>4</th>\n",
       "      <td>698405955</td>\n",
       "      <td>Positive</td>\n",
       "    </tr>\n",
       "  </tbody>\n",
       "</table>\n",
       "</div>"
      ],
      "text/plain": [
       "          ID     Label\n",
       "0  772800977  Positive\n",
       "1  373497125  Positive\n",
       "2  361268494  Positive\n",
       "3  483957657  Positive\n",
       "4  698405955  Positive"
      ]
     },
     "execution_count": 76,
     "metadata": {},
     "output_type": "execute_result"
    }
   ],
   "source": [
    "pred_df = pd.DataFrame(preds)\n",
    "df_final = pd.merge(test_df, pred_df, left_index=True, right_index=True)\n",
    "df_new = df_final.rename(columns={0:'Label'})\n",
    "le.inverse_transform(target)\n",
    "label_list = list(df_new['Label'])\n",
    "df_new_labels_inverse_transform = list(le.inverse_transform(label_list))\n",
    "df_new['Label'] =  df_new_labels_inverse_transform\n",
    "df_new.head() # Check that it looks right before pushing to csv. "
   ]
  },
  {
   "cell_type": "markdown",
   "metadata": {
    "id": "eJXSwwjilv5z"
   },
   "source": [
    "**Random Forest**\n",
    "Convert to csv"
   ]
  },
  {
   "cell_type": "code",
   "execution_count": 77,
   "metadata": {
    "colab": {
     "base_uri": "https://localhost:8080/",
     "height": 140
    },
    "id": "bhNDCHyEkzDK",
    "outputId": "769b9c7a-80df-4787-f302-59907beec1c7"
   },
   "outputs": [
    {
     "data": {
      "application/vnd.google.colaboratory.intrinsic+json": {
       "type": "string"
      },
      "text/plain": [
       "'ID,Label\\n772800977,Positive\\n373497125,Positive\\n361268494,Positive\\n483957657,Positive\\n698405955,Positive\\n982040161,Positive\\n137762127,Positive\\n628000850,Positive\\n733350868,Positive\\n482269455,Positive\\n898609289,Negative\\n266971908,Positive\\n638459074,Positive\\n214868962,Positive\\n501416241,Positive\\n898312212,Positive\\n214683818,Positive\\n149629153,Positive\\n197858876,Positive\\n557558282,Positive\\n309826536,Positive\\n217484606,Positive\\n601081545,Positive\\n890580731,Positive\\n991044732,Positive\\n559469465,Positive\\n371306957,Positive\\n503845940,Positive\\n739772254,Positive\\n518890091,Positive\\n309336726,Positive\\n884550077,Positive\\n515756470,Positive\\n137210213,Positive\\n114280832,Positive\\n535761291,Positive\\n266901017,Positive\\n269554828,Positive\\n160388270,Positive\\n847383658,Positive\\n657855503,Positive\\n248255697,Positive\\n689875367,Negative\\n949570515,Positive\\n771708512,Positive\\n482430921,Positive\\n787529623,Positive\\n631511792,Positive\\n989467661,Positive\\n688865306,Positive\\n289327926,Positive\\n553733195,Positive\\n456232929,Positive\\n870236793,Positive\\n671436283,Positive\\n520407000,Positive\\n206479089,Positive\\n761563499,Positive\\n683486054,Positive\\n863732040,Positive\\n266544628,Positive\\n901219949,Positive\\n869075083,Positive\\n530885503,Positive\\n120308070,Positive\\n804489229,Positive\\n870165778,Positive\\n339447790,Positive\\n693898873,Positive\\n700680849,Positive\\n113690550,Positive\\n765994407,Positive\\n687265943,Positive\\n438392597,Positive\\n425810339,Negative\\n553769439,Positive\\n840782091,Positive\\n323278777,Positive\\n570135239,Positive\\n863951765,Positive\\n993934787,Positive\\n649613231,Positive\\n824254677,Positive\\n621429663,Positive\\n604675554,Positive\\n638354498,Positive\\n357544836,Positive\\n348800424,Positive\\n112405322,Positive\\n941643586,Positive\\n592448509,Positive\\n687310386,Positive\\n425476552,Positive\\n347871254,Positive\\n807994646,Positive\\n560221678,Positive\\n245372041,Positive\\n811553565,Positive\\n738364417,Positive\\n885196696,Positive\\n161418541,Positive\\n740596108,Positive\\n879665690,Positive\\n314324965,Positive\\n653103264,Positive\\n359417553,Positive\\n833065172,Positive\\n572011738,Positive\\n261763164,Positive\\n819637579,Positive\\n567202915,Positive\\n843292804,Positive\\n571127416,Positive\\n328336456,Positive\\n963000163,Positive\\n925696176,Positive\\n925975174,Positive\\n164873849,Positive\\n641580585,Positive\\n882290585,Positive\\n127534257,Positive\\n220043030,Positive\\n309346088,Positive\\n834486074,Positive\\n745000278,Positive\\n498370653,Positive\\n429571002,Positive\\n201690767,Positive\\n597873634,Positive\\n361989023,Positive\\n956306635,Positive\\n621819177,Positive\\n545948368,Positive\\n437463009,Positive\\n206839178,Positive\\n935805179,Positive\\n864915116,Positive\\n865538177,Positive\\n205334507,Positive\\n954412525,Positive\\n952861500,Positive\\n296819334,Positive\\n456206417,Positive\\n468097919,Positive\\n983675973,Positive\\n381962851,Negative\\n851880027,Positive\\n568857205,Positive\\n189744765,Positive\\n705176423,Positive\\n955832215,Positive\\n527850356,Positive\\n342442477,Positive\\n174497174,Positive\\n553353398,Positive\\n503428471,Positive\\n698734022,Positive\\n269540133,Positive\\n305532998,Negative\\n958432638,Positive\\n670176156,Positive\\n310326966,Positive\\n212739584,Positive\\n917643176,Positive\\n117548643,Positive\\n207401915,Positive\\n809243473,Positive\\n567196742,Positive\\n988582423,Positive\\n907225870,Positive\\n222269503,Positive\\n579977532,Positive\\n344867842,Positive\\n408833108,Positive\\n663230811,Positive\\n473533399,Positive\\n616342093,Positive\\n293145490,Positive\\n147066555,Positive\\n242720004,Positive\\n956914241,Positive\\n645565832,Positive\\n229251048,Positive\\n668294041,Negative\\n497012353,Positive\\n882082588,Negative\\n811980855,Positive\\n747995929,Negative\\n525703972,Positive\\n394872657,Positive\\n689704543,Positive\\n478924482,Positive\\n528760515,Positive\\n689983164,Positive\\n174674568,Positive\\n513159741,Positive\\n238993063,Positive\\n580690563,Positive\\n354179166,Positive\\n438386374,Positive\\n430255874,Positive\\n120984596,Positive\\n811381566,Positive\\n160205567,Positive\\n250988996,Positive\\n931903444,Positive\\n877070778,Positive\\n921671772,Positive\\n237776342,Positive\\n458272796,Positive\\n253300200,Positive\\n278564446,Positive\\n234728082,Negative\\n270062759,Positive\\n881248053,Positive\\n914118559,Positive\\n159623242,Positive\\n769001494,Positive\\n746754042,Positive\\n919975235,Positive\\n946314017,Positive\\n526438271,Negative\\n568276723,Positive\\n585409390,Positive\\n287455609,Positive\\n564705451,Positive\\n675353860,Positive\\n476428299,Positive\\n658512929,Positive\\n325596073,Positive\\n659635619,Positive\\n121189453,Positive\\n248692566,Positive\\n971085291,Positive\\n492384370,Positive\\n135119469,Positive\\n769020446,Positive\\n775523862,Positive\\n780744755,Positive\\n949075500,Positive\\n581392358,Positive\\n850723020,Positive\\n729336456,Positive\\n433474240,Positive\\n899762025,Positive\\n212444471,Positive\\n584129247,Positive\\n848020107,Positive\\n948144679,Positive\\n438635990,Positive\\n468035226,Positive\\n459327017,Positive\\n322717962,Positive\\n610474168,Positive\\n247880256,Positive\\n274086828,Positive\\n512506239,Negative\\n552974948,Positive\\n181057315,Positive\\n905218832,Positive\\n479410449,Positive\\n514405559,Positive\\n901166695,Positive\\n257827847,Positive\\n584633549,Positive\\n213388536,Positive\\n503548006,Positive\\n960615967,Positive\\n281561241,Positive\\n278736598,Positive\\n407908514,Positive\\n385057450,Positive\\n637093854,Positive\\n374231034,Positive\\n831311845,Positive\\n799521935,Positive\\n686857025,Positive\\n432947529,Positive\\n304947129,Positive\\n423900997,Positive\\n695948687,Positive\\n650941825,Negative\\n582163041,Positive\\n929913506,Positive\\n597040391,Positive\\n970049572,Positive\\n694886691,Positive\\n231331472,Positive\\n964314194,Positive\\n524883351,Positive\\n429336789,Positive\\n233014846,Positive\\n655430763,Positive\\n689522272,Negative\\n458197597,Positive\\n854203620,Positive\\n579847541,Positive\\n584780152,Positive\\n205040233,Positive\\n489129852,Positive\\n273491508,Positive\\n714986031,Positive\\n138529827,Positive\\n464898976,Positive\\n926977753,Positive\\n220536027,Positive\\n326251339,Positive\\n334572414,Positive\\n200647995,Positive\\n277123601,Positive\\n404698729,Positive\\n124882047,Positive\\n932259657,Positive\\n395218225,Positive\\n134136753,Positive\\n984092204,Positive\\n984033645,Positive\\n299937145,Positive\\n633474655,Positive\\n538116896,Positive\\n711962523,Positive\\n335425693,Positive\\n601671390,Positive\\n820219021,Positive\\n279029380,Positive\\n763105534,Positive\\n484853035,Positive\\n942617954,Positive\\n111550682,Positive\\n112696873,Positive\\n370773144,Positive\\n536363540,Positive\\n605835140,Positive\\n429041439,Positive\\n497889216,Positive\\n955033993,Positive\\n629906714,Positive\\n582757853,Positive\\n650392699,Positive\\n149849281,Positive\\n499334500,Positive\\n914111623,Positive\\n578753009,Positive\\n613063501,Positive\\n294460605,Positive\\n563356576,Positive\\n657825996,Positive\\n918498210,Positive\\n596726460,Neutral\\n604478687,Positive\\n334372762,Positive\\n643409893,Positive\\n976236014,Positive\\n183939207,Positive\\n729022889,Positive\\n383535068,Positive\\n906835602,Positive\\n592744519,Positive\\n957649958,Positive\\n132691595,Positive\\n727424477,Positive\\n501921563,Positive\\n810059316,Positive\\n416568265,Positive\\n991675314,Positive\\n670057494,Positive\\n751613754,Positive\\n115017363,Positive\\n996160142,Positive\\n145726425,Positive\\n812767282,Positive\\n142456497,Positive\\n466243449,Positive\\n628145078,Positive\\n652511968,Positive\\n610205705,Positive\\n145690361,Negative\\n393201576,Positive\\n358355649,Positive\\n673916900,Positive\\n593407164,Positive\\n384573509,Positive\\n569421742,Positive\\n275063690,Positive\\n719064505,Positive\\n555747324,Positive\\n941498865,Positive\\n351732502,Positive\\n533411636,Positive\\n491267389,Positive\\n696401520,Positive\\n964396466,Positive\\n370224930,Positive\\n760327975,Positive\\n551456386,Positive\\n397426033,Positive\\n311344866,Positive\\n869743166,Positive\\n532885727,Positive\\n591041274,Positive\\n853193947,Positive\\n803545216,Positive\\n852736945,Positive\\n288335881,Positive\\n948289188,Positive\\n530922612,Positive\\n426104330,Positive\\n367834296,Positive\\n193409449,Positive\\n698275161,Negative\\n618353370,Negative\\n191650584,Positive\\n115429016,Positive\\n726899457,Positive\\n496666066,Positive\\n746556888,Positive\\n773110430,Positive\\n753342765,Negative\\n642096197,Positive\\n354984508,Positive\\n142574858,Positive\\n727701806,Positive\\n846963547,Positive\\n700167051,Positive\\n170546498,Positive\\n311701306,Positive\\n489041542,Negative\\n850799409,Positive\\n470156690,Positive\\n868340538,Positive\\n325206223,Positive\\n560548881,Positive\\n375532083,Positive\\n166120146,Positive\\n488970432,Negative\\n704623331,Positive\\n548162287,Positive\\n345544070,Positive\\n511150870,Positive\\n606514146,Positive\\n126786096,Positive\\n685919358,Positive\\n230133717,Positive\\n221876514,Positive\\n576696985,Positive\\n959331139,Positive\\n465909887,Positive\\n212680474,Positive\\n169214233,Positive\\n416289818,Positive\\n400426708,Positive\\n431738812,Positive\\n470726225,Positive\\n639774656,Positive\\n874354567,Positive\\n495503142,Positive\\n455416074,Negative\\n334637677,Positive\\n236424197,Positive\\n610735487,Positive\\n456245361,Positive\\n554369563,Positive\\n593593664,Positive\\n897064701,Positive\\n234755521,Positive\\n500828118,Positive\\n357047388,Positive\\n853715107,Positive\\n862605460,Positive\\n515198124,Positive\\n902241206,Positive\\n990107316,Positive\\n553191605,Positive\\n518341723,Positive\\n661866450,Positive\\n191081452,Positive\\n943773704,Positive\\n820817225,Positive\\n392870230,Positive\\n767080305,Positive\\n433558941,Positive\\n617154555,Positive\\n178048951,Negative\\n442777352,Positive\\n776344469,Positive\\n137112398,Positive\\n347232901,Positive\\n943630920,Positive\\n832671220,Positive\\n112533993,Positive\\n453921596,Positive\\n352824466,Positive\\n365878036,Positive\\n464474799,Positive\\n777143843,Positive\\n823678850,Positive\\n714774653,Positive\\n317001391,Positive\\n649714572,Positive\\n614776699,Positive\\n753471389,Positive\\n548342309,Positive\\n790824176,Positive\\n727855311,Positive\\n341656210,Positive\\n938422965,Positive\\n262479785,Positive\\n923514729,Positive\\n174545812,Positive\\n161920648,Positive\\n624708163,Positive\\n711305869,Positive\\n308919298,Positive\\n279430941,Positive\\n443626162,Positive\\n750624382,Negative\\n795330445,Positive\\n462302458,Positive\\n699207162,Positive\\n949832006,Positive\\n873355275,Positive\\n133040624,Positive\\n789333827,Positive\\n148388001,Positive\\n410166701,Positive\\n219628947,Negative\\n494512302,Positive\\n694998007,Positive\\n898937996,Positive\\n791952574,Positive\\n805146962,Positive\\n419964381,Positive\\n164386802,Positive\\n428220935,Positive\\n790630318,Positive\\n933468399,Positive\\n114626175,Positive\\n573621150,Positive\\n355973043,Positive\\n187372768,Positive\\n354369594,Positive\\n712442912,Positive\\n731418242,Positive\\n584696772,Negative\\n548225993,Positive\\n340984914,Positive\\n865293168,Positive\\n573985693,Positive\\n437933321,Positive\\n365763565,Positive\\n641926379,Positive\\n137409767,Positive\\n333906245,Positive\\n670018688,Positive\\n705053045,Positive\\n541546320,Positive\\n844340937,Positive\\n473799463,Positive\\n286139007,Positive\\n202773756,Positive\\n238833021,Positive\\n593956330,Positive\\n946065690,Positive\\n996193577,Positive\\n423931980,Positive\\n125850860,Positive\\n713674489,Positive\\n444171290,Negative\\n274480714,Positive\\n428397208,Positive\\n246881834,Neutral\\n986460019,Positive\\n477341759,Positive\\n286721389,Negative\\n553292030,Positive\\n158574158,Positive\\n337454899,Positive\\n422433509,Positive\\n708586266,Positive\\n173119170,Positive\\n801552181,Positive\\n476285293,Positive\\n668346029,Positive\\n178202010,Positive\\n416225004,Positive\\n887426551,Positive\\n499010654,Positive\\n248849062,Positive\\n897721352,Positive\\n406603800,Positive\\n267465925,Positive\\n606944198,Positive\\n316905576,Positive\\n938841209,Positive\\n793621226,Positive\\n535338462,Negative\\n520336138,Positive\\n294788690,Positive\\n296327078,Positive\\n256710500,Positive\\n520786701,Positive\\n227360754,Positive\\n333070333,Positive\\n562438782,Positive\\n778996143,Positive\\n275983382,Positive\\n230168270,Positive\\n947823695,Positive\\n269269918,Positive\\n587674640,Positive\\n861214381,Positive\\n536644515,Positive\\n251145987,Positive\\n417647610,Positive\\n280857809,Positive\\n968897812,Positive\\n867173885,Positive\\n625647117,Positive\\n790909482,Positive\\n799781249,Negative\\n155001852,Positive\\n179080589,Positive\\n890771748,Positive\\n840279405,Positive\\n602420002,Positive\\n165067892,Positive\\n585958810,Positive\\n119231669,Positive\\n649267906,Positive\\n620431389,Positive\\n810002477,Positive\\n486264971,Positive\\n388485571,Positive\\n629362246,Positive\\n780407626,Positive\\n870133941,Positive\\n672677559,Positive\\n701894858,Positive\\n828379212,Negative\\n590982474,Positive\\n895523300,Positive\\n326602694,Positive\\n728717027,Positive\\n851873040,Positive\\n710129788,Positive\\n615864330,Positive\\n781171795,Positive\\n908597313,Positive\\n574039240,Positive\\n405849209,Positive\\n228004712,Positive\\n810882121,Positive\\n747783827,Positive\\n250446390,Positive\\n111183700,Positive\\n682893449,Positive\\n374281267,Positive\\n279725310,Positive\\n124234810,Positive\\n300042508,Positive\\n349345190,Positive\\n351290213,Positive\\n337492365,Positive\\n903203359,Positive\\n513056620,Positive\\n244781212,Positive\\n499525565,Positive\\n362584135,Positive\\n813533667,Positive\\n503729527,Positive\\n791680845,Positive\\n771397835,Positive\\n304367934,Positive\\n731257126,Positive\\n641213068,Positive\\n659129871,Positive\\n945082183,Positive\\n585352779,Positive\\n245732677,Positive\\n862372020,Positive\\n455882408,Negative\\n119061777,Positive\\n552543703,Positive\\n777071259,Positive\\n585839692,Positive\\n414134037,Positive\\n314989203,Positive\\n917869714,Positive\\n967325231,Positive\\n666087682,Positive\\n954210172,Positive\\n442293011,Positive\\n451356413,Positive\\n153629884,Positive\\n760938492,Positive\\n347507692,Positive\\n906642047,Positive\\n581051254,Positive\\n973409047,Positive\\n680926214,Positive\\n353647843,Positive\\n641503711,Positive\\n810395247,Positive\\n337220946,Positive\\n182818289,Positive\\n694723247,Positive\\n907356120,Positive\\n975675017,Positive\\n536565124,Positive\\n159855600,Negative\\n228995986,Positive\\n144153236,Positive\\n379586613,Positive\\n644299289,Positive\\n130979673,Positive\\n822068095,Positive\\n479395938,Positive\\n242205608,Positive\\n166955436,Positive\\n885739519,Positive\\n224139098,Positive\\n333225312,Positive\\n355127118,Positive\\n564039727,Positive\\n894872965,Positive\\n959300967,Positive\\n560041975,Positive\\n632595150,Positive\\n823534865,Positive\\n802722572,Positive\\n589766166,Positive\\n517182989,Positive\\n649540198,Positive\\n523085613,Positive\\n626931902,Positive\\n552337648,Positive\\n761989980,Positive\\n367506923,Positive\\n882020637,Positive\\n901350718,Positive\\n136846494,Positive\\n899822274,Positive\\n904841160,Positive\\n744041584,Positive\\n642089018,Positive\\n273387653,Positive\\n935757162,Positive\\n579610250,Positive\\n962631623,Positive\\n371368578,Positive\\n783321749,Positive\\n945887783,Positive\\n788086176,Positive\\n856148171,Positive\\n350116314,Positive\\n944934520,Positive\\n331354295,Positive\\n778059792,Positive\\n159308164,Positive\\n245749632,Positive\\n264777892,Positive\\n396891647,Positive\\n753014769,Positive\\n687391491,Positive\\n284601751,Positive\\n234032985,Positive\\n434491630,Positive\\n561005674,Positive\\n804161112,Positive\\n181358702,Positive\\n482326260,Positive\\n212586819,Positive\\n365285833,Positive\\n872259285,Positive\\n995565144,Positive\\n122214156,Positive\\n890932734,Positive\\n372709923,Positive\\n831495755,Positive\\n200058025,Positive\\n732440577,Positive\\n799494898,Positive\\n621425960,Positive\\n694818802,Positive\\n820483216,Positive\\n564021448,Positive\\n561545366,Positive\\n770974649,Positive\\n517086223,Positive\\n508791138,Positive\\n926000536,Positive\\n856115049,Positive\\n767010887,Positive\\n766694151,Positive\\n754096110,Positive\\n719979965,Positive\\n277665654,Positive\\n494322727,Positive\\n759409883,Positive\\n499908956,Positive\\n444240565,Positive\\n656287618,Negative\\n184110713,Positive\\n733062039,Positive\\n366693656,Positive\\n355780375,Positive\\n231586086,Positive\\n180083496,Positive\\n668684276,Positive\\n530139132,Positive\\n407361583,Positive\\n207521289,Positive\\n736528445,Positive\\n380207899,Positive\\n887085477,Positive\\n671521580,Positive\\n194645046,Positive\\n519877504,Negative\\n579360644,Positive\\n320935773,Positive\\n339645658,Positive\\n283387356,Positive\\n174538181,Positive\\n258947257,Positive\\n951198384,Positive\\n756518121,Negative\\n620574134,Positive\\n770725158,Positive\\n912112196,Positive\\n980881143,Positive\\n240179399,Positive\\n983113414,Positive\\n752982012,Positive\\n164538425,Positive\\n148493292,Positive\\n179602263,Positive\\n442188951,Positive\\n480041473,Positive\\n935302174,Positive\\n317569107,Positive\\n754851868,Positive\\n993805452,Positive\\n462176141,Positive\\n525094436,Positive\\n451487873,Positive\\n979706159,Positive\\n150492655,Positive\\n736745506,Positive\\n966664973,Positive\\n732959685,Positive\\n900796079,Positive\\n753118283,Positive\\n412275085,Positive\\n651302380,Positive\\n930208428,Positive\\n413534702,Positive\\n615855313,Positive\\n797544165,Positive\\n350887199,Positive\\n122473877,Positive\\n989090892,Positive\\n620732750,Positive\\n207981120,Positive\\n329455815,Positive\\n721325208,Positive\\n395331495,Positive\\n796598772,Positive\\n139985339,Positive\\n494911776,Positive\\n479956188,Negative\\n592093662,Positive\\n710619907,Positive\\n333490770,Positive\\n747614017,Positive\\n259381958,Positive\\n806832224,Positive\\n239147957,Positive\\n308520234,Positive\\n647568588,Positive\\n653235334,Positive\\n892797163,Positive\\n653401505,Positive\\n376486716,Positive\\n663208111,Positive\\n803349349,Positive\\n636077926,Positive\\n649974541,Positive\\n542998536,Positive\\n806013391,Positive\\n833144619,Positive\\n236689665,Positive\\n628490846,Positive\\n156473314,Positive\\n354947133,Positive\\n181573994,Positive\\n345001521,Positive\\n893921197,Positive\\n142148848,Positive\\n126950214,Positive\\n215761206,Positive\\n566246296,Positive\\n440946673,Positive\\n358173023,Positive\\n727950924,Positive\\n443139644,Positive\\n837376371,Positive\\n781794618,Positive\\n931928030,Positive\\n934581126,Positive\\n981894493,Positive\\n718395777,Positive\\n676872157,Negative\\n799451105,Positive\\n601423971,Positive\\n625038612,Positive\\n305236243,Positive\\n287757846,Positive\\n730631142,Positive\\n529303503,Positive\\n759318337,Positive\\n334798104,Positive\\n519342797,Positive\\n511397905,Positive\\n154291795,Positive\\n593014860,Positive\\n479630830,Positive\\n974604335,Positive\\n510905201,Positive\\n369168794,Positive\\n314738048,Positive\\n145478852,Positive\\n531476676,Positive\\n496604328,Positive\\n471215021,Positive\\n349344023,Positive\\n765309133,Positive\\n794004432,Positive\\n617396128,Positive\\n250682184,Positive\\n155396459,Positive\\n309644278,Positive\\n424347574,Positive\\n230445415,Positive\\n427070423,Positive\\n892244871,Positive\\n678049695,Positive\\n560536623,Positive\\n811719043,Positive\\n387916301,Positive\\n785990935,Positive\\n894260749,Positive\\n717391842,Positive\\n162183648,Positive\\n914949588,Positive\\n111495476,Positive\\n966330087,Positive\\n960251428,Positive\\n278088293,Positive\\n530876888,Positive\\n408438732,Positive\\n496772051,Positive\\n503022514,Positive\\n145378328,Positive\\n868529878,Positive\\n253628943,Positive\\n601216638,Positive\\n435127286,Positive\\n587303902,Negative\\n175257150,Positive\\n174466689,Positive\\n451299227,Positive\\n358962682,Positive\\n974464381,Positive\\n274612375,Positive\\n206413619,Positive\\n186923566,Positive\\n515413705,Positive\\n224335624,Positive\\n273074528,Positive\\n296015570,Positive\\n356168887,Negative\\n936355944,Positive\\n555227616,Positive\\n951638218,Positive\\n269165359,Positive\\n348799643,Positive\\n316648790,Positive\\n652128873,Positive\\n535777653,Positive\\n926684194,Positive\\n572901632,Positive\\n192686694,Negative\\n297091998,Positive\\n464337746,Positive\\n552744751,Positive\\n466431124,Positive\\n568736563,Positive\\n391513136,Positive\\n875075999,Positive\\n830329772,Positive\\n260650580,Positive\\n395744343,Positive\\n516242704,Positive\\n588266205,Positive\\n582104819,Positive\\n573362824,Neutral\\n143316289,Positive\\n845975634,Positive\\n729259411,Positive\\n213263238,Positive\\n153233756,Positive\\n219551620,Positive\\n605461383,Positive\\n748140602,Positive\\n463346053,Positive\\n875631596,Positive\\n657804194,Positive\\n637191312,Positive\\n303729399,Positive\\n575784644,Positive\\n552507351,Positive\\n935214435,Negative\\n733426355,Positive\\n370647777,Positive\\n275233753,Positive\\n664741375,Positive\\n124769570,Positive\\n528697930,Positive\\n283791318,Positive\\n442906799,Positive\\n219361818,Positive\\n117975542,Positive\\n712169257,Positive\\n382601630,Positive\\n854999488,Positive\\n302730438,Positive\\n281888677,Positive\\n201894241,Positive\\n909482485,Positive\\n255822184,Positive\\n413106228,Positive\\n544365479,Negative\\n530951860,Positive\\n736178069,Positive\\n807671257,Positive\\n909479806,Positive\\n418350772,Positive\\n408659508,Negative\\n990948310,Positive\\n207669581,Positive\\n787888932,Positive\\n354601000,Positive\\n877234167,Positive\\n836370873,Positive\\n347541976,Positive\\n870174166,Positive\\n421409928,Positive\\n902935077,Positive\\n193530185,Positive\\n971669614,Positive\\n697736286,Positive\\n932816090,Positive\\n338176538,Positive\\n427379596,Positive\\n680474481,Positive\\n890231712,Positive\\n321853161,Positive\\n892377001,Positive\\n135513876,Positive\\n258780400,Positive\\n513947822,Positive\\n914641753,Positive\\n709051733,Positive\\n598295745,Positive\\n869243580,Positive\\n429040013,Positive\\n605751169,Positive\\n927171956,Positive\\n974735288,Positive\\n267950951,Positive\\n754537592,Positive\\n619388436,Positive\\n125241256,Positive\\n311709988,Positive\\n899123321,Positive\\n217290095,Negative\\n421747177,Positive\\n281297444,Positive\\n271236514,Positive\\n622837877,Positive\\n737597334,Positive\\n616209703,Positive\\n113191548,Positive\\n914280513,Positive\\n192172210,Negative\\n156932416,Positive\\n899006645,Positive\\n825773923,Positive\\n944938330,Positive\\n996266460,Positive\\n431181953,Positive\\n744724883,Positive\\n757241404,Positive\\n943858158,Positive\\n130814620,Positive\\n436481036,Positive\\n269954778,Positive\\n338286403,Positive\\n193565791,Positive\\n941471106,Positive\\n115158069,Positive\\n589108320,Positive\\n739608972,Positive\\n673287851,Positive\\n307931524,Positive\\n862292411,Positive\\n207753998,Positive\\n537105334,Positive\\n739356322,Positive\\n201493359,Positive\\n652191243,Positive\\n482838891,Positive\\n466423774,Negative\\n879465300,Positive\\n863487481,Positive\\n257282776,Positive\\n946210176,Positive\\n708186118,Positive\\n802275854,Positive\\n276052807,Positive\\n559140949,Positive\\n506353043,Positive\\n679907840,Positive\\n689052638,Positive\\n907627713,Positive\\n822230292,Positive\\n399977328,Positive\\n808078749,Negative\\n910362087,Positive\\n424588518,Positive\\n607275801,Positive\\n390517135,Positive\\n579772511,Positive\\n266193893,Positive\\n931959174,Positive\\n620517266,Positive\\n415806949,Positive\\n984131553,Positive\\n623825970,Positive\\n589742138,Positive\\n216958986,Positive\\n113788292,Positive\\n144082557,Positive\\n963696996,Positive\\n273819243,Positive\\n814429027,Positive\\n445755891,Positive\\n527914089,Positive\\n900507181,Positive\\n479760287,Positive\\n487340809,Positive\\n369335502,Positive\\n619878953,Positive\\n914040782,Negative\\n596855637,Positive\\n531729095,Positive\\n838350381,Positive\\n515508968,Positive\\n792285556,Positive\\n175737484,Positive\\n762122180,Neutral\\n933139116,Positive\\n282905342,Positive\\n669927082,Positive\\n431333850,Positive\\n921055425,Positive\\n236717361,Positive\\n632965526,Positive\\n318097679,Positive\\n971932925,Positive\\n793431984,Positive\\n903947520,Positive\\n859445668,Positive\\n604211565,Positive\\n799850976,Positive\\n232954494,Positive\\n278254620,Positive\\n951199264,Positive\\n425280621,Positive\\n440087989,Positive\\n133192032,Positive\\n951695611,Positive\\n460786674,Positive\\n603144783,Positive\\n484413263,Positive\\n596168221,Positive\\n152150481,Positive\\n874654013,Positive\\n701668267,Positive\\n306331403,Positive\\n410699739,Positive\\n975808235,Positive\\n156218378,Negative\\n809184675,Positive\\n502176425,Positive\\n293771342,Positive\\n987011870,Positive\\n860329904,Positive\\n247861131,Positive\\n264087125,Positive\\n846172174,Positive\\n957355856,Positive\\n622973226,Positive\\n830315562,Positive\\n261738214,Positive\\n740175589,Positive\\n511127052,Positive\\n866101115,Positive\\n321698973,Positive\\n727752900,Positive\\n262869021,Positive\\n229819171,Positive\\n276321737,Positive\\n381801683,Positive\\n704033452,Positive\\n228862010,Positive\\n392411808,Positive\\n469635589,Positive\\n789105402,Positive\\n894476650,Positive\\n454986912,Positive\\n388476012,Positive\\n779109287,Positive\\n826034525,Positive\\n710554503,Positive\\n956172973,Positive\\n698258900,Positive\\n281579337,Negative\\n798295607,Positive\\n831171076,Positive\\n474713606,Positive\\n758622583,Positive\\n407416570,Positive\\n887433392,Positive\\n217698273,Positive\\n950872776,Positive\\n620380049,Positive\\n822752672,Positive\\n901241779,Positive\\n808737675,Positive\\n760058238,Positive\\n231551117,Positive\\n628072534,Positive\\n638558531,Positive\\n375499269,Positive\\n655989320,Positive\\n466601983,Positive\\n600220119,Positive\\n928490582,Positive\\n572830719,Positive\\n252058253,Positive\\n940685417,Positive\\n740350330,Positive\\n561457712,Positive\\n454415819,Positive\\n334942811,Positive\\n743421608,Negative\\n849854171,Positive\\n837194459,Positive\\n220628677,Positive\\n335662932,Positive\\n496311975,Positive\\n791266452,Positive\\n374299487,Positive\\n735269389,Positive\\n362074168,Positive\\n657673925,Positive\\n512835399,Positive\\n742274366,Positive\\n249248831,Positive\\n846735968,Positive\\n400984498,Positive\\n240039213,Positive\\n884232697,Positive\\n665365704,Positive\\n923339981,Positive\\n480608690,Positive\\n161723742,Positive\\n557634303,Positive\\n744016273,Positive\\n147754505,Positive\\n685147085,Positive\\n442569141,Positive\\n577907922,Positive\\n432506253,Positive\\n536483625,Positive\\n944808696,Positive\\n411861851,Positive\\n381760484,Positive\\n863242911,Positive\\n208281805,Positive\\n568010210,Positive\\n683280933,Positive\\n145217373,Positive\\n664148923,Positive\\n902846343,Positive\\n365084011,Positive\\n805754755,Positive\\n295615991,Positive\\n965003601,Positive\\n684578739,Positive\\n543202027,Positive\\n633510734,Positive\\n995770789,Positive\\n787547872,Positive\\n476023475,Positive\\n414034829,Positive\\n204395726,Positive\\n308588995,Positive\\n711413326,Positive\\n216716476,Positive\\n833258456,Negative\\n915067084,Positive\\n473382699,Positive\\n309675831,Positive\\n156254056,Positive\\n609080619,Positive\\n606275339,Positive\\n482955327,Positive\\n317080211,Positive\\n502243319,Positive\\n603467410,Positive\\n359215119,Positive\\n153798769,Positive\\n584792804,Positive\\n909359202,Positive\\n823733707,Positive\\n674145908,Positive\\n454835729,Positive\\n897958478,Negative\\n707600783,Positive\\n340822825,Positive\\n208021488,Positive\\n574752670,Positive\\n383426482,Positive\\n155304922,Positive\\n151507943,Positive\\n177865342,Positive\\n964789816,Positive\\n913703109,Positive\\n330454149,Positive\\n856855702,Positive\\n853189532,Positive\\n961614955,Positive\\n113789790,Positive\\n119801905,Positive\\n406618289,Positive\\n627081391,Positive\\n303908229,Positive\\n278570448,Neutral\\n945397218,Positive\\n558871021,Positive\\n155927137,Positive\\n819776757,Positive\\n846970371,Positive\\n302327962,Positive\\n931024614,Positive\\n389434382,Positive\\n541826234,Positive\\n888718415,Positive\\n629707864,Positive\\n291911493,Positive\\n182796634,Positive\\n930546247,Positive\\n234955667,Positive\\n773986381,Positive\\n877958056,Positive\\n766300243,Negative\\n175936497,Positive\\n943174553,Positive\\n596024076,Positive\\n329682774,Positive\\n710816434,Positive\\n448485317,Positive\\n489795459,Positive\\n210542710,Positive\\n223000236,Positive\\n496127292,Positive\\n629431094,Positive\\n181543172,Positive\\n257331403,Positive\\n424716773,Positive\\n905861688,Positive\\n518117890,Positive\\n273492166,Positive\\n735060603,Positive\\n126259517,Positive\\n813804019,Positive\\n312512151,Positive\\n888094183,Positive\\n876431028,Positive\\n462443266,Positive\\n334281016,Positive\\n588909333,Positive\\n592644966,Positive\\n153831308,Positive\\n751972415,Positive\\n574172534,Positive\\n356033247,Positive\\n413935965,Positive\\n753764879,Positive\\n930686336,Positive\\n695224905,Positive\\n790213496,Positive\\n122030451,Positive\\n460801219,Positive\\n745166842,Positive\\n360620984,Positive\\n892390599,Positive\\n176927660,Positive\\n590891433,Positive\\n752656159,Positive\\n406542559,Positive\\n324720691,Negative\\n701142015,Positive\\n921506159,Positive\\n455814646,Positive\\n695671995,Positive\\n386808955,Positive\\n977831509,Positive\\n803086287,Positive\\n493917850,Positive\\n127585349,Positive\\n766228866,Positive\\n914950706,Positive\\n860177651,Positive\\n729826612,Positive\\n632534053,Positive\\n744568908,Positive\\n705156613,Positive\\n823012017,Positive\\n393221925,Positive\\n546257131,Positive\\n329521304,Positive\\n743738463,Positive\\n831882283,Positive\\n444125940,Positive\\n880516373,Positive\\n461054641,Positive\\n227162284,Positive\\n345818447,Positive\\n575111638,Positive\\n608870687,Positive\\n476301540,Negative\\n457947115,Positive\\n199992469,Positive\\n241283459,Positive\\n584396962,Positive\\n926898262,Positive\\n581340676,Positive\\n844387266,Positive\\n618666268,Positive\\n183410961,Positive\\n632986497,Positive\\n781586961,Positive\\n229739869,Positive\\n714063131,Positive\\n291740130,Positive\\n188403149,Positive\\n795984260,Positive\\n631528092,Positive\\n174535448,Positive\\n439294768,Positive\\n408047197,Positive\\n766613462,Positive\\n849265129,Positive\\n683148391,Positive\\n861374079,Positive\\n782872560,Positive\\n895944237,Positive\\n221122047,Positive\\n882848389,Positive\\n368120482,Positive\\n471110111,Positive\\n325951458,Positive\\n411346321,Negative\\n735719498,Positive\\n951956998,Positive\\n399622243,Positive\\n995903900,Positive\\n809668806,Positive\\n201674796,Positive\\n267734543,Positive\\n471909107,Positive\\n290302843,Positive\\n201209575,Positive\\n549459061,Positive\\n225424991,Positive\\n726516763,Positive\\n537182893,Positive\\n264638819,Positive\\n618053139,Positive\\n263574264,Positive\\n578690157,Positive\\n875190615,Positive\\n198325537,Positive\\n722413534,Positive\\n336278314,Positive\\n833362477,Positive\\n353044926,Positive\\n644814331,Positive\\n826575365,Positive\\n568472693,Positive\\n757731492,Positive\\n591611715,Positive\\n664308411,Positive\\n720177165,Positive\\n965742363,Positive\\n578999153,Positive\\n620975899,Positive\\n463707171,Positive\\n140559345,Positive\\n320425514,Positive\\n469413590,Positive\\n355128358,Positive\\n760857220,Positive\\n589209185,Positive\\n963973601,Negative\\n802760941,Positive\\n446280138,Positive\\n234330586,Positive\\n417075196,Positive\\n936124647,Positive\\n249386722,Positive\\n752717824,Positive\\n521738400,Positive\\n990495500,Positive\\n288363624,Positive\\n460301989,Positive\\n760229954,Positive\\n320263849,Positive\\n725173154,Positive\\n941236685,Positive\\n183379510,Positive\\n204316903,Positive\\n225331475,Positive\\n664831694,Positive\\n832717694,Positive\\n209028587,Positive\\n430984448,Positive\\n604028861,Positive\\n973023749,Positive\\n675197174,Positive\\n171189847,Positive\\n631980289,Positive\\n675516191,Positive\\n350322798,Positive\\n546550277,Positive\\n813582995,Positive\\n754238346,Positive\\n638241651,Negative\\n163285577,Positive\\n526107123,Positive\\n440862686,Positive\\n386848838,Positive\\n477600672,Positive\\n562927970,Positive\\n433305230,Negative\\n140223491,Positive\\n987933561,Positive\\n472004454,Positive\\n624237099,Positive\\n616775040,Positive\\n683755507,Positive\\n429694147,Positive\\n255264945,Positive\\n845863502,Positive\\n148448440,Positive\\n149731654,Positive\\n188468612,Negative\\n731091484,Positive\\n161198613,Positive\\n784542191,Positive\\n714260613,Positive\\n218078021,Positive\\n584722567,Positive\\n622856870,Positive\\n751221190,Positive\\n317821871,Positive\\n739419087,Positive\\n292988847,Positive\\n892548662,Positive\\n677687460,Positive\\n969705871,Positive\\n529317480,Positive\\n775966933,Positive\\n874221122,Positive\\n715064191,Positive\\n707594199,Positive\\n302811490,Positive\\n730466936,Positive\\n686798545,Positive\\n873201776,Positive\\n379473683,Positive\\n607129551,Positive\\n866756885,Positive\\n713140715,Positive\\n250105013,Positive\\n275041959,Positive\\n823219088,Positive\\n695684788,Positive\\n607788106,Positive\\n635485691,Negative\\n560837899,Positive\\n140452023,Positive\\n843919396,Positive\\n561469245,Positive\\n599531302,Positive\\n365242484,Positive\\n656286149,Positive\\n916213308,Positive\\n638899001,Positive\\n343868898,Positive\\n451331326,Positive\\n847847639,Positive\\n653408488,Positive\\n341201236,Positive\\n645349571,Positive\\n142483767,Positive\\n717314418,Positive\\n868354638,Positive\\n261490207,Positive\\n684491851,Positive\\n874468632,Positive\\n499591645,Positive\\n153372411,Positive\\n307844273,Positive\\n788452397,Positive\\n810961672,Positive\\n214185803,Positive\\n228892711,Positive\\n433967975,Positive\\n713641212,Positive\\n636693930,Positive\\n628075000,Positive\\n204734501,Positive\\n263968099,Positive\\n413283360,Positive\\n776452019,Positive\\n553106007,Positive\\n774197315,Positive\\n168336284,Positive\\n574567988,Positive\\n766620221,Positive\\n605435406,Positive\\n917035616,Positive\\n445298395,Positive\\n187354168,Positive\\n732566117,Positive\\n939332370,Positive\\n609572750,Positive\\n585974859,Positive\\n423204708,Positive\\n784607109,Positive\\n663115266,Negative\\n990160835,Positive\\n694241696,Positive\\n273226559,Positive\\n262843243,Positive\\n659473549,Positive\\n647069708,Positive\\n315053197,Positive\\n189699297,Positive\\n676406896,Positive\\n557332432,Positive\\n281415317,Negative\\n292207980,Positive\\n532317418,Positive\\n943784858,Positive\\n373215703,Positive\\n364720626,Positive\\n196682225,Positive\\n847400665,Positive\\n525581390,Positive\\n806693225,Positive\\n662815908,Positive\\n959330155,Positive\\n511057812,Positive\\n309960564,Positive\\n273075642,Positive\\n451938391,Positive\\n244328164,Positive\\n923748806,Positive\\n944484097,Positive\\n135481095,Positive\\n230802210,Positive\\n720516556,Positive\\n548092000,Positive\\n793810102,Positive\\n617453942,Positive\\n286972787,Positive\\n418954442,Positive\\n288984637,Positive\\n112039355,Positive\\n298557467,Positive\\n411734834,Positive\\n666115696,Positive\\n805249157,Positive\\n112694967,Positive\\n594709386,Positive\\n515783776,Positive\\n259533450,Positive\\n400013616,Positive\\n608256828,Positive\\n769737414,Positive\\n128112467,Positive\\n393267398,Positive\\n410892075,Positive\\n831130572,Positive\\n996575139,Positive\\n186585390,Positive\\n802733445,Positive\\n207196144,Positive\\n949460646,Positive\\n239513683,Positive\\n315032972,Positive\\n503627122,Positive\\n320733859,Positive\\n812059956,Positive\\n153000359,Positive\\n515913296,Positive\\n636408780,Positive\\n371085360,Positive\\n755948427,Positive\\n696829406,Positive\\n279389233,Positive\\n416034488,Positive\\n695084205,Positive\\n956711181,Positive\\n320029499,Positive\\n924930869,Positive\\n545463894,Positive\\n150514513,Positive\\n340315629,Positive\\n890978005,Positive\\n898999722,Positive\\n654156289,Positive\\n266246858,Positive\\n950937794,Positive\\n984552462,Positive\\n896552550,Positive\\n848485008,Positive\\n855084954,Positive\\n871150025,Positive\\n939969187,Positive\\n881630961,Positive\\n641671101,Positive\\n790922324,Positive\\n596754687,Positive\\n429046882,Positive\\n240531762,Positive\\n831130324,Positive\\n714063506,Positive\\n445433234,Positive\\n948126188,Positive\\n420380850,Positive\\n767137139,Positive\\n762398149,Positive\\n633099480,Positive\\n640387004,Positive\\n492357383,Positive\\n132241983,Positive\\n210283470,Positive\\n446179348,Positive\\n806966912,Positive\\n957812993,Positive\\n747979645,Positive\\n446835335,Positive\\n520459944,Positive\\n977155712,Negative\\n815467652,Positive\\n958322995,Positive\\n202452800,Positive\\n607043895,Positive\\n554797368,Positive\\n760200112,Positive\\n892551406,Positive\\n194126682,Positive\\n378649433,Positive\\n937146013,Positive\\n556992055,Positive\\n835468012,Positive\\n476600334,Positive\\n324715536,Positive\\n544560510,Positive\\n416959214,Positive\\n451725605,Positive\\n916658985,Positive\\n881726554,Positive\\n634592953,Positive\\n512252048,Positive\\n566219740,Positive\\n726312299,Positive\\n206049500,Positive\\n635453811,Positive\\n470369719,Positive\\n831703054,Positive\\n306890417,Positive\\n337780268,Positive\\n876982730,Positive\\n141405212,Positive\\n475906902,Positive\\n930062938,Positive\\n508760419,Positive\\n932723988,Positive\\n400672115,Positive\\n552092428,Positive\\n463445356,Positive\\n542262297,Positive\\n844337405,Positive\\n520003169,Positive\\n954312830,Positive\\n681554358,Positive\\n909531101,Positive\\n426148971,Positive\\n592619297,Negative\\n757433372,Positive\\n504345580,Positive\\n516609263,Positive\\n822091352,Positive\\n963976642,Positive\\n291734303,Positive\\n301437409,Positive\\n303211523,Positive\\n124558092,Positive\\n633030711,Positive\\n406595850,Positive\\n614251923,Positive\\n665826718,Positive\\n540616332,Positive\\n584170222,Positive\\n807113079,Positive\\n421974321,Negative\\n668571116,Positive\\n228174588,Positive\\n865423902,Positive\\n788858195,Positive\\n435174062,Positive\\n619356271,Positive\\n152188118,Positive\\n912344937,Positive\\n219562111,Positive\\n439691385,Positive\\n831458599,Positive\\n738077235,Positive\\n656245737,Positive\\n645183614,Positive\\n515938262,Positive\\n897954490,Positive\\n605903469,Positive\\n842649776,Positive\\n221981767,Positive\\n890380090,Positive\\n624515981,Positive\\n130123895,Positive\\n544648204,Positive\\n137698321,Positive\\n302159051,Positive\\n284508445,Positive\\n204442356,Positive\\n811813490,Positive\\n306061230,Positive\\n809098032,Negative\\n531187077,Positive\\n735620303,Positive\\n754943613,Positive\\n528304374,Positive\\n673940796,Positive\\n170561861,Positive\\n338741309,Positive\\n164823067,Positive\\n836948376,Positive\\n531240437,Positive\\n827995029,Positive\\n844475128,Positive\\n277333600,Positive\\n766165726,Positive\\n395065627,Positive\\n125731176,Positive\\n533078817,Positive\\n840795241,Positive\\n592821281,Positive\\n900351234,Positive\\n599927615,Positive\\n542163395,Positive\\n981578141,Positive\\n840976704,Positive\\n862947889,Positive\\n873674967,Positive\\n357864457,Positive\\n849000802,Positive\\n727963046,Positive\\n205260302,Positive\\n649550585,Positive\\n507946628,Positive\\n861342326,Positive\\n971849548,Positive\\n597498156,Positive\\n638035552,Positive\\n230856213,Positive\\n845060747,Positive\\n604671790,Positive\\n900925797,Positive\\n997901988,Positive\\n830211224,Positive\\n134728982,Positive\\n688995267,Positive\\n553436515,Positive\\n409378549,Positive\\n618768063,Positive\\n258625255,Positive\\n368264071,Positive\\n117386221,Positive\\n251338825,Positive\\n690324128,Positive\\n612635061,Positive\\n118338284,Positive\\n767107507,Positive\\n820677666,Positive\\n868997319,Positive\\n363864669,Positive\\n520884188,Positive\\n917966726,Positive\\n933802900,Positive\\n813408978,Positive\\n289905533,Positive\\n553039505,Positive\\n583019498,Positive\\n666388795,Negative\\n331647657,Positive\\n684895510,Positive\\n866765044,Positive\\n213932950,Positive\\n374026176,Positive\\n192692666,Positive\\n383732595,Positive\\n747387398,Positive\\n919652309,Positive\\n962630371,Positive\\n529388989,Positive\\n854630456,Positive\\n453116564,Positive\\n446026024,Positive\\n129653286,Positive\\n825570127,Positive\\n995546547,Positive\\n973313878,Positive\\n317854420,Positive\\n567162154,Positive\\n202755574,Positive\\n444236773,Positive\\n395420629,Positive\\n176379844,Positive\\n539307671,Positive\\n990289287,Positive\\n725882512,Positive\\n707406712,Positive\\n727384971,Positive\\n698026927,Positive\\n310980164,Positive\\n237096714,Positive\\n230858220,Positive\\n494458148,Negative\\n643378389,Positive\\n819201488,Positive\\n498802135,Positive\\n151375004,Positive\\n692095873,Positive\\n673504173,Positive\\n998190883,Positive\\n264188498,Positive\\n903399582,Positive\\n159200931,Positive\\n839275701,Positive\\n161783050,Positive\\n685376610,Positive\\n220313974,Positive\\n183308604,Positive\\n829965516,Positive\\n878382069,Negative\\n706746155,Positive\\n822165458,Positive\\n337719326,Positive\\n963151264,Positive\\n594300298,Positive\\n813839023,Positive\\n111120498,Negative\\n446372152,Positive\\n584724741,Positive\\n941666419,Positive\\n693188655,Positive\\n209238331,Positive\\n411747517,Positive\\n126002641,Positive\\n686379176,Positive\\n529345063,Positive\\n946160975,Positive\\n184922221,Positive\\n153957207,Positive\\n822347407,Positive\\n124174606,Positive\\n291159482,Positive\\n679847108,Positive\\n120493406,Positive\\n986854138,Positive\\n557712774,Positive\\n350794243,Positive\\n997373283,Positive\\n212733806,Positive\\n155764790,Positive\\n228693209,Positive\\n493172740,Positive\\n682297625,Positive\\n755178859,Positive\\n928002137,Positive\\n581421457,Positive\\n559817867,Positive\\n924468374,Positive\\n358793881,Positive\\n298583494,Negative\\n765238577,Positive\\n409507632,Positive\\n823598387,Positive\\n197803679,Positive\\n888323932,Positive\\n962862309,Positive\\n507685704,Positive\\n448305254,Positive\\n566541473,Positive\\n146855305,Positive\\n823217125,Positive\\n839291326,Positive\\n636009727,Positive\\n869914888,Positive\\n354337387,Positive\\n922890156,Positive\\n203012304,Positive\\n837338028,Positive\\n753684936,Positive\\n600744915,Negative\\n114236237,Positive\\n992954714,Positive\\n921174628,Positive\\n350271441,Positive\\n451302086,Negative\\n646160319,Positive\\n122472032,Negative\\n135833038,Positive\\n423631984,Positive\\n799089340,Positive\\n921836420,Positive\\n596451122,Positive\\n725799290,Positive\\n361841608,Positive\\n859647104,Positive\\n750311932,Positive\\n355015749,Positive\\n134360017,Positive\\n693620543,Positive\\n951560961,Positive\\n633209022,Positive\\n223103599,Positive\\n966086657,Positive\\n615650298,Positive\\n505191080,Positive\\n174671741,Positive\\n491980624,Positive\\n851924993,Positive\\n409976799,Positive\\n339291757,Positive\\n136161056,Positive\\n261098742,Positive\\n479810711,Positive\\n283619800,Positive\\n728483538,Positive\\n566542654,Positive\\n465800056,Positive\\n988517450,Positive\\n769559726,Positive\\n537316626,Positive\\n871675392,Positive\\n751604188,Positive\\n382286141,Positive\\n286560862,Positive\\n597955294,Positive\\n441210049,Positive\\n726403788,Positive\\n694168296,Positive\\n352825342,Positive\\n900959556,Positive\\n998756081,Positive\\n421148113,Positive\\n729299072,Positive\\n475348195,Positive\\n'"
      ]
     },
     "execution_count": 77,
     "metadata": {},
     "output_type": "execute_result"
    }
   ],
   "source": [
    "df_new.to_csv(index = False)"
   ]
  },
  {
   "cell_type": "markdown",
   "metadata": {
    "id": "Qp_NuEcj4r9E"
   },
   "source": [
    "SVM"
   ]
  },
  {
   "cell_type": "code",
   "execution_count": 78,
   "metadata": {
    "id": "mWQ8QUNohfEg"
   },
   "outputs": [],
   "source": [
    "# create the model - Logistic Regression\n",
    "# this also may take a while on Colab for the same I/O issue, I stoped it after 20 minutes\n",
    "clf  = SVC(random_state=seed)\n",
    "\n",
    "# fit the training data to the model\n",
    "clf.fit(prepared_X_train, prepared_y_train[0])\n",
    "\n",
    "# loop through the test images\n",
    "\n",
    "preds = []\n",
    "global_test_features = []\n",
    "\n",
    "for row in test_df.iterrows():\n",
    "    # get the image file name\n",
    "    file = base_url + \"images/\"  + str(row[1]['ID']) + \".jpg\"\n",
    "\n",
    "    # read the image and resize it to a fixed-size\n",
    "    image = cv2.imread(file)\n",
    "    image = cv2.resize(image, fixed_size)\n",
    "\n",
    "    ####################################\n",
    "    # Global Feature extraction\n",
    "    ####################################\n",
    "    fv_hu_moments = fd_hu_moments(image)\n",
    "    fv_haralick   = fd_haralick(image)\n",
    "    fv_histogram  = fd_histogram(image, bins = 8)\n",
    "\n",
    "    ###################################\n",
    "    # Concatenate global features\n",
    "    ###################################\n",
    "    global_feature = np.hstack([fv_histogram, fv_haralick, fv_hu_moments])\n",
    "    \n",
    "    # scale features in the range (0-1) using the trainset scaler\n",
    "    rescaled_feature = scaler.transform(global_feature.reshape(1,-1))\n",
    "    \n",
    "    prediction = clf.predict(rescaled_feature)[0]\n",
    "\n",
    "\n",
    "    # update the list of predictions and feature vectors\n",
    "    preds.append(prediction)\n",
    "    global_test_features.append(rescaled_feature)"
   ]
  },
  {
   "cell_type": "code",
   "execution_count": 79,
   "metadata": {
    "colab": {
     "base_uri": "https://localhost:8080/",
     "height": 279
    },
    "id": "4EVsR-h44z8v",
    "outputId": "677dcf90-d9dd-47ca-b422-52f3951be697"
   },
   "outputs": [
    {
     "data": {
      "image/png": "[encoded data removed]",
      "text/plain": [
       "<Figure size 432x288 with 2 Axes>"
      ]
     },
     "metadata": {
      "needs_background": "light"
     },
     "output_type": "display_data"
    }
   ],
   "source": [
    "from sklearn.metrics import confusion_matrix, ConfusionMatrixDisplay\n",
    "clf  =  SVC(random_state=seed)\n",
    "\n",
    "# fit the training data to the model\n",
    "clf.fit(prepared_X_train, prepared_y_train[0])\n",
    "\n",
    "true_labels = prepared_y_train[0]\n",
    "pred_labels = clf.predict(prepared_X_train)\n",
    "cm = confusion_matrix(true_labels, pred_labels, labels=clf.classes_)\n",
    "disp = ConfusionMatrixDisplay(confusion_matrix=cm, display_labels=clf.classes_)\n",
    "disp.plot()\n",
    "plt.show()"
   ]
  },
  {
   "cell_type": "code",
   "execution_count": 80,
   "metadata": {
    "colab": {
     "base_uri": "https://localhost:8080/",
     "height": 206
    },
    "id": "y68g9I4o46I1",
    "outputId": "1a2f67aa-a828-4d90-8542-a63e6395210e"
   },
   "outputs": [
    {
     "data": {
      "text/html": [
       "<div>\n",
       "<style scoped>\n",
       "    .dataframe tbody tr th:only-of-type {\n",
       "        vertical-align: middle;\n",
       "    }\n",
       "\n",
       "    .dataframe tbody tr th {\n",
       "        vertical-align: top;\n",
       "    }\n",
       "\n",
       "    .dataframe thead th {\n",
       "        text-align: right;\n",
       "    }\n",
       "</style>\n",
       "<table border=\"1\" class=\"dataframe\">\n",
       "  <thead>\n",
       "    <tr style=\"text-align: right;\">\n",
       "      <th></th>\n",
       "      <th>ID</th>\n",
       "      <th>Label</th>\n",
       "    </tr>\n",
       "  </thead>\n",
       "  <tbody>\n",
       "    <tr>\n",
       "      <th>0</th>\n",
       "      <td>772800977</td>\n",
       "      <td>Positive</td>\n",
       "    </tr>\n",
       "    <tr>\n",
       "      <th>1</th>\n",
       "      <td>373497125</td>\n",
       "      <td>Positive</td>\n",
       "    </tr>\n",
       "    <tr>\n",
       "      <th>2</th>\n",
       "      <td>361268494</td>\n",
       "      <td>Positive</td>\n",
       "    </tr>\n",
       "    <tr>\n",
       "      <th>3</th>\n",
       "      <td>483957657</td>\n",
       "      <td>Positive</td>\n",
       "    </tr>\n",
       "    <tr>\n",
       "      <th>4</th>\n",
       "      <td>698405955</td>\n",
       "      <td>Positive</td>\n",
       "    </tr>\n",
       "  </tbody>\n",
       "</table>\n",
       "</div>"
      ],
      "text/plain": [
       "          ID     Label\n",
       "0  772800977  Positive\n",
       "1  373497125  Positive\n",
       "2  361268494  Positive\n",
       "3  483957657  Positive\n",
       "4  698405955  Positive"
      ]
     },
     "execution_count": 80,
     "metadata": {},
     "output_type": "execute_result"
    }
   ],
   "source": [
    "pred_df = pd.DataFrame(preds)\n",
    "df_final = pd.merge(test_df, pred_df, left_index=True, right_index=True)\n",
    "df_new = df_final.rename(columns={0:'Label'})\n",
    "le.inverse_transform(target)\n",
    "label_list = list(df_new['Label'])\n",
    "df_new_labels_inverse_transform = list(le.inverse_transform(label_list))\n",
    "df_new['Label'] =  df_new_labels_inverse_transform\n",
    "df_new.head() # Check that it looks right before pushing to csv. "
   ]
  },
  {
   "cell_type": "markdown",
   "metadata": {
    "id": "5d6-gvZS63BL"
   },
   "source": [
    "**SVM CSV**"
   ]
  },
  {
   "cell_type": "code",
   "execution_count": 81,
   "metadata": {
    "colab": {
     "base_uri": "https://localhost:8080/",
     "height": 140
    },
    "id": "xHCNtwLG46y3",
    "outputId": "d9140ce3-45de-4a7a-c2ea-10db800acb41"
   },
   "outputs": [
    {
     "data": {
      "application/vnd.google.colaboratory.intrinsic+json": {
       "type": "string"
      },
      "text/plain": [
       "'ID,Label\\n772800977,Positive\\n373497125,Positive\\n361268494,Positive\\n483957657,Positive\\n698405955,Positive\\n982040161,Positive\\n137762127,Positive\\n628000850,Positive\\n733350868,Positive\\n482269455,Positive\\n898609289,Positive\\n266971908,Positive\\n638459074,Positive\\n214868962,Positive\\n501416241,Positive\\n898312212,Positive\\n214683818,Positive\\n149629153,Positive\\n197858876,Positive\\n557558282,Positive\\n309826536,Positive\\n217484606,Positive\\n601081545,Positive\\n890580731,Positive\\n991044732,Positive\\n559469465,Positive\\n371306957,Positive\\n503845940,Positive\\n739772254,Positive\\n518890091,Positive\\n309336726,Positive\\n884550077,Positive\\n515756470,Positive\\n137210213,Positive\\n114280832,Positive\\n535761291,Positive\\n266901017,Positive\\n269554828,Positive\\n160388270,Positive\\n847383658,Positive\\n657855503,Positive\\n248255697,Positive\\n689875367,Positive\\n949570515,Positive\\n771708512,Positive\\n482430921,Positive\\n787529623,Positive\\n631511792,Positive\\n989467661,Positive\\n688865306,Positive\\n289327926,Positive\\n553733195,Positive\\n456232929,Positive\\n870236793,Positive\\n671436283,Positive\\n520407000,Positive\\n206479089,Positive\\n761563499,Positive\\n683486054,Positive\\n863732040,Positive\\n266544628,Positive\\n901219949,Positive\\n869075083,Positive\\n530885503,Positive\\n120308070,Positive\\n804489229,Positive\\n870165778,Positive\\n339447790,Positive\\n693898873,Positive\\n700680849,Positive\\n113690550,Positive\\n765994407,Positive\\n687265943,Positive\\n438392597,Positive\\n425810339,Positive\\n553769439,Positive\\n840782091,Positive\\n323278777,Positive\\n570135239,Positive\\n863951765,Positive\\n993934787,Positive\\n649613231,Positive\\n824254677,Positive\\n621429663,Positive\\n604675554,Positive\\n638354498,Positive\\n357544836,Positive\\n348800424,Positive\\n112405322,Positive\\n941643586,Positive\\n592448509,Positive\\n687310386,Positive\\n425476552,Positive\\n347871254,Positive\\n807994646,Positive\\n560221678,Positive\\n245372041,Positive\\n811553565,Positive\\n738364417,Positive\\n885196696,Positive\\n161418541,Positive\\n740596108,Positive\\n879665690,Positive\\n314324965,Positive\\n653103264,Positive\\n359417553,Positive\\n833065172,Positive\\n572011738,Positive\\n261763164,Positive\\n819637579,Positive\\n567202915,Positive\\n843292804,Positive\\n571127416,Positive\\n328336456,Positive\\n963000163,Positive\\n925696176,Positive\\n925975174,Positive\\n164873849,Positive\\n641580585,Positive\\n882290585,Positive\\n127534257,Positive\\n220043030,Positive\\n309346088,Positive\\n834486074,Positive\\n745000278,Positive\\n498370653,Positive\\n429571002,Positive\\n201690767,Positive\\n597873634,Positive\\n361989023,Positive\\n956306635,Positive\\n621819177,Positive\\n545948368,Positive\\n437463009,Positive\\n206839178,Positive\\n935805179,Positive\\n864915116,Positive\\n865538177,Positive\\n205334507,Positive\\n954412525,Positive\\n952861500,Positive\\n296819334,Positive\\n456206417,Positive\\n468097919,Positive\\n983675973,Positive\\n381962851,Positive\\n851880027,Positive\\n568857205,Positive\\n189744765,Positive\\n705176423,Positive\\n955832215,Positive\\n527850356,Positive\\n342442477,Positive\\n174497174,Positive\\n553353398,Positive\\n503428471,Positive\\n698734022,Positive\\n269540133,Positive\\n305532998,Positive\\n958432638,Positive\\n670176156,Positive\\n310326966,Positive\\n212739584,Positive\\n917643176,Positive\\n117548643,Positive\\n207401915,Positive\\n809243473,Positive\\n567196742,Positive\\n988582423,Positive\\n907225870,Positive\\n222269503,Positive\\n579977532,Positive\\n344867842,Positive\\n408833108,Positive\\n663230811,Positive\\n473533399,Positive\\n616342093,Positive\\n293145490,Positive\\n147066555,Positive\\n242720004,Positive\\n956914241,Positive\\n645565832,Positive\\n229251048,Positive\\n668294041,Positive\\n497012353,Positive\\n882082588,Positive\\n811980855,Positive\\n747995929,Positive\\n525703972,Positive\\n394872657,Positive\\n689704543,Positive\\n478924482,Positive\\n528760515,Positive\\n689983164,Positive\\n174674568,Positive\\n513159741,Positive\\n238993063,Positive\\n580690563,Positive\\n354179166,Positive\\n438386374,Positive\\n430255874,Positive\\n120984596,Positive\\n811381566,Positive\\n160205567,Positive\\n250988996,Positive\\n931903444,Positive\\n877070778,Positive\\n921671772,Positive\\n237776342,Positive\\n458272796,Positive\\n253300200,Positive\\n278564446,Positive\\n234728082,Positive\\n270062759,Positive\\n881248053,Positive\\n914118559,Positive\\n159623242,Positive\\n769001494,Positive\\n746754042,Positive\\n919975235,Positive\\n946314017,Positive\\n526438271,Positive\\n568276723,Positive\\n585409390,Positive\\n287455609,Positive\\n564705451,Positive\\n675353860,Positive\\n476428299,Positive\\n658512929,Positive\\n325596073,Positive\\n659635619,Positive\\n121189453,Positive\\n248692566,Positive\\n971085291,Positive\\n492384370,Positive\\n135119469,Positive\\n769020446,Positive\\n775523862,Positive\\n780744755,Positive\\n949075500,Positive\\n581392358,Positive\\n850723020,Positive\\n729336456,Positive\\n433474240,Positive\\n899762025,Positive\\n212444471,Positive\\n584129247,Positive\\n848020107,Positive\\n948144679,Positive\\n438635990,Positive\\n468035226,Positive\\n459327017,Positive\\n322717962,Positive\\n610474168,Positive\\n247880256,Positive\\n274086828,Positive\\n512506239,Positive\\n552974948,Positive\\n181057315,Positive\\n905218832,Positive\\n479410449,Positive\\n514405559,Positive\\n901166695,Positive\\n257827847,Positive\\n584633549,Positive\\n213388536,Positive\\n503548006,Positive\\n960615967,Positive\\n281561241,Positive\\n278736598,Positive\\n407908514,Positive\\n385057450,Positive\\n637093854,Positive\\n374231034,Positive\\n831311845,Positive\\n799521935,Positive\\n686857025,Positive\\n432947529,Positive\\n304947129,Positive\\n423900997,Positive\\n695948687,Positive\\n650941825,Positive\\n582163041,Positive\\n929913506,Positive\\n597040391,Positive\\n970049572,Positive\\n694886691,Positive\\n231331472,Positive\\n964314194,Positive\\n524883351,Positive\\n429336789,Positive\\n233014846,Positive\\n655430763,Positive\\n689522272,Positive\\n458197597,Positive\\n854203620,Positive\\n579847541,Positive\\n584780152,Positive\\n205040233,Positive\\n489129852,Positive\\n273491508,Positive\\n714986031,Positive\\n138529827,Positive\\n464898976,Positive\\n926977753,Positive\\n220536027,Positive\\n326251339,Positive\\n334572414,Positive\\n200647995,Positive\\n277123601,Positive\\n404698729,Positive\\n124882047,Positive\\n932259657,Positive\\n395218225,Positive\\n134136753,Positive\\n984092204,Positive\\n984033645,Positive\\n299937145,Positive\\n633474655,Positive\\n538116896,Positive\\n711962523,Positive\\n335425693,Positive\\n601671390,Positive\\n820219021,Positive\\n279029380,Positive\\n763105534,Positive\\n484853035,Positive\\n942617954,Positive\\n111550682,Positive\\n112696873,Positive\\n370773144,Positive\\n536363540,Positive\\n605835140,Positive\\n429041439,Positive\\n497889216,Positive\\n955033993,Positive\\n629906714,Positive\\n582757853,Positive\\n650392699,Positive\\n149849281,Positive\\n499334500,Positive\\n914111623,Positive\\n578753009,Positive\\n613063501,Positive\\n294460605,Positive\\n563356576,Positive\\n657825996,Positive\\n918498210,Positive\\n596726460,Positive\\n604478687,Positive\\n334372762,Positive\\n643409893,Positive\\n976236014,Positive\\n183939207,Positive\\n729022889,Positive\\n383535068,Positive\\n906835602,Positive\\n592744519,Positive\\n957649958,Positive\\n132691595,Positive\\n727424477,Positive\\n501921563,Positive\\n810059316,Positive\\n416568265,Positive\\n991675314,Positive\\n670057494,Positive\\n751613754,Positive\\n115017363,Positive\\n996160142,Positive\\n145726425,Positive\\n812767282,Positive\\n142456497,Positive\\n466243449,Positive\\n628145078,Positive\\n652511968,Positive\\n610205705,Positive\\n145690361,Positive\\n393201576,Positive\\n358355649,Positive\\n673916900,Positive\\n593407164,Positive\\n384573509,Positive\\n569421742,Positive\\n275063690,Positive\\n719064505,Positive\\n555747324,Positive\\n941498865,Positive\\n351732502,Positive\\n533411636,Positive\\n491267389,Positive\\n696401520,Positive\\n964396466,Positive\\n370224930,Positive\\n760327975,Positive\\n551456386,Positive\\n397426033,Positive\\n311344866,Positive\\n869743166,Positive\\n532885727,Positive\\n591041274,Positive\\n853193947,Positive\\n803545216,Positive\\n852736945,Positive\\n288335881,Positive\\n948289188,Positive\\n530922612,Positive\\n426104330,Positive\\n367834296,Positive\\n193409449,Positive\\n698275161,Positive\\n618353370,Positive\\n191650584,Positive\\n115429016,Positive\\n726899457,Positive\\n496666066,Positive\\n746556888,Positive\\n773110430,Positive\\n753342765,Positive\\n642096197,Positive\\n354984508,Positive\\n142574858,Positive\\n727701806,Positive\\n846963547,Positive\\n700167051,Positive\\n170546498,Positive\\n311701306,Positive\\n489041542,Positive\\n850799409,Positive\\n470156690,Positive\\n868340538,Positive\\n325206223,Positive\\n560548881,Positive\\n375532083,Positive\\n166120146,Positive\\n488970432,Positive\\n704623331,Positive\\n548162287,Positive\\n345544070,Positive\\n511150870,Positive\\n606514146,Positive\\n126786096,Positive\\n685919358,Positive\\n230133717,Positive\\n221876514,Positive\\n576696985,Positive\\n959331139,Positive\\n465909887,Positive\\n212680474,Positive\\n169214233,Positive\\n416289818,Positive\\n400426708,Positive\\n431738812,Positive\\n470726225,Positive\\n639774656,Positive\\n874354567,Positive\\n495503142,Positive\\n455416074,Positive\\n334637677,Positive\\n236424197,Positive\\n610735487,Positive\\n456245361,Positive\\n554369563,Positive\\n593593664,Positive\\n897064701,Positive\\n234755521,Positive\\n500828118,Positive\\n357047388,Positive\\n853715107,Positive\\n862605460,Positive\\n515198124,Positive\\n902241206,Positive\\n990107316,Positive\\n553191605,Positive\\n518341723,Positive\\n661866450,Positive\\n191081452,Positive\\n943773704,Positive\\n820817225,Positive\\n392870230,Positive\\n767080305,Positive\\n433558941,Positive\\n617154555,Positive\\n178048951,Positive\\n442777352,Positive\\n776344469,Positive\\n137112398,Positive\\n347232901,Positive\\n943630920,Positive\\n832671220,Positive\\n112533993,Positive\\n453921596,Positive\\n352824466,Positive\\n365878036,Positive\\n464474799,Positive\\n777143843,Positive\\n823678850,Positive\\n714774653,Positive\\n317001391,Positive\\n649714572,Positive\\n614776699,Positive\\n753471389,Positive\\n548342309,Positive\\n790824176,Positive\\n727855311,Positive\\n341656210,Positive\\n938422965,Positive\\n262479785,Positive\\n923514729,Positive\\n174545812,Positive\\n161920648,Positive\\n624708163,Positive\\n711305869,Positive\\n308919298,Positive\\n279430941,Positive\\n443626162,Positive\\n750624382,Positive\\n795330445,Positive\\n462302458,Positive\\n699207162,Positive\\n949832006,Positive\\n873355275,Positive\\n133040624,Positive\\n789333827,Positive\\n148388001,Positive\\n410166701,Positive\\n219628947,Positive\\n494512302,Positive\\n694998007,Positive\\n898937996,Positive\\n791952574,Positive\\n805146962,Positive\\n419964381,Positive\\n164386802,Positive\\n428220935,Positive\\n790630318,Positive\\n933468399,Positive\\n114626175,Positive\\n573621150,Positive\\n355973043,Positive\\n187372768,Positive\\n354369594,Positive\\n712442912,Positive\\n731418242,Positive\\n584696772,Positive\\n548225993,Positive\\n340984914,Positive\\n865293168,Positive\\n573985693,Positive\\n437933321,Positive\\n365763565,Positive\\n641926379,Positive\\n137409767,Positive\\n333906245,Positive\\n670018688,Positive\\n705053045,Positive\\n541546320,Positive\\n844340937,Positive\\n473799463,Positive\\n286139007,Positive\\n202773756,Positive\\n238833021,Positive\\n593956330,Positive\\n946065690,Positive\\n996193577,Positive\\n423931980,Positive\\n125850860,Positive\\n713674489,Positive\\n444171290,Positive\\n274480714,Positive\\n428397208,Positive\\n246881834,Positive\\n986460019,Positive\\n477341759,Positive\\n286721389,Positive\\n553292030,Positive\\n158574158,Positive\\n337454899,Positive\\n422433509,Positive\\n708586266,Positive\\n173119170,Positive\\n801552181,Positive\\n476285293,Positive\\n668346029,Positive\\n178202010,Positive\\n416225004,Positive\\n887426551,Positive\\n499010654,Positive\\n248849062,Positive\\n897721352,Positive\\n406603800,Positive\\n267465925,Positive\\n606944198,Positive\\n316905576,Positive\\n938841209,Positive\\n793621226,Positive\\n535338462,Positive\\n520336138,Positive\\n294788690,Positive\\n296327078,Positive\\n256710500,Positive\\n520786701,Positive\\n227360754,Positive\\n333070333,Positive\\n562438782,Positive\\n778996143,Positive\\n275983382,Positive\\n230168270,Positive\\n947823695,Positive\\n269269918,Positive\\n587674640,Positive\\n861214381,Positive\\n536644515,Positive\\n251145987,Positive\\n417647610,Positive\\n280857809,Positive\\n968897812,Positive\\n867173885,Positive\\n625647117,Positive\\n790909482,Positive\\n799781249,Positive\\n155001852,Positive\\n179080589,Positive\\n890771748,Positive\\n840279405,Positive\\n602420002,Positive\\n165067892,Positive\\n585958810,Positive\\n119231669,Positive\\n649267906,Positive\\n620431389,Positive\\n810002477,Positive\\n486264971,Positive\\n388485571,Positive\\n629362246,Positive\\n780407626,Positive\\n870133941,Positive\\n672677559,Positive\\n701894858,Positive\\n828379212,Positive\\n590982474,Positive\\n895523300,Positive\\n326602694,Positive\\n728717027,Positive\\n851873040,Positive\\n710129788,Positive\\n615864330,Positive\\n781171795,Positive\\n908597313,Positive\\n574039240,Positive\\n405849209,Positive\\n228004712,Positive\\n810882121,Positive\\n747783827,Positive\\n250446390,Positive\\n111183700,Positive\\n682893449,Positive\\n374281267,Positive\\n279725310,Positive\\n124234810,Positive\\n300042508,Positive\\n349345190,Positive\\n351290213,Positive\\n337492365,Positive\\n903203359,Positive\\n513056620,Positive\\n244781212,Positive\\n499525565,Positive\\n362584135,Positive\\n813533667,Positive\\n503729527,Positive\\n791680845,Positive\\n771397835,Positive\\n304367934,Positive\\n731257126,Positive\\n641213068,Positive\\n659129871,Positive\\n945082183,Positive\\n585352779,Positive\\n245732677,Positive\\n862372020,Positive\\n455882408,Positive\\n119061777,Positive\\n552543703,Positive\\n777071259,Positive\\n585839692,Positive\\n414134037,Positive\\n314989203,Positive\\n917869714,Positive\\n967325231,Positive\\n666087682,Positive\\n954210172,Positive\\n442293011,Positive\\n451356413,Positive\\n153629884,Positive\\n760938492,Positive\\n347507692,Positive\\n906642047,Positive\\n581051254,Positive\\n973409047,Positive\\n680926214,Positive\\n353647843,Positive\\n641503711,Positive\\n810395247,Positive\\n337220946,Positive\\n182818289,Positive\\n694723247,Positive\\n907356120,Positive\\n975675017,Positive\\n536565124,Positive\\n159855600,Positive\\n228995986,Positive\\n144153236,Positive\\n379586613,Positive\\n644299289,Positive\\n130979673,Positive\\n822068095,Positive\\n479395938,Positive\\n242205608,Positive\\n166955436,Positive\\n885739519,Positive\\n224139098,Positive\\n333225312,Positive\\n355127118,Positive\\n564039727,Positive\\n894872965,Positive\\n959300967,Positive\\n560041975,Positive\\n632595150,Positive\\n823534865,Positive\\n802722572,Positive\\n589766166,Positive\\n517182989,Positive\\n649540198,Positive\\n523085613,Positive\\n626931902,Positive\\n552337648,Positive\\n761989980,Positive\\n367506923,Positive\\n882020637,Positive\\n901350718,Positive\\n136846494,Positive\\n899822274,Positive\\n904841160,Positive\\n744041584,Positive\\n642089018,Positive\\n273387653,Positive\\n935757162,Positive\\n579610250,Positive\\n962631623,Positive\\n371368578,Positive\\n783321749,Positive\\n945887783,Positive\\n788086176,Positive\\n856148171,Positive\\n350116314,Positive\\n944934520,Positive\\n331354295,Positive\\n778059792,Positive\\n159308164,Positive\\n245749632,Positive\\n264777892,Positive\\n396891647,Positive\\n753014769,Positive\\n687391491,Positive\\n284601751,Positive\\n234032985,Positive\\n434491630,Positive\\n561005674,Positive\\n804161112,Positive\\n181358702,Positive\\n482326260,Positive\\n212586819,Positive\\n365285833,Positive\\n872259285,Positive\\n995565144,Positive\\n122214156,Positive\\n890932734,Positive\\n372709923,Positive\\n831495755,Positive\\n200058025,Positive\\n732440577,Positive\\n799494898,Positive\\n621425960,Positive\\n694818802,Positive\\n820483216,Positive\\n564021448,Positive\\n561545366,Positive\\n770974649,Positive\\n517086223,Positive\\n508791138,Positive\\n926000536,Positive\\n856115049,Positive\\n767010887,Positive\\n766694151,Positive\\n754096110,Positive\\n719979965,Positive\\n277665654,Positive\\n494322727,Positive\\n759409883,Positive\\n499908956,Positive\\n444240565,Positive\\n656287618,Positive\\n184110713,Positive\\n733062039,Positive\\n366693656,Positive\\n355780375,Positive\\n231586086,Positive\\n180083496,Positive\\n668684276,Positive\\n530139132,Positive\\n407361583,Positive\\n207521289,Positive\\n736528445,Positive\\n380207899,Positive\\n887085477,Positive\\n671521580,Positive\\n194645046,Positive\\n519877504,Positive\\n579360644,Positive\\n320935773,Positive\\n339645658,Positive\\n283387356,Positive\\n174538181,Positive\\n258947257,Positive\\n951198384,Positive\\n756518121,Positive\\n620574134,Positive\\n770725158,Positive\\n912112196,Positive\\n980881143,Positive\\n240179399,Positive\\n983113414,Positive\\n752982012,Positive\\n164538425,Positive\\n148493292,Positive\\n179602263,Positive\\n442188951,Positive\\n480041473,Positive\\n935302174,Positive\\n317569107,Positive\\n754851868,Positive\\n993805452,Positive\\n462176141,Positive\\n525094436,Positive\\n451487873,Positive\\n979706159,Positive\\n150492655,Positive\\n736745506,Positive\\n966664973,Positive\\n732959685,Positive\\n900796079,Positive\\n753118283,Positive\\n412275085,Positive\\n651302380,Positive\\n930208428,Positive\\n413534702,Positive\\n615855313,Positive\\n797544165,Positive\\n350887199,Positive\\n122473877,Positive\\n989090892,Positive\\n620732750,Positive\\n207981120,Positive\\n329455815,Positive\\n721325208,Positive\\n395331495,Positive\\n796598772,Positive\\n139985339,Positive\\n494911776,Positive\\n479956188,Positive\\n592093662,Positive\\n710619907,Positive\\n333490770,Positive\\n747614017,Positive\\n259381958,Positive\\n806832224,Positive\\n239147957,Positive\\n308520234,Positive\\n647568588,Positive\\n653235334,Positive\\n892797163,Positive\\n653401505,Positive\\n376486716,Positive\\n663208111,Positive\\n803349349,Positive\\n636077926,Positive\\n649974541,Positive\\n542998536,Positive\\n806013391,Positive\\n833144619,Positive\\n236689665,Positive\\n628490846,Positive\\n156473314,Positive\\n354947133,Positive\\n181573994,Positive\\n345001521,Positive\\n893921197,Positive\\n142148848,Positive\\n126950214,Positive\\n215761206,Positive\\n566246296,Positive\\n440946673,Positive\\n358173023,Positive\\n727950924,Positive\\n443139644,Positive\\n837376371,Positive\\n781794618,Positive\\n931928030,Positive\\n934581126,Positive\\n981894493,Positive\\n718395777,Positive\\n676872157,Positive\\n799451105,Positive\\n601423971,Positive\\n625038612,Positive\\n305236243,Positive\\n287757846,Positive\\n730631142,Positive\\n529303503,Positive\\n759318337,Positive\\n334798104,Positive\\n519342797,Positive\\n511397905,Positive\\n154291795,Positive\\n593014860,Positive\\n479630830,Positive\\n974604335,Positive\\n510905201,Positive\\n369168794,Positive\\n314738048,Positive\\n145478852,Positive\\n531476676,Positive\\n496604328,Positive\\n471215021,Positive\\n349344023,Positive\\n765309133,Positive\\n794004432,Positive\\n617396128,Positive\\n250682184,Positive\\n155396459,Positive\\n309644278,Positive\\n424347574,Positive\\n230445415,Positive\\n427070423,Positive\\n892244871,Positive\\n678049695,Positive\\n560536623,Positive\\n811719043,Positive\\n387916301,Positive\\n785990935,Positive\\n894260749,Positive\\n717391842,Positive\\n162183648,Positive\\n914949588,Positive\\n111495476,Positive\\n966330087,Positive\\n960251428,Positive\\n278088293,Positive\\n530876888,Positive\\n408438732,Positive\\n496772051,Positive\\n503022514,Positive\\n145378328,Positive\\n868529878,Positive\\n253628943,Positive\\n601216638,Positive\\n435127286,Positive\\n587303902,Positive\\n175257150,Positive\\n174466689,Positive\\n451299227,Positive\\n358962682,Positive\\n974464381,Positive\\n274612375,Positive\\n206413619,Positive\\n186923566,Positive\\n515413705,Positive\\n224335624,Positive\\n273074528,Positive\\n296015570,Positive\\n356168887,Positive\\n936355944,Positive\\n555227616,Positive\\n951638218,Positive\\n269165359,Positive\\n348799643,Positive\\n316648790,Positive\\n652128873,Positive\\n535777653,Positive\\n926684194,Positive\\n572901632,Positive\\n192686694,Positive\\n297091998,Positive\\n464337746,Positive\\n552744751,Positive\\n466431124,Positive\\n568736563,Positive\\n391513136,Positive\\n875075999,Positive\\n830329772,Positive\\n260650580,Positive\\n395744343,Positive\\n516242704,Positive\\n588266205,Positive\\n582104819,Positive\\n573362824,Positive\\n143316289,Positive\\n845975634,Positive\\n729259411,Positive\\n213263238,Positive\\n153233756,Positive\\n219551620,Positive\\n605461383,Positive\\n748140602,Positive\\n463346053,Positive\\n875631596,Positive\\n657804194,Positive\\n637191312,Positive\\n303729399,Positive\\n575784644,Positive\\n552507351,Positive\\n935214435,Positive\\n733426355,Positive\\n370647777,Positive\\n275233753,Positive\\n664741375,Positive\\n124769570,Positive\\n528697930,Positive\\n283791318,Positive\\n442906799,Positive\\n219361818,Positive\\n117975542,Positive\\n712169257,Positive\\n382601630,Positive\\n854999488,Positive\\n302730438,Positive\\n281888677,Positive\\n201894241,Positive\\n909482485,Positive\\n255822184,Positive\\n413106228,Positive\\n544365479,Positive\\n530951860,Positive\\n736178069,Positive\\n807671257,Positive\\n909479806,Positive\\n418350772,Positive\\n408659508,Positive\\n990948310,Positive\\n207669581,Positive\\n787888932,Positive\\n354601000,Positive\\n877234167,Positive\\n836370873,Positive\\n347541976,Positive\\n870174166,Positive\\n421409928,Positive\\n902935077,Positive\\n193530185,Positive\\n971669614,Positive\\n697736286,Positive\\n932816090,Positive\\n338176538,Positive\\n427379596,Positive\\n680474481,Positive\\n890231712,Positive\\n321853161,Positive\\n892377001,Positive\\n135513876,Positive\\n258780400,Positive\\n513947822,Positive\\n914641753,Positive\\n709051733,Positive\\n598295745,Positive\\n869243580,Positive\\n429040013,Positive\\n605751169,Positive\\n927171956,Positive\\n974735288,Positive\\n267950951,Positive\\n754537592,Positive\\n619388436,Positive\\n125241256,Positive\\n311709988,Positive\\n899123321,Positive\\n217290095,Positive\\n421747177,Positive\\n281297444,Positive\\n271236514,Positive\\n622837877,Positive\\n737597334,Positive\\n616209703,Positive\\n113191548,Positive\\n914280513,Positive\\n192172210,Positive\\n156932416,Positive\\n899006645,Positive\\n825773923,Positive\\n944938330,Positive\\n996266460,Positive\\n431181953,Positive\\n744724883,Positive\\n757241404,Positive\\n943858158,Positive\\n130814620,Positive\\n436481036,Positive\\n269954778,Positive\\n338286403,Positive\\n193565791,Positive\\n941471106,Positive\\n115158069,Positive\\n589108320,Positive\\n739608972,Positive\\n673287851,Positive\\n307931524,Positive\\n862292411,Positive\\n207753998,Positive\\n537105334,Positive\\n739356322,Positive\\n201493359,Positive\\n652191243,Positive\\n482838891,Positive\\n466423774,Positive\\n879465300,Positive\\n863487481,Positive\\n257282776,Positive\\n946210176,Positive\\n708186118,Positive\\n802275854,Positive\\n276052807,Positive\\n559140949,Positive\\n506353043,Positive\\n679907840,Positive\\n689052638,Positive\\n907627713,Positive\\n822230292,Positive\\n399977328,Positive\\n808078749,Positive\\n910362087,Positive\\n424588518,Positive\\n607275801,Positive\\n390517135,Positive\\n579772511,Positive\\n266193893,Positive\\n931959174,Positive\\n620517266,Positive\\n415806949,Positive\\n984131553,Positive\\n623825970,Positive\\n589742138,Positive\\n216958986,Positive\\n113788292,Positive\\n144082557,Positive\\n963696996,Positive\\n273819243,Positive\\n814429027,Positive\\n445755891,Positive\\n527914089,Positive\\n900507181,Positive\\n479760287,Positive\\n487340809,Positive\\n369335502,Positive\\n619878953,Positive\\n914040782,Positive\\n596855637,Positive\\n531729095,Positive\\n838350381,Positive\\n515508968,Positive\\n792285556,Positive\\n175737484,Positive\\n762122180,Positive\\n933139116,Positive\\n282905342,Positive\\n669927082,Positive\\n431333850,Positive\\n921055425,Positive\\n236717361,Positive\\n632965526,Positive\\n318097679,Positive\\n971932925,Positive\\n793431984,Positive\\n903947520,Positive\\n859445668,Positive\\n604211565,Positive\\n799850976,Positive\\n232954494,Positive\\n278254620,Positive\\n951199264,Positive\\n425280621,Positive\\n440087989,Positive\\n133192032,Positive\\n951695611,Positive\\n460786674,Positive\\n603144783,Positive\\n484413263,Positive\\n596168221,Positive\\n152150481,Positive\\n874654013,Positive\\n701668267,Positive\\n306331403,Positive\\n410699739,Positive\\n975808235,Positive\\n156218378,Positive\\n809184675,Positive\\n502176425,Positive\\n293771342,Positive\\n987011870,Positive\\n860329904,Positive\\n247861131,Positive\\n264087125,Positive\\n846172174,Positive\\n957355856,Positive\\n622973226,Positive\\n830315562,Positive\\n261738214,Positive\\n740175589,Positive\\n511127052,Positive\\n866101115,Positive\\n321698973,Positive\\n727752900,Positive\\n262869021,Positive\\n229819171,Positive\\n276321737,Positive\\n381801683,Positive\\n704033452,Positive\\n228862010,Positive\\n392411808,Positive\\n469635589,Positive\\n789105402,Positive\\n894476650,Positive\\n454986912,Positive\\n388476012,Positive\\n779109287,Positive\\n826034525,Positive\\n710554503,Positive\\n956172973,Positive\\n698258900,Positive\\n281579337,Positive\\n798295607,Positive\\n831171076,Positive\\n474713606,Positive\\n758622583,Positive\\n407416570,Positive\\n887433392,Positive\\n217698273,Positive\\n950872776,Positive\\n620380049,Positive\\n822752672,Positive\\n901241779,Positive\\n808737675,Positive\\n760058238,Positive\\n231551117,Positive\\n628072534,Positive\\n638558531,Positive\\n375499269,Positive\\n655989320,Positive\\n466601983,Positive\\n600220119,Positive\\n928490582,Positive\\n572830719,Positive\\n252058253,Positive\\n940685417,Positive\\n740350330,Positive\\n561457712,Positive\\n454415819,Positive\\n334942811,Positive\\n743421608,Positive\\n849854171,Positive\\n837194459,Positive\\n220628677,Positive\\n335662932,Positive\\n496311975,Positive\\n791266452,Positive\\n374299487,Positive\\n735269389,Positive\\n362074168,Positive\\n657673925,Positive\\n512835399,Positive\\n742274366,Positive\\n249248831,Positive\\n846735968,Positive\\n400984498,Positive\\n240039213,Positive\\n884232697,Positive\\n665365704,Positive\\n923339981,Positive\\n480608690,Positive\\n161723742,Positive\\n557634303,Positive\\n744016273,Positive\\n147754505,Positive\\n685147085,Positive\\n442569141,Positive\\n577907922,Positive\\n432506253,Positive\\n536483625,Positive\\n944808696,Positive\\n411861851,Positive\\n381760484,Positive\\n863242911,Positive\\n208281805,Positive\\n568010210,Positive\\n683280933,Positive\\n145217373,Positive\\n664148923,Positive\\n902846343,Positive\\n365084011,Positive\\n805754755,Positive\\n295615991,Positive\\n965003601,Positive\\n684578739,Positive\\n543202027,Positive\\n633510734,Positive\\n995770789,Positive\\n787547872,Positive\\n476023475,Positive\\n414034829,Positive\\n204395726,Positive\\n308588995,Positive\\n711413326,Positive\\n216716476,Positive\\n833258456,Positive\\n915067084,Positive\\n473382699,Positive\\n309675831,Positive\\n156254056,Positive\\n609080619,Positive\\n606275339,Positive\\n482955327,Positive\\n317080211,Positive\\n502243319,Positive\\n603467410,Positive\\n359215119,Positive\\n153798769,Positive\\n584792804,Positive\\n909359202,Positive\\n823733707,Positive\\n674145908,Positive\\n454835729,Positive\\n897958478,Positive\\n707600783,Positive\\n340822825,Positive\\n208021488,Positive\\n574752670,Positive\\n383426482,Positive\\n155304922,Positive\\n151507943,Positive\\n177865342,Positive\\n964789816,Positive\\n913703109,Positive\\n330454149,Positive\\n856855702,Positive\\n853189532,Positive\\n961614955,Positive\\n113789790,Positive\\n119801905,Positive\\n406618289,Positive\\n627081391,Positive\\n303908229,Positive\\n278570448,Positive\\n945397218,Positive\\n558871021,Positive\\n155927137,Positive\\n819776757,Positive\\n846970371,Positive\\n302327962,Positive\\n931024614,Positive\\n389434382,Positive\\n541826234,Positive\\n888718415,Positive\\n629707864,Positive\\n291911493,Positive\\n182796634,Positive\\n930546247,Positive\\n234955667,Positive\\n773986381,Positive\\n877958056,Positive\\n766300243,Positive\\n175936497,Positive\\n943174553,Positive\\n596024076,Positive\\n329682774,Positive\\n710816434,Positive\\n448485317,Positive\\n489795459,Positive\\n210542710,Positive\\n223000236,Positive\\n496127292,Positive\\n629431094,Positive\\n181543172,Positive\\n257331403,Positive\\n424716773,Positive\\n905861688,Positive\\n518117890,Positive\\n273492166,Positive\\n735060603,Positive\\n126259517,Positive\\n813804019,Positive\\n312512151,Positive\\n888094183,Positive\\n876431028,Positive\\n462443266,Positive\\n334281016,Positive\\n588909333,Positive\\n592644966,Positive\\n153831308,Positive\\n751972415,Positive\\n574172534,Positive\\n356033247,Positive\\n413935965,Positive\\n753764879,Positive\\n930686336,Positive\\n695224905,Positive\\n790213496,Positive\\n122030451,Positive\\n460801219,Positive\\n745166842,Positive\\n360620984,Positive\\n892390599,Positive\\n176927660,Positive\\n590891433,Positive\\n752656159,Positive\\n406542559,Positive\\n324720691,Positive\\n701142015,Positive\\n921506159,Positive\\n455814646,Positive\\n695671995,Positive\\n386808955,Positive\\n977831509,Positive\\n803086287,Positive\\n493917850,Positive\\n127585349,Positive\\n766228866,Positive\\n914950706,Positive\\n860177651,Positive\\n729826612,Positive\\n632534053,Positive\\n744568908,Positive\\n705156613,Positive\\n823012017,Positive\\n393221925,Positive\\n546257131,Positive\\n329521304,Positive\\n743738463,Positive\\n831882283,Positive\\n444125940,Positive\\n880516373,Positive\\n461054641,Positive\\n227162284,Positive\\n345818447,Positive\\n575111638,Positive\\n608870687,Positive\\n476301540,Positive\\n457947115,Positive\\n199992469,Positive\\n241283459,Positive\\n584396962,Positive\\n926898262,Positive\\n581340676,Positive\\n844387266,Positive\\n618666268,Positive\\n183410961,Positive\\n632986497,Positive\\n781586961,Positive\\n229739869,Positive\\n714063131,Positive\\n291740130,Positive\\n188403149,Positive\\n795984260,Positive\\n631528092,Positive\\n174535448,Positive\\n439294768,Positive\\n408047197,Positive\\n766613462,Positive\\n849265129,Positive\\n683148391,Positive\\n861374079,Positive\\n782872560,Positive\\n895944237,Positive\\n221122047,Positive\\n882848389,Positive\\n368120482,Positive\\n471110111,Positive\\n325951458,Positive\\n411346321,Positive\\n735719498,Positive\\n951956998,Positive\\n399622243,Positive\\n995903900,Positive\\n809668806,Positive\\n201674796,Positive\\n267734543,Positive\\n471909107,Positive\\n290302843,Positive\\n201209575,Positive\\n549459061,Positive\\n225424991,Positive\\n726516763,Positive\\n537182893,Positive\\n264638819,Positive\\n618053139,Positive\\n263574264,Positive\\n578690157,Positive\\n875190615,Positive\\n198325537,Positive\\n722413534,Positive\\n336278314,Positive\\n833362477,Positive\\n353044926,Positive\\n644814331,Positive\\n826575365,Positive\\n568472693,Positive\\n757731492,Positive\\n591611715,Positive\\n664308411,Positive\\n720177165,Positive\\n965742363,Positive\\n578999153,Positive\\n620975899,Positive\\n463707171,Positive\\n140559345,Positive\\n320425514,Positive\\n469413590,Positive\\n355128358,Positive\\n760857220,Positive\\n589209185,Positive\\n963973601,Positive\\n802760941,Positive\\n446280138,Positive\\n234330586,Positive\\n417075196,Positive\\n936124647,Positive\\n249386722,Positive\\n752717824,Positive\\n521738400,Positive\\n990495500,Positive\\n288363624,Positive\\n460301989,Positive\\n760229954,Positive\\n320263849,Positive\\n725173154,Positive\\n941236685,Positive\\n183379510,Positive\\n204316903,Positive\\n225331475,Positive\\n664831694,Positive\\n832717694,Positive\\n209028587,Positive\\n430984448,Positive\\n604028861,Positive\\n973023749,Positive\\n675197174,Positive\\n171189847,Positive\\n631980289,Positive\\n675516191,Positive\\n350322798,Positive\\n546550277,Positive\\n813582995,Positive\\n754238346,Positive\\n638241651,Positive\\n163285577,Positive\\n526107123,Positive\\n440862686,Positive\\n386848838,Positive\\n477600672,Positive\\n562927970,Positive\\n433305230,Positive\\n140223491,Positive\\n987933561,Positive\\n472004454,Positive\\n624237099,Positive\\n616775040,Positive\\n683755507,Positive\\n429694147,Positive\\n255264945,Positive\\n845863502,Positive\\n148448440,Positive\\n149731654,Positive\\n188468612,Positive\\n731091484,Positive\\n161198613,Positive\\n784542191,Positive\\n714260613,Positive\\n218078021,Positive\\n584722567,Positive\\n622856870,Positive\\n751221190,Positive\\n317821871,Positive\\n739419087,Positive\\n292988847,Positive\\n892548662,Positive\\n677687460,Positive\\n969705871,Positive\\n529317480,Positive\\n775966933,Positive\\n874221122,Positive\\n715064191,Positive\\n707594199,Positive\\n302811490,Positive\\n730466936,Positive\\n686798545,Positive\\n873201776,Positive\\n379473683,Positive\\n607129551,Positive\\n866756885,Positive\\n713140715,Positive\\n250105013,Positive\\n275041959,Positive\\n823219088,Positive\\n695684788,Positive\\n607788106,Positive\\n635485691,Positive\\n560837899,Positive\\n140452023,Positive\\n843919396,Positive\\n561469245,Positive\\n599531302,Positive\\n365242484,Positive\\n656286149,Positive\\n916213308,Positive\\n638899001,Positive\\n343868898,Positive\\n451331326,Positive\\n847847639,Positive\\n653408488,Positive\\n341201236,Positive\\n645349571,Positive\\n142483767,Positive\\n717314418,Positive\\n868354638,Positive\\n261490207,Positive\\n684491851,Positive\\n874468632,Positive\\n499591645,Positive\\n153372411,Positive\\n307844273,Positive\\n788452397,Positive\\n810961672,Positive\\n214185803,Positive\\n228892711,Positive\\n433967975,Positive\\n713641212,Positive\\n636693930,Positive\\n628075000,Positive\\n204734501,Positive\\n263968099,Positive\\n413283360,Positive\\n776452019,Positive\\n553106007,Positive\\n774197315,Positive\\n168336284,Positive\\n574567988,Positive\\n766620221,Positive\\n605435406,Positive\\n917035616,Positive\\n445298395,Positive\\n187354168,Positive\\n732566117,Positive\\n939332370,Positive\\n609572750,Positive\\n585974859,Positive\\n423204708,Positive\\n784607109,Positive\\n663115266,Positive\\n990160835,Positive\\n694241696,Positive\\n273226559,Positive\\n262843243,Positive\\n659473549,Positive\\n647069708,Positive\\n315053197,Positive\\n189699297,Positive\\n676406896,Positive\\n557332432,Positive\\n281415317,Positive\\n292207980,Positive\\n532317418,Positive\\n943784858,Positive\\n373215703,Positive\\n364720626,Positive\\n196682225,Positive\\n847400665,Positive\\n525581390,Positive\\n806693225,Positive\\n662815908,Positive\\n959330155,Positive\\n511057812,Positive\\n309960564,Positive\\n273075642,Positive\\n451938391,Positive\\n244328164,Positive\\n923748806,Positive\\n944484097,Positive\\n135481095,Positive\\n230802210,Positive\\n720516556,Positive\\n548092000,Positive\\n793810102,Positive\\n617453942,Positive\\n286972787,Positive\\n418954442,Positive\\n288984637,Positive\\n112039355,Positive\\n298557467,Positive\\n411734834,Positive\\n666115696,Positive\\n805249157,Positive\\n112694967,Positive\\n594709386,Positive\\n515783776,Positive\\n259533450,Positive\\n400013616,Positive\\n608256828,Positive\\n769737414,Positive\\n128112467,Positive\\n393267398,Positive\\n410892075,Positive\\n831130572,Positive\\n996575139,Positive\\n186585390,Positive\\n802733445,Positive\\n207196144,Positive\\n949460646,Positive\\n239513683,Positive\\n315032972,Positive\\n503627122,Positive\\n320733859,Positive\\n812059956,Positive\\n153000359,Positive\\n515913296,Positive\\n636408780,Positive\\n371085360,Positive\\n755948427,Positive\\n696829406,Positive\\n279389233,Positive\\n416034488,Positive\\n695084205,Positive\\n956711181,Positive\\n320029499,Positive\\n924930869,Positive\\n545463894,Positive\\n150514513,Positive\\n340315629,Positive\\n890978005,Positive\\n898999722,Positive\\n654156289,Positive\\n266246858,Positive\\n950937794,Positive\\n984552462,Positive\\n896552550,Positive\\n848485008,Positive\\n855084954,Positive\\n871150025,Positive\\n939969187,Positive\\n881630961,Positive\\n641671101,Positive\\n790922324,Positive\\n596754687,Positive\\n429046882,Positive\\n240531762,Positive\\n831130324,Positive\\n714063506,Positive\\n445433234,Positive\\n948126188,Positive\\n420380850,Positive\\n767137139,Positive\\n762398149,Positive\\n633099480,Positive\\n640387004,Positive\\n492357383,Positive\\n132241983,Positive\\n210283470,Positive\\n446179348,Positive\\n806966912,Positive\\n957812993,Positive\\n747979645,Positive\\n446835335,Positive\\n520459944,Positive\\n977155712,Positive\\n815467652,Positive\\n958322995,Positive\\n202452800,Positive\\n607043895,Positive\\n554797368,Positive\\n760200112,Positive\\n892551406,Positive\\n194126682,Positive\\n378649433,Positive\\n937146013,Positive\\n556992055,Positive\\n835468012,Positive\\n476600334,Positive\\n324715536,Positive\\n544560510,Positive\\n416959214,Positive\\n451725605,Positive\\n916658985,Positive\\n881726554,Positive\\n634592953,Positive\\n512252048,Positive\\n566219740,Positive\\n726312299,Positive\\n206049500,Positive\\n635453811,Positive\\n470369719,Positive\\n831703054,Positive\\n306890417,Positive\\n337780268,Positive\\n876982730,Positive\\n141405212,Positive\\n475906902,Positive\\n930062938,Positive\\n508760419,Positive\\n932723988,Positive\\n400672115,Positive\\n552092428,Positive\\n463445356,Positive\\n542262297,Positive\\n844337405,Positive\\n520003169,Positive\\n954312830,Positive\\n681554358,Positive\\n909531101,Positive\\n426148971,Positive\\n592619297,Positive\\n757433372,Positive\\n504345580,Positive\\n516609263,Positive\\n822091352,Positive\\n963976642,Positive\\n291734303,Positive\\n301437409,Positive\\n303211523,Positive\\n124558092,Positive\\n633030711,Positive\\n406595850,Positive\\n614251923,Positive\\n665826718,Positive\\n540616332,Positive\\n584170222,Positive\\n807113079,Positive\\n421974321,Positive\\n668571116,Positive\\n228174588,Positive\\n865423902,Positive\\n788858195,Positive\\n435174062,Positive\\n619356271,Positive\\n152188118,Positive\\n912344937,Positive\\n219562111,Positive\\n439691385,Positive\\n831458599,Positive\\n738077235,Positive\\n656245737,Positive\\n645183614,Positive\\n515938262,Positive\\n897954490,Positive\\n605903469,Positive\\n842649776,Positive\\n221981767,Positive\\n890380090,Positive\\n624515981,Positive\\n130123895,Positive\\n544648204,Positive\\n137698321,Positive\\n302159051,Positive\\n284508445,Positive\\n204442356,Positive\\n811813490,Positive\\n306061230,Positive\\n809098032,Positive\\n531187077,Positive\\n735620303,Positive\\n754943613,Positive\\n528304374,Positive\\n673940796,Positive\\n170561861,Positive\\n338741309,Positive\\n164823067,Positive\\n836948376,Positive\\n531240437,Positive\\n827995029,Positive\\n844475128,Positive\\n277333600,Positive\\n766165726,Positive\\n395065627,Positive\\n125731176,Positive\\n533078817,Positive\\n840795241,Positive\\n592821281,Positive\\n900351234,Positive\\n599927615,Positive\\n542163395,Positive\\n981578141,Positive\\n840976704,Positive\\n862947889,Positive\\n873674967,Positive\\n357864457,Positive\\n849000802,Positive\\n727963046,Positive\\n205260302,Positive\\n649550585,Positive\\n507946628,Positive\\n861342326,Positive\\n971849548,Positive\\n597498156,Positive\\n638035552,Positive\\n230856213,Positive\\n845060747,Positive\\n604671790,Positive\\n900925797,Positive\\n997901988,Positive\\n830211224,Positive\\n134728982,Positive\\n688995267,Positive\\n553436515,Positive\\n409378549,Positive\\n618768063,Positive\\n258625255,Positive\\n368264071,Positive\\n117386221,Positive\\n251338825,Positive\\n690324128,Positive\\n612635061,Positive\\n118338284,Positive\\n767107507,Positive\\n820677666,Positive\\n868997319,Positive\\n363864669,Positive\\n520884188,Positive\\n917966726,Positive\\n933802900,Positive\\n813408978,Positive\\n289905533,Positive\\n553039505,Positive\\n583019498,Positive\\n666388795,Positive\\n331647657,Positive\\n684895510,Positive\\n866765044,Positive\\n213932950,Positive\\n374026176,Positive\\n192692666,Positive\\n383732595,Positive\\n747387398,Positive\\n919652309,Positive\\n962630371,Positive\\n529388989,Positive\\n854630456,Positive\\n453116564,Positive\\n446026024,Positive\\n129653286,Positive\\n825570127,Positive\\n995546547,Positive\\n973313878,Positive\\n317854420,Positive\\n567162154,Positive\\n202755574,Positive\\n444236773,Positive\\n395420629,Positive\\n176379844,Positive\\n539307671,Positive\\n990289287,Positive\\n725882512,Positive\\n707406712,Positive\\n727384971,Positive\\n698026927,Positive\\n310980164,Positive\\n237096714,Positive\\n230858220,Positive\\n494458148,Positive\\n643378389,Positive\\n819201488,Positive\\n498802135,Positive\\n151375004,Positive\\n692095873,Positive\\n673504173,Positive\\n998190883,Positive\\n264188498,Positive\\n903399582,Positive\\n159200931,Positive\\n839275701,Positive\\n161783050,Positive\\n685376610,Positive\\n220313974,Positive\\n183308604,Positive\\n829965516,Positive\\n878382069,Positive\\n706746155,Positive\\n822165458,Positive\\n337719326,Positive\\n963151264,Positive\\n594300298,Positive\\n813839023,Positive\\n111120498,Positive\\n446372152,Positive\\n584724741,Positive\\n941666419,Positive\\n693188655,Positive\\n209238331,Positive\\n411747517,Positive\\n126002641,Positive\\n686379176,Positive\\n529345063,Positive\\n946160975,Positive\\n184922221,Positive\\n153957207,Positive\\n822347407,Positive\\n124174606,Positive\\n291159482,Positive\\n679847108,Positive\\n120493406,Positive\\n986854138,Positive\\n557712774,Positive\\n350794243,Positive\\n997373283,Positive\\n212733806,Positive\\n155764790,Positive\\n228693209,Positive\\n493172740,Positive\\n682297625,Positive\\n755178859,Positive\\n928002137,Positive\\n581421457,Positive\\n559817867,Positive\\n924468374,Positive\\n358793881,Positive\\n298583494,Positive\\n765238577,Positive\\n409507632,Positive\\n823598387,Positive\\n197803679,Positive\\n888323932,Positive\\n962862309,Positive\\n507685704,Positive\\n448305254,Positive\\n566541473,Positive\\n146855305,Positive\\n823217125,Positive\\n839291326,Positive\\n636009727,Positive\\n869914888,Positive\\n354337387,Positive\\n922890156,Positive\\n203012304,Positive\\n837338028,Positive\\n753684936,Positive\\n600744915,Positive\\n114236237,Positive\\n992954714,Positive\\n921174628,Positive\\n350271441,Positive\\n451302086,Positive\\n646160319,Positive\\n122472032,Positive\\n135833038,Positive\\n423631984,Positive\\n799089340,Positive\\n921836420,Positive\\n596451122,Positive\\n725799290,Positive\\n361841608,Positive\\n859647104,Positive\\n750311932,Positive\\n355015749,Positive\\n134360017,Positive\\n693620543,Positive\\n951560961,Positive\\n633209022,Positive\\n223103599,Positive\\n966086657,Positive\\n615650298,Positive\\n505191080,Positive\\n174671741,Positive\\n491980624,Positive\\n851924993,Positive\\n409976799,Positive\\n339291757,Positive\\n136161056,Positive\\n261098742,Positive\\n479810711,Positive\\n283619800,Positive\\n728483538,Positive\\n566542654,Positive\\n465800056,Positive\\n988517450,Positive\\n769559726,Positive\\n537316626,Positive\\n871675392,Positive\\n751604188,Positive\\n382286141,Positive\\n286560862,Positive\\n597955294,Positive\\n441210049,Positive\\n726403788,Positive\\n694168296,Positive\\n352825342,Positive\\n900959556,Positive\\n998756081,Positive\\n421148113,Positive\\n729299072,Positive\\n475348195,Positive\\n'"
      ]
     },
     "execution_count": 81,
     "metadata": {},
     "output_type": "execute_result"
    }
   ],
   "source": [
    "df_new.to_csv(index = False)\n"
   ]
  },
  {
   "cell_type": "markdown",
   "metadata": {
    "id": "3Nmcff8kIbtx"
   },
   "source": [
    "Logistic Regression\n"
   ]
  },
  {
   "cell_type": "code",
   "execution_count": 82,
   "metadata": {
    "colab": {
     "base_uri": "https://localhost:8080/"
    },
    "id": "JgzphubZ9ri4",
    "outputId": "5acd7e76-6e9e-45cc-b97b-1c5c0a39cc08"
   },
   "outputs": [
    {
     "name": "stderr",
     "output_type": "stream",
     "text": [
      "/usr/local/lib/python3.7/dist-packages/sklearn/linear_model/_logistic.py:818: ConvergenceWarning: lbfgs failed to converge (status=1):\n",
      "STOP: TOTAL NO. of ITERATIONS REACHED LIMIT.\n",
      "\n",
      "Increase the number of iterations (max_iter) or scale the data as shown in:\n",
      "    https://scikit-learn.org/stable/modules/preprocessing.html\n",
      "Please also refer to the documentation for alternative solver options:\n",
      "    https://scikit-learn.org/stable/modules/linear_model.html#logistic-regression\n",
      "  extra_warning_msg=_LOGISTIC_SOLVER_CONVERGENCE_MSG,\n"
     ]
    }
   ],
   "source": [
    "# create the model - Logistic Regression\n",
    "# this also may take a while on Colab for the same I/O issue, I stoped it after 20 minutes\n",
    "clf  = LogisticRegression(random_state=seed)\n",
    "\n",
    "# fit the training data to the model\n",
    "clf.fit(prepared_X_train, prepared_y_train[0])\n",
    "\n",
    "# loop through the test images\n",
    "\n",
    "preds = []\n",
    "global_test_features = []\n",
    "\n",
    "for row in test_df.iterrows():\n",
    "    # get the image file name\n",
    "    file = base_url + \"images/\"  + str(row[1]['ID']) + \".jpg\"\n",
    "\n",
    "    # read the image and resize it to a fixed-size\n",
    "    image = cv2.imread(file)\n",
    "    image = cv2.resize(image, fixed_size)\n",
    "\n",
    "    ####################################\n",
    "    # Global Feature extraction\n",
    "    ####################################\n",
    "    fv_hu_moments = fd_hu_moments(image)\n",
    "    fv_haralick   = fd_haralick(image)\n",
    "    fv_histogram  = fd_histogram(image, bins = 8)\n",
    "\n",
    "    ###################################\n",
    "    # Concatenate global features\n",
    "    ###################################\n",
    "    global_feature = np.hstack([fv_histogram, fv_haralick, fv_hu_moments])\n",
    "    \n",
    "    # scale features in the range (0-1) using the trainset scaler\n",
    "    rescaled_feature = scaler.transform(global_feature.reshape(1,-1))\n",
    "    \n",
    "    prediction = clf.predict(rescaled_feature)[0]\n",
    "\n",
    "\n",
    "    # update the list of predictions and feature vectors\n",
    "    preds.append(prediction)\n",
    "    global_test_features.append(rescaled_feature)"
   ]
  },
  {
   "cell_type": "code",
   "execution_count": 83,
   "metadata": {
    "colab": {
     "base_uri": "https://localhost:8080/",
     "height": 418
    },
    "id": "Nz-MjrFv9rla",
    "outputId": "86887178-9263-4b37-f22d-5681f124add3"
   },
   "outputs": [
    {
     "name": "stderr",
     "output_type": "stream",
     "text": [
      "/usr/local/lib/python3.7/dist-packages/sklearn/linear_model/_logistic.py:818: ConvergenceWarning: lbfgs failed to converge (status=1):\n",
      "STOP: TOTAL NO. of ITERATIONS REACHED LIMIT.\n",
      "\n",
      "Increase the number of iterations (max_iter) or scale the data as shown in:\n",
      "    https://scikit-learn.org/stable/modules/preprocessing.html\n",
      "Please also refer to the documentation for alternative solver options:\n",
      "    https://scikit-learn.org/stable/modules/linear_model.html#logistic-regression\n",
      "  extra_warning_msg=_LOGISTIC_SOLVER_CONVERGENCE_MSG,\n"
     ]
    },
    {
     "data": {
      "image/png": "[encoded data removed]",
      "text/plain": [
       "<Figure size 432x288 with 2 Axes>"
      ]
     },
     "metadata": {
      "needs_background": "light"
     },
     "output_type": "display_data"
    }
   ],
   "source": [
    "from sklearn.metrics import confusion_matrix, ConfusionMatrixDisplay\n",
    "clf  =  LogisticRegression(random_state=seed)\n",
    "\n",
    "# fit the training data to the model\n",
    "clf.fit(prepared_X_train, prepared_y_train[0])\n",
    "\n",
    "true_labels = prepared_y_train[0]\n",
    "pred_labels = clf.predict(prepared_X_train)\n",
    "cm = confusion_matrix(true_labels, pred_labels, labels=clf.classes_)\n",
    "disp = ConfusionMatrixDisplay(confusion_matrix=cm, display_labels=clf.classes_)\n",
    "disp.plot()\n",
    "plt.show()"
   ]
  },
  {
   "cell_type": "code",
   "execution_count": 84,
   "metadata": {
    "colab": {
     "base_uri": "https://localhost:8080/",
     "height": 206
    },
    "id": "HRqLCzUt9rnt",
    "outputId": "db5b701f-51cc-4eeb-bd20-649f75eb0738"
   },
   "outputs": [
    {
     "data": {
      "text/html": [
       "<div>\n",
       "<style scoped>\n",
       "    .dataframe tbody tr th:only-of-type {\n",
       "        vertical-align: middle;\n",
       "    }\n",
       "\n",
       "    .dataframe tbody tr th {\n",
       "        vertical-align: top;\n",
       "    }\n",
       "\n",
       "    .dataframe thead th {\n",
       "        text-align: right;\n",
       "    }\n",
       "</style>\n",
       "<table border=\"1\" class=\"dataframe\">\n",
       "  <thead>\n",
       "    <tr style=\"text-align: right;\">\n",
       "      <th></th>\n",
       "      <th>ID</th>\n",
       "      <th>Label</th>\n",
       "    </tr>\n",
       "  </thead>\n",
       "  <tbody>\n",
       "    <tr>\n",
       "      <th>0</th>\n",
       "      <td>772800977</td>\n",
       "      <td>Positive</td>\n",
       "    </tr>\n",
       "    <tr>\n",
       "      <th>1</th>\n",
       "      <td>373497125</td>\n",
       "      <td>Positive</td>\n",
       "    </tr>\n",
       "    <tr>\n",
       "      <th>2</th>\n",
       "      <td>361268494</td>\n",
       "      <td>Positive</td>\n",
       "    </tr>\n",
       "    <tr>\n",
       "      <th>3</th>\n",
       "      <td>483957657</td>\n",
       "      <td>Negative</td>\n",
       "    </tr>\n",
       "    <tr>\n",
       "      <th>4</th>\n",
       "      <td>698405955</td>\n",
       "      <td>Positive</td>\n",
       "    </tr>\n",
       "  </tbody>\n",
       "</table>\n",
       "</div>"
      ],
      "text/plain": [
       "          ID     Label\n",
       "0  772800977  Positive\n",
       "1  373497125  Positive\n",
       "2  361268494  Positive\n",
       "3  483957657  Negative\n",
       "4  698405955  Positive"
      ]
     },
     "execution_count": 84,
     "metadata": {},
     "output_type": "execute_result"
    }
   ],
   "source": [
    "pred_df = pd.DataFrame(preds)\n",
    "df_final = pd.merge(test_df, pred_df, left_index=True, right_index=True)\n",
    "df_new = df_final.rename(columns={0:'Label'})\n",
    "le.inverse_transform(target)\n",
    "label_list = list(df_new['Label'])\n",
    "df_new_labels_inverse_transform = list(le.inverse_transform(label_list))\n",
    "df_new['Label'] =  df_new_labels_inverse_transform\n",
    "df_new.head() # Check that it looks right before pushing to csv. "
   ]
  },
  {
   "cell_type": "markdown",
   "metadata": {
    "id": "dOqgGvHr9ztw"
   },
   "source": [
    "Logistic regression csv"
   ]
  },
  {
   "cell_type": "code",
   "execution_count": 85,
   "metadata": {
    "colab": {
     "base_uri": "https://localhost:8080/",
     "height": 140
    },
    "id": "UeIzGGqz9rqi",
    "outputId": "daed6dd2-1bb6-427c-c549-d2a50a8aaa05"
   },
   "outputs": [
    {
     "data": {
      "application/vnd.google.colaboratory.intrinsic+json": {
       "type": "string"
      },
      "text/plain": [
       "'ID,Label\\n772800977,Positive\\n373497125,Positive\\n361268494,Positive\\n483957657,Negative\\n698405955,Positive\\n982040161,Positive\\n137762127,Positive\\n628000850,Positive\\n733350868,Positive\\n482269455,Positive\\n898609289,Negative\\n266971908,Positive\\n638459074,Positive\\n214868962,Positive\\n501416241,Positive\\n898312212,Positive\\n214683818,Positive\\n149629153,Positive\\n197858876,Positive\\n557558282,Positive\\n309826536,Positive\\n217484606,Positive\\n601081545,Positive\\n890580731,Positive\\n991044732,Positive\\n559469465,Positive\\n371306957,Positive\\n503845940,Positive\\n739772254,Positive\\n518890091,Positive\\n309336726,Positive\\n884550077,Positive\\n515756470,Positive\\n137210213,Positive\\n114280832,Positive\\n535761291,Positive\\n266901017,Positive\\n269554828,Positive\\n160388270,Positive\\n847383658,Positive\\n657855503,Positive\\n248255697,Positive\\n689875367,Positive\\n949570515,Positive\\n771708512,Negative\\n482430921,Positive\\n787529623,Positive\\n631511792,Negative\\n989467661,Positive\\n688865306,Positive\\n289327926,Positive\\n553733195,Positive\\n456232929,Positive\\n870236793,Negative\\n671436283,Positive\\n520407000,Positive\\n206479089,Positive\\n761563499,Negative\\n683486054,Positive\\n863732040,Positive\\n266544628,Positive\\n901219949,Positive\\n869075083,Positive\\n530885503,Positive\\n120308070,Positive\\n804489229,Positive\\n870165778,Positive\\n339447790,Positive\\n693898873,Positive\\n700680849,Positive\\n113690550,Positive\\n765994407,Positive\\n687265943,Positive\\n438392597,Positive\\n425810339,Positive\\n553769439,Positive\\n840782091,Positive\\n323278777,Positive\\n570135239,Positive\\n863951765,Positive\\n993934787,Positive\\n649613231,Positive\\n824254677,Positive\\n621429663,Positive\\n604675554,Negative\\n638354498,Positive\\n357544836,Positive\\n348800424,Positive\\n112405322,Positive\\n941643586,Positive\\n592448509,Positive\\n687310386,Positive\\n425476552,Positive\\n347871254,Positive\\n807994646,Positive\\n560221678,Positive\\n245372041,Positive\\n811553565,Positive\\n738364417,Positive\\n885196696,Positive\\n161418541,Positive\\n740596108,Positive\\n879665690,Positive\\n314324965,Positive\\n653103264,Positive\\n359417553,Positive\\n833065172,Positive\\n572011738,Positive\\n261763164,Positive\\n819637579,Positive\\n567202915,Positive\\n843292804,Positive\\n571127416,Positive\\n328336456,Positive\\n963000163,Positive\\n925696176,Positive\\n925975174,Positive\\n164873849,Negative\\n641580585,Positive\\n882290585,Positive\\n127534257,Positive\\n220043030,Positive\\n309346088,Positive\\n834486074,Positive\\n745000278,Positive\\n498370653,Positive\\n429571002,Positive\\n201690767,Negative\\n597873634,Positive\\n361989023,Positive\\n956306635,Positive\\n621819177,Positive\\n545948368,Positive\\n437463009,Positive\\n206839178,Positive\\n935805179,Positive\\n864915116,Negative\\n865538177,Positive\\n205334507,Positive\\n954412525,Positive\\n952861500,Positive\\n296819334,Positive\\n456206417,Positive\\n468097919,Positive\\n983675973,Positive\\n381962851,Negative\\n851880027,Positive\\n568857205,Positive\\n189744765,Positive\\n705176423,Neutral\\n955832215,Positive\\n527850356,Positive\\n342442477,Positive\\n174497174,Positive\\n553353398,Positive\\n503428471,Positive\\n698734022,Positive\\n269540133,Positive\\n305532998,Negative\\n958432638,Positive\\n670176156,Positive\\n310326966,Positive\\n212739584,Positive\\n917643176,Positive\\n117548643,Positive\\n207401915,Positive\\n809243473,Positive\\n567196742,Positive\\n988582423,Positive\\n907225870,Positive\\n222269503,Positive\\n579977532,Positive\\n344867842,Positive\\n408833108,Positive\\n663230811,Positive\\n473533399,Positive\\n616342093,Positive\\n293145490,Positive\\n147066555,Positive\\n242720004,Positive\\n956914241,Positive\\n645565832,Positive\\n229251048,Positive\\n668294041,Neutral\\n497012353,Positive\\n882082588,Positive\\n811980855,Positive\\n747995929,Negative\\n525703972,Positive\\n394872657,Positive\\n689704543,Positive\\n478924482,Positive\\n528760515,Positive\\n689983164,Positive\\n174674568,Positive\\n513159741,Positive\\n238993063,Positive\\n580690563,Positive\\n354179166,Positive\\n438386374,Positive\\n430255874,Positive\\n120984596,Positive\\n811381566,Positive\\n160205567,Positive\\n250988996,Positive\\n931903444,Positive\\n877070778,Positive\\n921671772,Positive\\n237776342,Positive\\n458272796,Positive\\n253300200,Positive\\n278564446,Positive\\n234728082,Positive\\n270062759,Positive\\n881248053,Positive\\n914118559,Positive\\n159623242,Positive\\n769001494,Positive\\n746754042,Positive\\n919975235,Positive\\n946314017,Positive\\n526438271,Negative\\n568276723,Positive\\n585409390,Positive\\n287455609,Positive\\n564705451,Positive\\n675353860,Positive\\n476428299,Positive\\n658512929,Positive\\n325596073,Positive\\n659635619,Positive\\n121189453,Positive\\n248692566,Positive\\n971085291,Positive\\n492384370,Positive\\n135119469,Positive\\n769020446,Positive\\n775523862,Positive\\n780744755,Positive\\n949075500,Positive\\n581392358,Positive\\n850723020,Positive\\n729336456,Positive\\n433474240,Positive\\n899762025,Positive\\n212444471,Positive\\n584129247,Positive\\n848020107,Positive\\n948144679,Positive\\n438635990,Positive\\n468035226,Positive\\n459327017,Positive\\n322717962,Positive\\n610474168,Positive\\n247880256,Positive\\n274086828,Positive\\n512506239,Negative\\n552974948,Positive\\n181057315,Positive\\n905218832,Positive\\n479410449,Positive\\n514405559,Negative\\n901166695,Positive\\n257827847,Positive\\n584633549,Positive\\n213388536,Positive\\n503548006,Positive\\n960615967,Positive\\n281561241,Positive\\n278736598,Positive\\n407908514,Positive\\n385057450,Positive\\n637093854,Positive\\n374231034,Positive\\n831311845,Positive\\n799521935,Positive\\n686857025,Positive\\n432947529,Positive\\n304947129,Positive\\n423900997,Positive\\n695948687,Positive\\n650941825,Positive\\n582163041,Positive\\n929913506,Positive\\n597040391,Positive\\n970049572,Positive\\n694886691,Positive\\n231331472,Positive\\n964314194,Positive\\n524883351,Positive\\n429336789,Positive\\n233014846,Positive\\n655430763,Positive\\n689522272,Negative\\n458197597,Positive\\n854203620,Positive\\n579847541,Positive\\n584780152,Positive\\n205040233,Positive\\n489129852,Positive\\n273491508,Positive\\n714986031,Positive\\n138529827,Positive\\n464898976,Positive\\n926977753,Positive\\n220536027,Positive\\n326251339,Positive\\n334572414,Positive\\n200647995,Positive\\n277123601,Positive\\n404698729,Positive\\n124882047,Positive\\n932259657,Positive\\n395218225,Positive\\n134136753,Positive\\n984092204,Positive\\n984033645,Positive\\n299937145,Positive\\n633474655,Positive\\n538116896,Positive\\n711962523,Positive\\n335425693,Positive\\n601671390,Positive\\n820219021,Positive\\n279029380,Positive\\n763105534,Positive\\n484853035,Positive\\n942617954,Positive\\n111550682,Positive\\n112696873,Positive\\n370773144,Positive\\n536363540,Positive\\n605835140,Positive\\n429041439,Positive\\n497889216,Positive\\n955033993,Positive\\n629906714,Positive\\n582757853,Positive\\n650392699,Positive\\n149849281,Positive\\n499334500,Negative\\n914111623,Positive\\n578753009,Positive\\n613063501,Positive\\n294460605,Positive\\n563356576,Positive\\n657825996,Positive\\n918498210,Positive\\n596726460,Positive\\n604478687,Positive\\n334372762,Positive\\n643409893,Positive\\n976236014,Positive\\n183939207,Positive\\n729022889,Positive\\n383535068,Positive\\n906835602,Positive\\n592744519,Positive\\n957649958,Positive\\n132691595,Positive\\n727424477,Positive\\n501921563,Positive\\n810059316,Positive\\n416568265,Positive\\n991675314,Positive\\n670057494,Positive\\n751613754,Positive\\n115017363,Positive\\n996160142,Positive\\n145726425,Positive\\n812767282,Positive\\n142456497,Positive\\n466243449,Positive\\n628145078,Positive\\n652511968,Positive\\n610205705,Positive\\n145690361,Negative\\n393201576,Positive\\n358355649,Positive\\n673916900,Positive\\n593407164,Positive\\n384573509,Positive\\n569421742,Positive\\n275063690,Positive\\n719064505,Positive\\n555747324,Positive\\n941498865,Positive\\n351732502,Positive\\n533411636,Positive\\n491267389,Positive\\n696401520,Positive\\n964396466,Positive\\n370224930,Positive\\n760327975,Positive\\n551456386,Positive\\n397426033,Positive\\n311344866,Positive\\n869743166,Positive\\n532885727,Positive\\n591041274,Positive\\n853193947,Positive\\n803545216,Positive\\n852736945,Positive\\n288335881,Positive\\n948289188,Positive\\n530922612,Positive\\n426104330,Positive\\n367834296,Positive\\n193409449,Positive\\n698275161,Negative\\n618353370,Negative\\n191650584,Positive\\n115429016,Positive\\n726899457,Positive\\n496666066,Positive\\n746556888,Positive\\n773110430,Negative\\n753342765,Negative\\n642096197,Positive\\n354984508,Positive\\n142574858,Positive\\n727701806,Positive\\n846963547,Positive\\n700167051,Positive\\n170546498,Positive\\n311701306,Positive\\n489041542,Positive\\n850799409,Positive\\n470156690,Positive\\n868340538,Positive\\n325206223,Positive\\n560548881,Positive\\n375532083,Positive\\n166120146,Positive\\n488970432,Positive\\n704623331,Positive\\n548162287,Positive\\n345544070,Positive\\n511150870,Positive\\n606514146,Positive\\n126786096,Positive\\n685919358,Positive\\n230133717,Positive\\n221876514,Positive\\n576696985,Positive\\n959331139,Positive\\n465909887,Positive\\n212680474,Positive\\n169214233,Positive\\n416289818,Positive\\n400426708,Positive\\n431738812,Positive\\n470726225,Positive\\n639774656,Positive\\n874354567,Positive\\n495503142,Positive\\n455416074,Positive\\n334637677,Positive\\n236424197,Positive\\n610735487,Positive\\n456245361,Positive\\n554369563,Positive\\n593593664,Positive\\n897064701,Positive\\n234755521,Positive\\n500828118,Positive\\n357047388,Positive\\n853715107,Positive\\n862605460,Positive\\n515198124,Positive\\n902241206,Positive\\n990107316,Positive\\n553191605,Positive\\n518341723,Positive\\n661866450,Positive\\n191081452,Positive\\n943773704,Positive\\n820817225,Positive\\n392870230,Positive\\n767080305,Positive\\n433558941,Positive\\n617154555,Positive\\n178048951,Positive\\n442777352,Positive\\n776344469,Positive\\n137112398,Positive\\n347232901,Positive\\n943630920,Positive\\n832671220,Positive\\n112533993,Positive\\n453921596,Positive\\n352824466,Positive\\n365878036,Positive\\n464474799,Positive\\n777143843,Positive\\n823678850,Positive\\n714774653,Positive\\n317001391,Positive\\n649714572,Positive\\n614776699,Positive\\n753471389,Positive\\n548342309,Positive\\n790824176,Positive\\n727855311,Positive\\n341656210,Positive\\n938422965,Positive\\n262479785,Positive\\n923514729,Positive\\n174545812,Positive\\n161920648,Positive\\n624708163,Positive\\n711305869,Positive\\n308919298,Positive\\n279430941,Positive\\n443626162,Positive\\n750624382,Positive\\n795330445,Positive\\n462302458,Positive\\n699207162,Positive\\n949832006,Positive\\n873355275,Positive\\n133040624,Positive\\n789333827,Positive\\n148388001,Positive\\n410166701,Positive\\n219628947,Negative\\n494512302,Positive\\n694998007,Positive\\n898937996,Positive\\n791952574,Positive\\n805146962,Positive\\n419964381,Positive\\n164386802,Positive\\n428220935,Positive\\n790630318,Positive\\n933468399,Negative\\n114626175,Positive\\n573621150,Positive\\n355973043,Negative\\n187372768,Positive\\n354369594,Positive\\n712442912,Positive\\n731418242,Positive\\n584696772,Positive\\n548225993,Positive\\n340984914,Positive\\n865293168,Positive\\n573985693,Positive\\n437933321,Positive\\n365763565,Positive\\n641926379,Positive\\n137409767,Positive\\n333906245,Positive\\n670018688,Positive\\n705053045,Positive\\n541546320,Positive\\n844340937,Positive\\n473799463,Positive\\n286139007,Positive\\n202773756,Positive\\n238833021,Positive\\n593956330,Positive\\n946065690,Positive\\n996193577,Positive\\n423931980,Positive\\n125850860,Positive\\n713674489,Positive\\n444171290,Positive\\n274480714,Positive\\n428397208,Positive\\n246881834,Neutral\\n986460019,Positive\\n477341759,Positive\\n286721389,Positive\\n553292030,Positive\\n158574158,Positive\\n337454899,Positive\\n422433509,Positive\\n708586266,Positive\\n173119170,Positive\\n801552181,Positive\\n476285293,Positive\\n668346029,Positive\\n178202010,Positive\\n416225004,Positive\\n887426551,Positive\\n499010654,Positive\\n248849062,Positive\\n897721352,Positive\\n406603800,Positive\\n267465925,Positive\\n606944198,Positive\\n316905576,Positive\\n938841209,Positive\\n793621226,Positive\\n535338462,Positive\\n520336138,Positive\\n294788690,Positive\\n296327078,Positive\\n256710500,Positive\\n520786701,Positive\\n227360754,Positive\\n333070333,Positive\\n562438782,Positive\\n778996143,Positive\\n275983382,Positive\\n230168270,Positive\\n947823695,Positive\\n269269918,Positive\\n587674640,Negative\\n861214381,Positive\\n536644515,Positive\\n251145987,Positive\\n417647610,Positive\\n280857809,Positive\\n968897812,Positive\\n867173885,Positive\\n625647117,Positive\\n790909482,Positive\\n799781249,Negative\\n155001852,Positive\\n179080589,Positive\\n890771748,Positive\\n840279405,Positive\\n602420002,Positive\\n165067892,Positive\\n585958810,Positive\\n119231669,Positive\\n649267906,Positive\\n620431389,Positive\\n810002477,Positive\\n486264971,Positive\\n388485571,Positive\\n629362246,Positive\\n780407626,Positive\\n870133941,Positive\\n672677559,Negative\\n701894858,Positive\\n828379212,Positive\\n590982474,Positive\\n895523300,Positive\\n326602694,Positive\\n728717027,Positive\\n851873040,Positive\\n710129788,Positive\\n615864330,Positive\\n781171795,Positive\\n908597313,Positive\\n574039240,Positive\\n405849209,Positive\\n228004712,Positive\\n810882121,Positive\\n747783827,Positive\\n250446390,Positive\\n111183700,Positive\\n682893449,Positive\\n374281267,Positive\\n279725310,Positive\\n124234810,Positive\\n300042508,Positive\\n349345190,Positive\\n351290213,Positive\\n337492365,Positive\\n903203359,Positive\\n513056620,Positive\\n244781212,Positive\\n499525565,Positive\\n362584135,Positive\\n813533667,Positive\\n503729527,Positive\\n791680845,Positive\\n771397835,Positive\\n304367934,Neutral\\n731257126,Positive\\n641213068,Positive\\n659129871,Positive\\n945082183,Positive\\n585352779,Positive\\n245732677,Positive\\n862372020,Positive\\n455882408,Negative\\n119061777,Positive\\n552543703,Positive\\n777071259,Positive\\n585839692,Positive\\n414134037,Positive\\n314989203,Positive\\n917869714,Positive\\n967325231,Positive\\n666087682,Positive\\n954210172,Positive\\n442293011,Positive\\n451356413,Positive\\n153629884,Positive\\n760938492,Positive\\n347507692,Positive\\n906642047,Positive\\n581051254,Positive\\n973409047,Positive\\n680926214,Positive\\n353647843,Positive\\n641503711,Positive\\n810395247,Positive\\n337220946,Positive\\n182818289,Positive\\n694723247,Positive\\n907356120,Positive\\n975675017,Positive\\n536565124,Positive\\n159855600,Negative\\n228995986,Positive\\n144153236,Positive\\n379586613,Positive\\n644299289,Positive\\n130979673,Positive\\n822068095,Positive\\n479395938,Positive\\n242205608,Positive\\n166955436,Positive\\n885739519,Positive\\n224139098,Positive\\n333225312,Positive\\n355127118,Positive\\n564039727,Positive\\n894872965,Positive\\n959300967,Positive\\n560041975,Positive\\n632595150,Positive\\n823534865,Positive\\n802722572,Positive\\n589766166,Positive\\n517182989,Positive\\n649540198,Positive\\n523085613,Positive\\n626931902,Positive\\n552337648,Positive\\n761989980,Positive\\n367506923,Positive\\n882020637,Positive\\n901350718,Positive\\n136846494,Positive\\n899822274,Positive\\n904841160,Positive\\n744041584,Positive\\n642089018,Positive\\n273387653,Positive\\n935757162,Positive\\n579610250,Positive\\n962631623,Positive\\n371368578,Positive\\n783321749,Positive\\n945887783,Positive\\n788086176,Positive\\n856148171,Positive\\n350116314,Positive\\n944934520,Positive\\n331354295,Positive\\n778059792,Positive\\n159308164,Positive\\n245749632,Positive\\n264777892,Positive\\n396891647,Positive\\n753014769,Positive\\n687391491,Positive\\n284601751,Positive\\n234032985,Positive\\n434491630,Positive\\n561005674,Positive\\n804161112,Positive\\n181358702,Positive\\n482326260,Positive\\n212586819,Positive\\n365285833,Positive\\n872259285,Positive\\n995565144,Positive\\n122214156,Positive\\n890932734,Positive\\n372709923,Positive\\n831495755,Positive\\n200058025,Positive\\n732440577,Positive\\n799494898,Positive\\n621425960,Positive\\n694818802,Positive\\n820483216,Positive\\n564021448,Negative\\n561545366,Positive\\n770974649,Positive\\n517086223,Positive\\n508791138,Positive\\n926000536,Positive\\n856115049,Positive\\n767010887,Neutral\\n766694151,Positive\\n754096110,Positive\\n719979965,Positive\\n277665654,Positive\\n494322727,Positive\\n759409883,Positive\\n499908956,Positive\\n444240565,Positive\\n656287618,Positive\\n184110713,Positive\\n733062039,Neutral\\n366693656,Positive\\n355780375,Positive\\n231586086,Positive\\n180083496,Positive\\n668684276,Positive\\n530139132,Positive\\n407361583,Negative\\n207521289,Positive\\n736528445,Positive\\n380207899,Negative\\n887085477,Positive\\n671521580,Positive\\n194645046,Positive\\n519877504,Positive\\n579360644,Positive\\n320935773,Positive\\n339645658,Positive\\n283387356,Positive\\n174538181,Positive\\n258947257,Positive\\n951198384,Neutral\\n756518121,Positive\\n620574134,Positive\\n770725158,Positive\\n912112196,Positive\\n980881143,Positive\\n240179399,Positive\\n983113414,Positive\\n752982012,Positive\\n164538425,Positive\\n148493292,Positive\\n179602263,Positive\\n442188951,Positive\\n480041473,Positive\\n935302174,Positive\\n317569107,Positive\\n754851868,Positive\\n993805452,Positive\\n462176141,Positive\\n525094436,Positive\\n451487873,Positive\\n979706159,Positive\\n150492655,Positive\\n736745506,Positive\\n966664973,Positive\\n732959685,Positive\\n900796079,Positive\\n753118283,Positive\\n412275085,Positive\\n651302380,Positive\\n930208428,Positive\\n413534702,Positive\\n615855313,Positive\\n797544165,Positive\\n350887199,Positive\\n122473877,Positive\\n989090892,Positive\\n620732750,Positive\\n207981120,Positive\\n329455815,Positive\\n721325208,Positive\\n395331495,Negative\\n796598772,Positive\\n139985339,Positive\\n494911776,Positive\\n479956188,Negative\\n592093662,Positive\\n710619907,Positive\\n333490770,Positive\\n747614017,Positive\\n259381958,Positive\\n806832224,Positive\\n239147957,Positive\\n308520234,Positive\\n647568588,Positive\\n653235334,Positive\\n892797163,Positive\\n653401505,Positive\\n376486716,Positive\\n663208111,Positive\\n803349349,Positive\\n636077926,Positive\\n649974541,Positive\\n542998536,Positive\\n806013391,Positive\\n833144619,Positive\\n236689665,Negative\\n628490846,Positive\\n156473314,Positive\\n354947133,Positive\\n181573994,Positive\\n345001521,Positive\\n893921197,Positive\\n142148848,Positive\\n126950214,Positive\\n215761206,Positive\\n566246296,Positive\\n440946673,Positive\\n358173023,Positive\\n727950924,Positive\\n443139644,Positive\\n837376371,Positive\\n781794618,Positive\\n931928030,Positive\\n934581126,Positive\\n981894493,Positive\\n718395777,Positive\\n676872157,Positive\\n799451105,Positive\\n601423971,Negative\\n625038612,Positive\\n305236243,Positive\\n287757846,Positive\\n730631142,Positive\\n529303503,Positive\\n759318337,Positive\\n334798104,Positive\\n519342797,Positive\\n511397905,Positive\\n154291795,Positive\\n593014860,Positive\\n479630830,Positive\\n974604335,Negative\\n510905201,Positive\\n369168794,Positive\\n314738048,Positive\\n145478852,Positive\\n531476676,Positive\\n496604328,Positive\\n471215021,Positive\\n349344023,Positive\\n765309133,Positive\\n794004432,Positive\\n617396128,Positive\\n250682184,Positive\\n155396459,Positive\\n309644278,Positive\\n424347574,Positive\\n230445415,Positive\\n427070423,Positive\\n892244871,Positive\\n678049695,Neutral\\n560536623,Positive\\n811719043,Positive\\n387916301,Positive\\n785990935,Positive\\n894260749,Positive\\n717391842,Positive\\n162183648,Positive\\n914949588,Positive\\n111495476,Positive\\n966330087,Positive\\n960251428,Negative\\n278088293,Positive\\n530876888,Positive\\n408438732,Positive\\n496772051,Positive\\n503022514,Positive\\n145378328,Positive\\n868529878,Positive\\n253628943,Positive\\n601216638,Positive\\n435127286,Positive\\n587303902,Positive\\n175257150,Positive\\n174466689,Positive\\n451299227,Positive\\n358962682,Positive\\n974464381,Positive\\n274612375,Positive\\n206413619,Positive\\n186923566,Positive\\n515413705,Positive\\n224335624,Positive\\n273074528,Positive\\n296015570,Positive\\n356168887,Negative\\n936355944,Positive\\n555227616,Positive\\n951638218,Positive\\n269165359,Positive\\n348799643,Positive\\n316648790,Positive\\n652128873,Positive\\n535777653,Positive\\n926684194,Positive\\n572901632,Positive\\n192686694,Positive\\n297091998,Positive\\n464337746,Positive\\n552744751,Positive\\n466431124,Positive\\n568736563,Positive\\n391513136,Positive\\n875075999,Positive\\n830329772,Positive\\n260650580,Positive\\n395744343,Positive\\n516242704,Positive\\n588266205,Positive\\n582104819,Positive\\n573362824,Neutral\\n143316289,Positive\\n845975634,Positive\\n729259411,Positive\\n213263238,Positive\\n153233756,Positive\\n219551620,Positive\\n605461383,Positive\\n748140602,Positive\\n463346053,Positive\\n875631596,Positive\\n657804194,Positive\\n637191312,Positive\\n303729399,Positive\\n575784644,Positive\\n552507351,Positive\\n935214435,Negative\\n733426355,Positive\\n370647777,Positive\\n275233753,Positive\\n664741375,Positive\\n124769570,Positive\\n528697930,Positive\\n283791318,Positive\\n442906799,Positive\\n219361818,Positive\\n117975542,Positive\\n712169257,Positive\\n382601630,Positive\\n854999488,Positive\\n302730438,Positive\\n281888677,Positive\\n201894241,Positive\\n909482485,Positive\\n255822184,Positive\\n413106228,Positive\\n544365479,Negative\\n530951860,Positive\\n736178069,Negative\\n807671257,Positive\\n909479806,Positive\\n418350772,Positive\\n408659508,Positive\\n990948310,Positive\\n207669581,Positive\\n787888932,Positive\\n354601000,Positive\\n877234167,Positive\\n836370873,Positive\\n347541976,Positive\\n870174166,Positive\\n421409928,Positive\\n902935077,Positive\\n193530185,Positive\\n971669614,Positive\\n697736286,Positive\\n932816090,Positive\\n338176538,Positive\\n427379596,Positive\\n680474481,Positive\\n890231712,Positive\\n321853161,Positive\\n892377001,Positive\\n135513876,Positive\\n258780400,Positive\\n513947822,Positive\\n914641753,Positive\\n709051733,Positive\\n598295745,Positive\\n869243580,Positive\\n429040013,Positive\\n605751169,Positive\\n927171956,Positive\\n974735288,Positive\\n267950951,Positive\\n754537592,Positive\\n619388436,Positive\\n125241256,Positive\\n311709988,Positive\\n899123321,Negative\\n217290095,Negative\\n421747177,Positive\\n281297444,Positive\\n271236514,Positive\\n622837877,Positive\\n737597334,Positive\\n616209703,Positive\\n113191548,Positive\\n914280513,Positive\\n192172210,Negative\\n156932416,Positive\\n899006645,Positive\\n825773923,Positive\\n944938330,Positive\\n996266460,Positive\\n431181953,Positive\\n744724883,Positive\\n757241404,Positive\\n943858158,Positive\\n130814620,Positive\\n436481036,Positive\\n269954778,Positive\\n338286403,Positive\\n193565791,Positive\\n941471106,Positive\\n115158069,Positive\\n589108320,Positive\\n739608972,Positive\\n673287851,Positive\\n307931524,Positive\\n862292411,Positive\\n207753998,Positive\\n537105334,Positive\\n739356322,Positive\\n201493359,Positive\\n652191243,Positive\\n482838891,Negative\\n466423774,Positive\\n879465300,Positive\\n863487481,Positive\\n257282776,Positive\\n946210176,Positive\\n708186118,Positive\\n802275854,Positive\\n276052807,Positive\\n559140949,Positive\\n506353043,Positive\\n679907840,Positive\\n689052638,Positive\\n907627713,Positive\\n822230292,Positive\\n399977328,Positive\\n808078749,Positive\\n910362087,Positive\\n424588518,Positive\\n607275801,Positive\\n390517135,Positive\\n579772511,Positive\\n266193893,Positive\\n931959174,Positive\\n620517266,Positive\\n415806949,Positive\\n984131553,Positive\\n623825970,Positive\\n589742138,Positive\\n216958986,Positive\\n113788292,Positive\\n144082557,Positive\\n963696996,Positive\\n273819243,Positive\\n814429027,Positive\\n445755891,Positive\\n527914089,Positive\\n900507181,Positive\\n479760287,Positive\\n487340809,Positive\\n369335502,Positive\\n619878953,Positive\\n914040782,Positive\\n596855637,Positive\\n531729095,Positive\\n838350381,Negative\\n515508968,Positive\\n792285556,Positive\\n175737484,Positive\\n762122180,Neutral\\n933139116,Positive\\n282905342,Positive\\n669927082,Positive\\n431333850,Positive\\n921055425,Positive\\n236717361,Positive\\n632965526,Positive\\n318097679,Positive\\n971932925,Positive\\n793431984,Positive\\n903947520,Positive\\n859445668,Positive\\n604211565,Positive\\n799850976,Positive\\n232954494,Positive\\n278254620,Positive\\n951199264,Positive\\n425280621,Positive\\n440087989,Positive\\n133192032,Positive\\n951695611,Positive\\n460786674,Positive\\n603144783,Positive\\n484413263,Negative\\n596168221,Positive\\n152150481,Positive\\n874654013,Positive\\n701668267,Positive\\n306331403,Positive\\n410699739,Positive\\n975808235,Positive\\n156218378,Positive\\n809184675,Positive\\n502176425,Positive\\n293771342,Positive\\n987011870,Positive\\n860329904,Positive\\n247861131,Positive\\n264087125,Positive\\n846172174,Positive\\n957355856,Positive\\n622973226,Positive\\n830315562,Positive\\n261738214,Positive\\n740175589,Positive\\n511127052,Positive\\n866101115,Positive\\n321698973,Positive\\n727752900,Positive\\n262869021,Positive\\n229819171,Positive\\n276321737,Positive\\n381801683,Positive\\n704033452,Negative\\n228862010,Positive\\n392411808,Positive\\n469635589,Positive\\n789105402,Positive\\n894476650,Positive\\n454986912,Positive\\n388476012,Positive\\n779109287,Positive\\n826034525,Positive\\n710554503,Positive\\n956172973,Positive\\n698258900,Positive\\n281579337,Negative\\n798295607,Positive\\n831171076,Positive\\n474713606,Positive\\n758622583,Positive\\n407416570,Negative\\n887433392,Positive\\n217698273,Positive\\n950872776,Positive\\n620380049,Positive\\n822752672,Positive\\n901241779,Positive\\n808737675,Positive\\n760058238,Positive\\n231551117,Positive\\n628072534,Positive\\n638558531,Positive\\n375499269,Positive\\n655989320,Positive\\n466601983,Negative\\n600220119,Positive\\n928490582,Positive\\n572830719,Positive\\n252058253,Positive\\n940685417,Positive\\n740350330,Positive\\n561457712,Positive\\n454415819,Positive\\n334942811,Positive\\n743421608,Negative\\n849854171,Positive\\n837194459,Positive\\n220628677,Positive\\n335662932,Neutral\\n496311975,Positive\\n791266452,Positive\\n374299487,Positive\\n735269389,Positive\\n362074168,Positive\\n657673925,Positive\\n512835399,Positive\\n742274366,Positive\\n249248831,Positive\\n846735968,Positive\\n400984498,Positive\\n240039213,Positive\\n884232697,Positive\\n665365704,Positive\\n923339981,Positive\\n480608690,Positive\\n161723742,Positive\\n557634303,Positive\\n744016273,Positive\\n147754505,Positive\\n685147085,Positive\\n442569141,Positive\\n577907922,Positive\\n432506253,Positive\\n536483625,Positive\\n944808696,Positive\\n411861851,Positive\\n381760484,Positive\\n863242911,Positive\\n208281805,Positive\\n568010210,Positive\\n683280933,Positive\\n145217373,Positive\\n664148923,Positive\\n902846343,Positive\\n365084011,Positive\\n805754755,Positive\\n295615991,Positive\\n965003601,Positive\\n684578739,Positive\\n543202027,Positive\\n633510734,Positive\\n995770789,Negative\\n787547872,Positive\\n476023475,Positive\\n414034829,Positive\\n204395726,Positive\\n308588995,Positive\\n711413326,Positive\\n216716476,Positive\\n833258456,Negative\\n915067084,Positive\\n473382699,Positive\\n309675831,Positive\\n156254056,Positive\\n609080619,Positive\\n606275339,Positive\\n482955327,Positive\\n317080211,Positive\\n502243319,Positive\\n603467410,Positive\\n359215119,Positive\\n153798769,Positive\\n584792804,Positive\\n909359202,Positive\\n823733707,Positive\\n674145908,Positive\\n454835729,Positive\\n897958478,Negative\\n707600783,Positive\\n340822825,Positive\\n208021488,Positive\\n574752670,Positive\\n383426482,Positive\\n155304922,Negative\\n151507943,Positive\\n177865342,Negative\\n964789816,Positive\\n913703109,Positive\\n330454149,Positive\\n856855702,Positive\\n853189532,Positive\\n961614955,Positive\\n113789790,Positive\\n119801905,Positive\\n406618289,Positive\\n627081391,Positive\\n303908229,Negative\\n278570448,Positive\\n945397218,Positive\\n558871021,Positive\\n155927137,Positive\\n819776757,Positive\\n846970371,Negative\\n302327962,Positive\\n931024614,Positive\\n389434382,Positive\\n541826234,Positive\\n888718415,Positive\\n629707864,Positive\\n291911493,Positive\\n182796634,Positive\\n930546247,Positive\\n234955667,Negative\\n773986381,Positive\\n877958056,Positive\\n766300243,Positive\\n175936497,Positive\\n943174553,Positive\\n596024076,Positive\\n329682774,Positive\\n710816434,Positive\\n448485317,Positive\\n489795459,Positive\\n210542710,Positive\\n223000236,Positive\\n496127292,Positive\\n629431094,Positive\\n181543172,Positive\\n257331403,Positive\\n424716773,Positive\\n905861688,Positive\\n518117890,Positive\\n273492166,Positive\\n735060603,Positive\\n126259517,Positive\\n813804019,Positive\\n312512151,Positive\\n888094183,Positive\\n876431028,Neutral\\n462443266,Positive\\n334281016,Positive\\n588909333,Positive\\n592644966,Positive\\n153831308,Positive\\n751972415,Positive\\n574172534,Positive\\n356033247,Positive\\n413935965,Negative\\n753764879,Positive\\n930686336,Positive\\n695224905,Positive\\n790213496,Positive\\n122030451,Positive\\n460801219,Positive\\n745166842,Positive\\n360620984,Positive\\n892390599,Positive\\n176927660,Positive\\n590891433,Positive\\n752656159,Positive\\n406542559,Positive\\n324720691,Positive\\n701142015,Positive\\n921506159,Positive\\n455814646,Positive\\n695671995,Positive\\n386808955,Positive\\n977831509,Positive\\n803086287,Positive\\n493917850,Positive\\n127585349,Positive\\n766228866,Positive\\n914950706,Positive\\n860177651,Positive\\n729826612,Positive\\n632534053,Positive\\n744568908,Positive\\n705156613,Positive\\n823012017,Positive\\n393221925,Positive\\n546257131,Positive\\n329521304,Positive\\n743738463,Positive\\n831882283,Positive\\n444125940,Positive\\n880516373,Positive\\n461054641,Positive\\n227162284,Positive\\n345818447,Positive\\n575111638,Positive\\n608870687,Positive\\n476301540,Positive\\n457947115,Positive\\n199992469,Positive\\n241283459,Positive\\n584396962,Positive\\n926898262,Positive\\n581340676,Positive\\n844387266,Positive\\n618666268,Positive\\n183410961,Positive\\n632986497,Positive\\n781586961,Positive\\n229739869,Positive\\n714063131,Positive\\n291740130,Positive\\n188403149,Positive\\n795984260,Positive\\n631528092,Positive\\n174535448,Positive\\n439294768,Positive\\n408047197,Positive\\n766613462,Positive\\n849265129,Positive\\n683148391,Positive\\n861374079,Positive\\n782872560,Positive\\n895944237,Positive\\n221122047,Positive\\n882848389,Positive\\n368120482,Positive\\n471110111,Positive\\n325951458,Negative\\n411346321,Negative\\n735719498,Positive\\n951956998,Positive\\n399622243,Positive\\n995903900,Positive\\n809668806,Positive\\n201674796,Positive\\n267734543,Positive\\n471909107,Positive\\n290302843,Positive\\n201209575,Positive\\n549459061,Positive\\n225424991,Positive\\n726516763,Positive\\n537182893,Positive\\n264638819,Neutral\\n618053139,Negative\\n263574264,Positive\\n578690157,Positive\\n875190615,Positive\\n198325537,Positive\\n722413534,Positive\\n336278314,Positive\\n833362477,Positive\\n353044926,Positive\\n644814331,Positive\\n826575365,Positive\\n568472693,Positive\\n757731492,Positive\\n591611715,Positive\\n664308411,Positive\\n720177165,Positive\\n965742363,Positive\\n578999153,Positive\\n620975899,Positive\\n463707171,Positive\\n140559345,Positive\\n320425514,Positive\\n469413590,Positive\\n355128358,Positive\\n760857220,Positive\\n589209185,Positive\\n963973601,Positive\\n802760941,Positive\\n446280138,Positive\\n234330586,Positive\\n417075196,Positive\\n936124647,Positive\\n249386722,Positive\\n752717824,Positive\\n521738400,Positive\\n990495500,Positive\\n288363624,Positive\\n460301989,Positive\\n760229954,Positive\\n320263849,Positive\\n725173154,Positive\\n941236685,Positive\\n183379510,Positive\\n204316903,Positive\\n225331475,Positive\\n664831694,Positive\\n832717694,Positive\\n209028587,Positive\\n430984448,Positive\\n604028861,Positive\\n973023749,Positive\\n675197174,Positive\\n171189847,Positive\\n631980289,Positive\\n675516191,Positive\\n350322798,Positive\\n546550277,Positive\\n813582995,Positive\\n754238346,Positive\\n638241651,Negative\\n163285577,Positive\\n526107123,Positive\\n440862686,Positive\\n386848838,Positive\\n477600672,Positive\\n562927970,Positive\\n433305230,Negative\\n140223491,Positive\\n987933561,Positive\\n472004454,Positive\\n624237099,Positive\\n616775040,Positive\\n683755507,Positive\\n429694147,Positive\\n255264945,Positive\\n845863502,Positive\\n148448440,Positive\\n149731654,Positive\\n188468612,Negative\\n731091484,Positive\\n161198613,Positive\\n784542191,Negative\\n714260613,Positive\\n218078021,Positive\\n584722567,Positive\\n622856870,Positive\\n751221190,Positive\\n317821871,Positive\\n739419087,Positive\\n292988847,Positive\\n892548662,Positive\\n677687460,Positive\\n969705871,Positive\\n529317480,Positive\\n775966933,Positive\\n874221122,Positive\\n715064191,Positive\\n707594199,Positive\\n302811490,Positive\\n730466936,Positive\\n686798545,Positive\\n873201776,Positive\\n379473683,Positive\\n607129551,Positive\\n866756885,Positive\\n713140715,Positive\\n250105013,Positive\\n275041959,Positive\\n823219088,Positive\\n695684788,Positive\\n607788106,Positive\\n635485691,Positive\\n560837899,Positive\\n140452023,Positive\\n843919396,Positive\\n561469245,Positive\\n599531302,Positive\\n365242484,Positive\\n656286149,Positive\\n916213308,Positive\\n638899001,Positive\\n343868898,Positive\\n451331326,Positive\\n847847639,Positive\\n653408488,Positive\\n341201236,Positive\\n645349571,Positive\\n142483767,Positive\\n717314418,Positive\\n868354638,Positive\\n261490207,Positive\\n684491851,Positive\\n874468632,Positive\\n499591645,Positive\\n153372411,Positive\\n307844273,Positive\\n788452397,Negative\\n810961672,Positive\\n214185803,Positive\\n228892711,Positive\\n433967975,Positive\\n713641212,Positive\\n636693930,Positive\\n628075000,Positive\\n204734501,Positive\\n263968099,Positive\\n413283360,Negative\\n776452019,Positive\\n553106007,Positive\\n774197315,Positive\\n168336284,Positive\\n574567988,Positive\\n766620221,Positive\\n605435406,Positive\\n917035616,Positive\\n445298395,Positive\\n187354168,Positive\\n732566117,Positive\\n939332370,Positive\\n609572750,Positive\\n585974859,Positive\\n423204708,Positive\\n784607109,Positive\\n663115266,Negative\\n990160835,Positive\\n694241696,Positive\\n273226559,Positive\\n262843243,Positive\\n659473549,Positive\\n647069708,Positive\\n315053197,Positive\\n189699297,Positive\\n676406896,Positive\\n557332432,Positive\\n281415317,Positive\\n292207980,Positive\\n532317418,Positive\\n943784858,Positive\\n373215703,Positive\\n364720626,Positive\\n196682225,Positive\\n847400665,Positive\\n525581390,Positive\\n806693225,Positive\\n662815908,Positive\\n959330155,Positive\\n511057812,Positive\\n309960564,Positive\\n273075642,Positive\\n451938391,Positive\\n244328164,Positive\\n923748806,Positive\\n944484097,Positive\\n135481095,Positive\\n230802210,Positive\\n720516556,Positive\\n548092000,Positive\\n793810102,Positive\\n617453942,Positive\\n286972787,Positive\\n418954442,Positive\\n288984637,Positive\\n112039355,Positive\\n298557467,Positive\\n411734834,Positive\\n666115696,Positive\\n805249157,Positive\\n112694967,Positive\\n594709386,Positive\\n515783776,Negative\\n259533450,Positive\\n400013616,Positive\\n608256828,Positive\\n769737414,Positive\\n128112467,Positive\\n393267398,Positive\\n410892075,Positive\\n831130572,Positive\\n996575139,Positive\\n186585390,Positive\\n802733445,Positive\\n207196144,Positive\\n949460646,Positive\\n239513683,Positive\\n315032972,Positive\\n503627122,Positive\\n320733859,Positive\\n812059956,Positive\\n153000359,Positive\\n515913296,Positive\\n636408780,Positive\\n371085360,Positive\\n755948427,Negative\\n696829406,Positive\\n279389233,Positive\\n416034488,Positive\\n695084205,Positive\\n956711181,Positive\\n320029499,Negative\\n924930869,Positive\\n545463894,Positive\\n150514513,Positive\\n340315629,Positive\\n890978005,Positive\\n898999722,Positive\\n654156289,Positive\\n266246858,Positive\\n950937794,Positive\\n984552462,Positive\\n896552550,Positive\\n848485008,Positive\\n855084954,Positive\\n871150025,Positive\\n939969187,Positive\\n881630961,Positive\\n641671101,Positive\\n790922324,Positive\\n596754687,Positive\\n429046882,Positive\\n240531762,Positive\\n831130324,Positive\\n714063506,Positive\\n445433234,Positive\\n948126188,Positive\\n420380850,Positive\\n767137139,Positive\\n762398149,Positive\\n633099480,Positive\\n640387004,Positive\\n492357383,Positive\\n132241983,Positive\\n210283470,Positive\\n446179348,Positive\\n806966912,Positive\\n957812993,Positive\\n747979645,Positive\\n446835335,Positive\\n520459944,Positive\\n977155712,Positive\\n815467652,Positive\\n958322995,Positive\\n202452800,Positive\\n607043895,Positive\\n554797368,Positive\\n760200112,Positive\\n892551406,Positive\\n194126682,Positive\\n378649433,Positive\\n937146013,Positive\\n556992055,Positive\\n835468012,Positive\\n476600334,Positive\\n324715536,Positive\\n544560510,Positive\\n416959214,Positive\\n451725605,Positive\\n916658985,Positive\\n881726554,Positive\\n634592953,Positive\\n512252048,Positive\\n566219740,Positive\\n726312299,Positive\\n206049500,Positive\\n635453811,Positive\\n470369719,Positive\\n831703054,Positive\\n306890417,Positive\\n337780268,Positive\\n876982730,Positive\\n141405212,Positive\\n475906902,Positive\\n930062938,Positive\\n508760419,Positive\\n932723988,Positive\\n400672115,Positive\\n552092428,Neutral\\n463445356,Positive\\n542262297,Positive\\n844337405,Positive\\n520003169,Positive\\n954312830,Positive\\n681554358,Positive\\n909531101,Positive\\n426148971,Positive\\n592619297,Positive\\n757433372,Positive\\n504345580,Positive\\n516609263,Positive\\n822091352,Positive\\n963976642,Positive\\n291734303,Positive\\n301437409,Positive\\n303211523,Positive\\n124558092,Positive\\n633030711,Positive\\n406595850,Positive\\n614251923,Positive\\n665826718,Positive\\n540616332,Positive\\n584170222,Positive\\n807113079,Positive\\n421974321,Negative\\n668571116,Positive\\n228174588,Positive\\n865423902,Positive\\n788858195,Positive\\n435174062,Positive\\n619356271,Positive\\n152188118,Positive\\n912344937,Positive\\n219562111,Positive\\n439691385,Positive\\n831458599,Positive\\n738077235,Positive\\n656245737,Positive\\n645183614,Positive\\n515938262,Positive\\n897954490,Positive\\n605903469,Positive\\n842649776,Positive\\n221981767,Positive\\n890380090,Positive\\n624515981,Positive\\n130123895,Positive\\n544648204,Positive\\n137698321,Positive\\n302159051,Positive\\n284508445,Positive\\n204442356,Positive\\n811813490,Neutral\\n306061230,Positive\\n809098032,Negative\\n531187077,Positive\\n735620303,Positive\\n754943613,Positive\\n528304374,Positive\\n673940796,Positive\\n170561861,Positive\\n338741309,Positive\\n164823067,Positive\\n836948376,Positive\\n531240437,Positive\\n827995029,Positive\\n844475128,Positive\\n277333600,Positive\\n766165726,Positive\\n395065627,Positive\\n125731176,Positive\\n533078817,Positive\\n840795241,Positive\\n592821281,Positive\\n900351234,Positive\\n599927615,Positive\\n542163395,Positive\\n981578141,Positive\\n840976704,Positive\\n862947889,Positive\\n873674967,Positive\\n357864457,Positive\\n849000802,Positive\\n727963046,Positive\\n205260302,Positive\\n649550585,Positive\\n507946628,Positive\\n861342326,Positive\\n971849548,Positive\\n597498156,Positive\\n638035552,Positive\\n230856213,Positive\\n845060747,Positive\\n604671790,Positive\\n900925797,Positive\\n997901988,Positive\\n830211224,Negative\\n134728982,Positive\\n688995267,Negative\\n553436515,Positive\\n409378549,Positive\\n618768063,Positive\\n258625255,Positive\\n368264071,Positive\\n117386221,Positive\\n251338825,Positive\\n690324128,Positive\\n612635061,Positive\\n118338284,Positive\\n767107507,Positive\\n820677666,Positive\\n868997319,Positive\\n363864669,Positive\\n520884188,Positive\\n917966726,Positive\\n933802900,Positive\\n813408978,Positive\\n289905533,Positive\\n553039505,Positive\\n583019498,Positive\\n666388795,Positive\\n331647657,Positive\\n684895510,Positive\\n866765044,Positive\\n213932950,Positive\\n374026176,Positive\\n192692666,Positive\\n383732595,Positive\\n747387398,Positive\\n919652309,Positive\\n962630371,Positive\\n529388989,Positive\\n854630456,Positive\\n453116564,Positive\\n446026024,Positive\\n129653286,Positive\\n825570127,Positive\\n995546547,Positive\\n973313878,Positive\\n317854420,Positive\\n567162154,Positive\\n202755574,Positive\\n444236773,Positive\\n395420629,Positive\\n176379844,Positive\\n539307671,Positive\\n990289287,Positive\\n725882512,Positive\\n707406712,Positive\\n727384971,Positive\\n698026927,Positive\\n310980164,Positive\\n237096714,Positive\\n230858220,Neutral\\n494458148,Positive\\n643378389,Positive\\n819201488,Positive\\n498802135,Positive\\n151375004,Positive\\n692095873,Positive\\n673504173,Positive\\n998190883,Positive\\n264188498,Positive\\n903399582,Positive\\n159200931,Positive\\n839275701,Positive\\n161783050,Positive\\n685376610,Positive\\n220313974,Positive\\n183308604,Positive\\n829965516,Positive\\n878382069,Positive\\n706746155,Positive\\n822165458,Positive\\n337719326,Positive\\n963151264,Positive\\n594300298,Positive\\n813839023,Positive\\n111120498,Positive\\n446372152,Positive\\n584724741,Positive\\n941666419,Positive\\n693188655,Positive\\n209238331,Positive\\n411747517,Positive\\n126002641,Positive\\n686379176,Positive\\n529345063,Positive\\n946160975,Positive\\n184922221,Positive\\n153957207,Positive\\n822347407,Positive\\n124174606,Positive\\n291159482,Positive\\n679847108,Positive\\n120493406,Negative\\n986854138,Positive\\n557712774,Positive\\n350794243,Positive\\n997373283,Positive\\n212733806,Positive\\n155764790,Positive\\n228693209,Positive\\n493172740,Positive\\n682297625,Negative\\n755178859,Negative\\n928002137,Positive\\n581421457,Positive\\n559817867,Positive\\n924468374,Positive\\n358793881,Positive\\n298583494,Negative\\n765238577,Positive\\n409507632,Positive\\n823598387,Positive\\n197803679,Positive\\n888323932,Positive\\n962862309,Negative\\n507685704,Positive\\n448305254,Positive\\n566541473,Positive\\n146855305,Positive\\n823217125,Positive\\n839291326,Positive\\n636009727,Positive\\n869914888,Positive\\n354337387,Positive\\n922890156,Positive\\n203012304,Positive\\n837338028,Positive\\n753684936,Positive\\n600744915,Positive\\n114236237,Positive\\n992954714,Positive\\n921174628,Positive\\n350271441,Positive\\n451302086,Negative\\n646160319,Positive\\n122472032,Negative\\n135833038,Positive\\n423631984,Positive\\n799089340,Positive\\n921836420,Positive\\n596451122,Positive\\n725799290,Positive\\n361841608,Positive\\n859647104,Positive\\n750311932,Positive\\n355015749,Positive\\n134360017,Positive\\n693620543,Positive\\n951560961,Positive\\n633209022,Positive\\n223103599,Positive\\n966086657,Positive\\n615650298,Positive\\n505191080,Positive\\n174671741,Positive\\n491980624,Positive\\n851924993,Positive\\n409976799,Positive\\n339291757,Positive\\n136161056,Positive\\n261098742,Positive\\n479810711,Positive\\n283619800,Positive\\n728483538,Negative\\n566542654,Positive\\n465800056,Positive\\n988517450,Positive\\n769559726,Positive\\n537316626,Positive\\n871675392,Positive\\n751604188,Positive\\n382286141,Positive\\n286560862,Positive\\n597955294,Positive\\n441210049,Positive\\n726403788,Positive\\n694168296,Positive\\n352825342,Positive\\n900959556,Positive\\n998756081,Positive\\n421148113,Positive\\n729299072,Positive\\n475348195,Positive\\n'"
      ]
     },
     "execution_count": 85,
     "metadata": {},
     "output_type": "execute_result"
    }
   ],
   "source": [
    "df_new.to_csv(index = False)"
   ]
  }
 ],
 "metadata": {
  "colab": {
   "collapsed_sections": [],
   "name": "Code_27680975.ipynb",
   "provenance": []
  },
  "kernelspec": {
   "display_name": "Python 3",
   "language": "python",
   "name": "python3"
  },
  "language_info": {
   "codemirror_mode": {
    "name": "ipython",
    "version": 3
   },
   "file_extension": ".py",
   "mimetype": "text/x-python",
   "name": "python",
   "nbconvert_exporter": "python",
   "pygments_lexer": "ipython3",
   "version": "3.8.8"
  }
 },
 "nbformat": 4,
 "nbformat_minor": 1
}
